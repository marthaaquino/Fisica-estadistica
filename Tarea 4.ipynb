{
 "cells": [
  {
   "cell_type": "code",
   "execution_count": 2,
   "metadata": {},
   "outputs": [],
   "source": [
    "using Plots\n",
    "using Distributions\n",
    "using Random"
   ]
  },
  {
   "cell_type": "markdown",
   "metadata": {},
   "source": [
    "Dada la ecuación\n",
    "$$X(t)=N_{0,x}^{t}(0,1)\\sqrt{\\delta^2t} $$\n",
    "se tiene que la posición inicial de la partícula se encuentra en 0. \n",
    "\n",
    "A partir de la simulación de Monte Carlo\n",
    "\n",
    "$$X(t+\\Delta t)=x(t)+N_{t,x}^{t+\\Delta t}(0,1)\\sqrt{\\delta^2 \\Delta t} $$"
   ]
  },
  {
   "cell_type": "markdown",
   "metadata": {},
   "source": [
    "Donde $x(t)=X(t)$.\n",
    "\n",
    "Realizando las primeras iteraciones, $t_0$\n",
    "$$X(t_0)=0$$"
   ]
  },
  {
   "cell_type": "markdown",
   "metadata": {},
   "source": [
    "Al instante $t_1=t_0+\\Delta t=0+\\Delta t$\n",
    "\n",
    "$$ X(t_0+\\Delta t)=X(t_0+\\Delta t)=x(t_0)+N_{0,x}^{\\Delta t} (0,1)\\sqrt{\\delta^2 \\Delta t}=0+N_{0,x}^{\\Delta t} (0,1)\\sqrt{\\delta^2 \\Delta t} $$"
   ]
  },
  {
   "cell_type": "markdown",
   "metadata": {},
   "source": [
    "Para la siguiente iteración, $t_2=t_1+\\Delta t= 2\\Delta t$\n",
    "\n",
    "$$X(t_1+\\Delta t)=x(t_1)+N_{t_1,x}^{ t_1+\\Delta t} (0,1)\\sqrt{\\delta^2 \\Delta t} $$"
   ]
  },
  {
   "cell_type": "markdown",
   "metadata": {},
   "source": [
    "$$X(t_1+\\Delta t)=N_{0,x}^{\\Delta t} (0,1)\\sqrt{\\delta^2 \\Delta t}+N_{t_1,x}^{ t_2} (0,1)\\sqrt{\\delta^2 \\Delta t} $$"
   ]
  },
  {
   "cell_type": "markdown",
   "metadata": {},
   "source": [
    "Para la siguiente iteración consideramos $t_3=t_2+\\Delta t$\n",
    "$$ X(t_2+\\Delta t)=x(t_1+\\Delta t)+N_{t_2,x}^{ t_2+\\Delta t} (0,1)\\sqrt{\\delta^2 \\Delta t}$$"
   ]
  },
  {
   "cell_type": "markdown",
   "metadata": {},
   "source": [
    "$$X(t_3)=N_{0,x}^{\\Delta t} (0,1)\\sqrt{\\delta^2 \\Delta t}+N_{t_1,x}^{ t_2} (0,1)\\sqrt{\\delta^2 \\Delta t}+N_{t_2,x}^{ t_2+\\Delta t} (0,1)\\sqrt{\\delta^2 \\Delta t} $$"
   ]
  },
  {
   "cell_type": "markdown",
   "metadata": {},
   "source": [
    "Podemos ver entonces que para n+1 iteraciones se vale la ecuación \n",
    "$$X(t_n+\\Delta t)=\\sum_{i=0}^{n+1}N_{t_{n},x}^{t_n+\\Delta t} $$"
   ]
  },
  {
   "cell_type": "code",
   "execution_count": 3,
   "metadata": {},
   "outputs": [
    {
     "data": {
      "text/plain": [
       "X (generic function with 1 method)"
      ]
     },
     "execution_count": 3,
     "metadata": {},
     "output_type": "execute_result"
    }
   ],
   "source": [
    "#n=número de iteraciones\n",
    "function X(δ,t₀,Δt,n,x₀)\n",
    "    x=zeros(n+1)\n",
    "    x[1]=x₀\n",
    "    for i in 1:n\n",
    "        x[i+1]=rand(Normal(0,1))*(δ^2*Δt)^(1/2)+x[i]\n",
    "    end\n",
    "    return x\n",
    "end"
   ]
  },
  {
   "cell_type": "markdown",
   "metadata": {},
   "source": [
    "Haciendo pruebas:"
   ]
  },
  {
   "cell_type": "code",
   "execution_count": 8,
   "metadata": {},
   "outputs": [
    {
     "data": {
      "image/svg+xml": [
       "<?xml version=\"1.0\" encoding=\"utf-8\"?>\n",
       "<svg xmlns=\"http://www.w3.org/2000/svg\" xmlns:xlink=\"http://www.w3.org/1999/xlink\" width=\"600\" height=\"400\" viewBox=\"0 0 2400 1600\">\n",
       "<defs>\n",
       "  <clipPath id=\"clip310\">\n",
       "    <rect x=\"0\" y=\"0\" width=\"2400\" height=\"1600\"/>\n",
       "  </clipPath>\n",
       "</defs>\n",
       "<path clip-path=\"url(#clip310)\" d=\"\n",
       "M0 1600 L2400 1600 L2400 0 L0 0  Z\n",
       "  \" fill=\"#ffffff\" fill-rule=\"evenodd\" fill-opacity=\"1\"/>\n",
       "<defs>\n",
       "  <clipPath id=\"clip311\">\n",
       "    <rect x=\"480\" y=\"0\" width=\"1681\" height=\"1600\"/>\n",
       "  </clipPath>\n",
       "</defs>\n",
       "<path clip-path=\"url(#clip310)\" d=\"\n",
       "M179.654 1486.45 L2352.76 1486.45 L2352.76 47.2441 L179.654 47.2441  Z\n",
       "  \" fill=\"#ffffff\" fill-rule=\"evenodd\" fill-opacity=\"1\"/>\n",
       "<defs>\n",
       "  <clipPath id=\"clip312\">\n",
       "    <rect x=\"179\" y=\"47\" width=\"2174\" height=\"1440\"/>\n",
       "  </clipPath>\n",
       "</defs>\n",
       "<polyline clip-path=\"url(#clip312)\" style=\"stroke:#000000; stroke-width:2; stroke-opacity:0.1; fill:none\" points=\"\n",
       "  241.157,1486.45 241.157,47.2441 \n",
       "  \"/>\n",
       "<polyline clip-path=\"url(#clip312)\" style=\"stroke:#000000; stroke-width:2; stroke-opacity:0.1; fill:none\" points=\"\n",
       "  707.088,1486.45 707.088,47.2441 \n",
       "  \"/>\n",
       "<polyline clip-path=\"url(#clip312)\" style=\"stroke:#000000; stroke-width:2; stroke-opacity:0.1; fill:none\" points=\"\n",
       "  1173.02,1486.45 1173.02,47.2441 \n",
       "  \"/>\n",
       "<polyline clip-path=\"url(#clip312)\" style=\"stroke:#000000; stroke-width:2; stroke-opacity:0.1; fill:none\" points=\"\n",
       "  1638.95,1486.45 1638.95,47.2441 \n",
       "  \"/>\n",
       "<polyline clip-path=\"url(#clip312)\" style=\"stroke:#000000; stroke-width:2; stroke-opacity:0.1; fill:none\" points=\"\n",
       "  2104.88,1486.45 2104.88,47.2441 \n",
       "  \"/>\n",
       "<polyline clip-path=\"url(#clip310)\" style=\"stroke:#000000; stroke-width:4; stroke-opacity:1; fill:none\" points=\"\n",
       "  179.654,1486.45 2352.76,1486.45 \n",
       "  \"/>\n",
       "<polyline clip-path=\"url(#clip310)\" style=\"stroke:#000000; stroke-width:4; stroke-opacity:1; fill:none\" points=\"\n",
       "  241.157,1486.45 241.157,1469.18 \n",
       "  \"/>\n",
       "<polyline clip-path=\"url(#clip310)\" style=\"stroke:#000000; stroke-width:4; stroke-opacity:1; fill:none\" points=\"\n",
       "  707.088,1486.45 707.088,1469.18 \n",
       "  \"/>\n",
       "<polyline clip-path=\"url(#clip310)\" style=\"stroke:#000000; stroke-width:4; stroke-opacity:1; fill:none\" points=\"\n",
       "  1173.02,1486.45 1173.02,1469.18 \n",
       "  \"/>\n",
       "<polyline clip-path=\"url(#clip310)\" style=\"stroke:#000000; stroke-width:4; stroke-opacity:1; fill:none\" points=\"\n",
       "  1638.95,1486.45 1638.95,1469.18 \n",
       "  \"/>\n",
       "<polyline clip-path=\"url(#clip310)\" style=\"stroke:#000000; stroke-width:4; stroke-opacity:1; fill:none\" points=\"\n",
       "  2104.88,1486.45 2104.88,1469.18 \n",
       "  \"/>\n",
       "<path clip-path=\"url(#clip310)\" d=\"M 0 0 M209.166 1515.64 Q205.555 1515.64 203.726 1519.2 Q201.921 1522.75 201.921 1529.87 Q201.921 1536.98 203.726 1540.55 Q205.555 1544.09 209.166 1544.09 Q212.8 1544.09 214.606 1540.55 Q216.434 1536.98 216.434 1529.87 Q216.434 1522.75 214.606 1519.2 Q212.8 1515.64 209.166 1515.64 M209.166 1511.93 Q214.976 1511.93 218.032 1516.54 Q221.11 1521.12 221.11 1529.87 Q221.11 1538.6 218.032 1543.21 Q214.976 1547.79 209.166 1547.79 Q203.356 1547.79 200.277 1543.21 Q197.222 1538.6 197.222 1529.87 Q197.222 1521.12 200.277 1516.54 Q203.356 1511.93 209.166 1511.93 Z\" fill=\"#000000\" fill-rule=\"evenodd\" fill-opacity=\"1\" /><path clip-path=\"url(#clip310)\" d=\"M 0 0 M226.18 1541.24 L231.064 1541.24 L231.064 1547.12 L226.18 1547.12 L226.18 1541.24 Z\" fill=\"#000000\" fill-rule=\"evenodd\" fill-opacity=\"1\" /><path clip-path=\"url(#clip310)\" d=\"M 0 0 M246.133 1515.64 Q242.522 1515.64 240.694 1519.2 Q238.888 1522.75 238.888 1529.87 Q238.888 1536.98 240.694 1540.55 Q242.522 1544.09 246.133 1544.09 Q249.768 1544.09 251.573 1540.55 Q253.402 1536.98 253.402 1529.87 Q253.402 1522.75 251.573 1519.2 Q249.768 1515.64 246.133 1515.64 M246.133 1511.93 Q251.944 1511.93 254.999 1516.54 Q258.078 1521.12 258.078 1529.87 Q258.078 1538.6 254.999 1543.21 Q251.944 1547.79 246.133 1547.79 Q240.323 1547.79 237.245 1543.21 Q234.189 1538.6 234.189 1529.87 Q234.189 1521.12 237.245 1516.54 Q240.323 1511.93 246.133 1511.93 Z\" fill=\"#000000\" fill-rule=\"evenodd\" fill-opacity=\"1\" /><path clip-path=\"url(#clip310)\" d=\"M 0 0 M273.147 1515.64 Q269.536 1515.64 267.707 1519.2 Q265.902 1522.75 265.902 1529.87 Q265.902 1536.98 267.707 1540.55 Q269.536 1544.09 273.147 1544.09 Q276.781 1544.09 278.587 1540.55 Q280.416 1536.98 280.416 1529.87 Q280.416 1522.75 278.587 1519.2 Q276.781 1515.64 273.147 1515.64 M273.147 1511.93 Q278.957 1511.93 282.013 1516.54 Q285.092 1521.12 285.092 1529.87 Q285.092 1538.6 282.013 1543.21 Q278.957 1547.79 273.147 1547.79 Q267.337 1547.79 264.258 1543.21 Q261.203 1538.6 261.203 1529.87 Q261.203 1521.12 264.258 1516.54 Q267.337 1511.93 273.147 1511.93 Z\" fill=\"#000000\" fill-rule=\"evenodd\" fill-opacity=\"1\" /><path clip-path=\"url(#clip310)\" d=\"M 0 0 M676.393 1515.64 Q672.782 1515.64 670.954 1519.2 Q669.148 1522.75 669.148 1529.87 Q669.148 1536.98 670.954 1540.55 Q672.782 1544.09 676.393 1544.09 Q680.028 1544.09 681.833 1540.55 Q683.662 1536.98 683.662 1529.87 Q683.662 1522.75 681.833 1519.2 Q680.028 1515.64 676.393 1515.64 M676.393 1511.93 Q682.203 1511.93 685.259 1516.54 Q688.338 1521.12 688.338 1529.87 Q688.338 1538.6 685.259 1543.21 Q682.203 1547.79 676.393 1547.79 Q670.583 1547.79 667.504 1543.21 Q664.449 1538.6 664.449 1529.87 Q664.449 1521.12 667.504 1516.54 Q670.583 1511.93 676.393 1511.93 Z\" fill=\"#000000\" fill-rule=\"evenodd\" fill-opacity=\"1\" /><path clip-path=\"url(#clip310)\" d=\"M 0 0 M693.407 1541.24 L698.291 1541.24 L698.291 1547.12 L693.407 1547.12 L693.407 1541.24 Z\" fill=\"#000000\" fill-rule=\"evenodd\" fill-opacity=\"1\" /><path clip-path=\"url(#clip310)\" d=\"M 0 0 M707.388 1543.18 L723.708 1543.18 L723.708 1547.12 L701.764 1547.12 L701.764 1543.18 Q704.426 1540.43 709.009 1535.8 Q713.615 1531.15 714.796 1529.81 Q717.041 1527.28 717.921 1525.55 Q718.824 1523.79 718.824 1522.1 Q718.824 1519.34 716.879 1517.61 Q714.958 1515.87 711.856 1515.87 Q709.657 1515.87 707.203 1516.63 Q704.773 1517.4 701.995 1518.95 L701.995 1514.23 Q704.819 1513.09 707.273 1512.51 Q709.726 1511.93 711.763 1511.93 Q717.134 1511.93 720.328 1514.62 Q723.523 1517.31 723.523 1521.8 Q723.523 1523.93 722.712 1525.85 Q721.925 1527.74 719.819 1530.34 Q719.24 1531.01 716.138 1534.23 Q713.037 1537.42 707.388 1543.18 Z\" fill=\"#000000\" fill-rule=\"evenodd\" fill-opacity=\"1\" /><path clip-path=\"url(#clip310)\" d=\"M 0 0 M728.824 1512.56 L747.18 1512.56 L747.18 1516.5 L733.106 1516.5 L733.106 1524.97 Q734.124 1524.62 735.143 1524.46 Q736.161 1524.27 737.18 1524.27 Q742.967 1524.27 746.347 1527.44 Q749.726 1530.62 749.726 1536.03 Q749.726 1541.61 746.254 1544.71 Q742.782 1547.79 736.462 1547.79 Q734.287 1547.79 732.018 1547.42 Q729.773 1547.05 727.365 1546.31 L727.365 1541.61 Q729.449 1542.74 731.671 1543.3 Q733.893 1543.86 736.37 1543.86 Q740.374 1543.86 742.712 1541.75 Q745.05 1539.64 745.05 1536.03 Q745.05 1532.42 742.712 1530.31 Q740.374 1528.21 736.37 1528.21 Q734.495 1528.21 732.62 1528.62 Q730.768 1529.04 728.824 1529.92 L728.824 1512.56 Z\" fill=\"#000000\" fill-rule=\"evenodd\" fill-opacity=\"1\" /><path clip-path=\"url(#clip310)\" d=\"M 0 0 M1141.53 1515.64 Q1137.91 1515.64 1136.09 1519.2 Q1134.28 1522.75 1134.28 1529.87 Q1134.28 1536.98 1136.09 1540.55 Q1137.91 1544.09 1141.53 1544.09 Q1145.16 1544.09 1146.97 1540.55 Q1148.79 1536.98 1148.79 1529.87 Q1148.79 1522.75 1146.97 1519.2 Q1145.16 1515.64 1141.53 1515.64 M1141.53 1511.93 Q1147.34 1511.93 1150.39 1516.54 Q1153.47 1521.12 1153.47 1529.87 Q1153.47 1538.6 1150.39 1543.21 Q1147.34 1547.79 1141.53 1547.79 Q1135.72 1547.79 1132.64 1543.21 Q1129.58 1538.6 1129.58 1529.87 Q1129.58 1521.12 1132.64 1516.54 Q1135.72 1511.93 1141.53 1511.93 Z\" fill=\"#000000\" fill-rule=\"evenodd\" fill-opacity=\"1\" /><path clip-path=\"url(#clip310)\" d=\"M 0 0 M1158.54 1541.24 L1163.42 1541.24 L1163.42 1547.12 L1158.54 1547.12 L1158.54 1541.24 Z\" fill=\"#000000\" fill-rule=\"evenodd\" fill-opacity=\"1\" /><path clip-path=\"url(#clip310)\" d=\"M 0 0 M1168.54 1512.56 L1186.9 1512.56 L1186.9 1516.5 L1172.82 1516.5 L1172.82 1524.97 Q1173.84 1524.62 1174.86 1524.46 Q1175.88 1524.27 1176.9 1524.27 Q1182.68 1524.27 1186.06 1527.44 Q1189.44 1530.62 1189.44 1536.03 Q1189.44 1541.61 1185.97 1544.71 Q1182.5 1547.79 1176.18 1547.79 Q1174 1547.79 1171.73 1547.42 Q1169.49 1547.05 1167.08 1546.31 L1167.08 1541.61 Q1169.16 1542.74 1171.39 1543.3 Q1173.61 1543.86 1176.09 1543.86 Q1180.09 1543.86 1182.43 1541.75 Q1184.77 1539.64 1184.77 1536.03 Q1184.77 1532.42 1182.43 1530.31 Q1180.09 1528.21 1176.09 1528.21 Q1174.21 1528.21 1172.34 1528.62 Q1170.48 1529.04 1168.54 1529.92 L1168.54 1512.56 Z\" fill=\"#000000\" fill-rule=\"evenodd\" fill-opacity=\"1\" /><path clip-path=\"url(#clip310)\" d=\"M 0 0 M1204.51 1515.64 Q1200.9 1515.64 1199.07 1519.2 Q1197.27 1522.75 1197.27 1529.87 Q1197.27 1536.98 1199.07 1540.55 Q1200.9 1544.09 1204.51 1544.09 Q1208.15 1544.09 1209.95 1540.55 Q1211.78 1536.98 1211.78 1529.87 Q1211.78 1522.75 1209.95 1519.2 Q1208.15 1515.64 1204.51 1515.64 M1204.51 1511.93 Q1210.32 1511.93 1213.38 1516.54 Q1216.46 1521.12 1216.46 1529.87 Q1216.46 1538.6 1213.38 1543.21 Q1210.32 1547.79 1204.51 1547.79 Q1198.7 1547.79 1195.62 1543.21 Q1192.57 1538.6 1192.57 1529.87 Q1192.57 1521.12 1195.62 1516.54 Q1198.7 1511.93 1204.51 1511.93 Z\" fill=\"#000000\" fill-rule=\"evenodd\" fill-opacity=\"1\" /><path clip-path=\"url(#clip310)\" d=\"M 0 0 M1607.91 1515.64 Q1604.3 1515.64 1602.47 1519.2 Q1600.66 1522.75 1600.66 1529.87 Q1600.66 1536.98 1602.47 1540.55 Q1604.3 1544.09 1607.91 1544.09 Q1611.54 1544.09 1613.35 1540.55 Q1615.18 1536.98 1615.18 1529.87 Q1615.18 1522.75 1613.35 1519.2 Q1611.54 1515.64 1607.91 1515.64 M1607.91 1511.93 Q1613.72 1511.93 1616.77 1516.54 Q1619.85 1521.12 1619.85 1529.87 Q1619.85 1538.6 1616.77 1543.21 Q1613.72 1547.79 1607.91 1547.79 Q1602.1 1547.79 1599.02 1543.21 Q1595.96 1538.6 1595.96 1529.87 Q1595.96 1521.12 1599.02 1516.54 Q1602.1 1511.93 1607.91 1511.93 Z\" fill=\"#000000\" fill-rule=\"evenodd\" fill-opacity=\"1\" /><path clip-path=\"url(#clip310)\" d=\"M 0 0 M1624.92 1541.24 L1629.81 1541.24 L1629.81 1547.12 L1624.92 1547.12 L1624.92 1541.24 Z\" fill=\"#000000\" fill-rule=\"evenodd\" fill-opacity=\"1\" /><path clip-path=\"url(#clip310)\" d=\"M 0 0 M1633.69 1512.56 L1655.92 1512.56 L1655.92 1514.55 L1643.37 1547.12 L1638.49 1547.12 L1650.29 1516.5 L1633.69 1516.5 L1633.69 1512.56 Z\" fill=\"#000000\" fill-rule=\"evenodd\" fill-opacity=\"1\" /><path clip-path=\"url(#clip310)\" d=\"M 0 0 M1661.03 1512.56 L1679.39 1512.56 L1679.39 1516.5 L1665.32 1516.5 L1665.32 1524.97 Q1666.33 1524.62 1667.35 1524.46 Q1668.37 1524.27 1669.39 1524.27 Q1675.18 1524.27 1678.56 1527.44 Q1681.94 1530.62 1681.94 1536.03 Q1681.94 1541.61 1678.46 1544.71 Q1674.99 1547.79 1668.67 1547.79 Q1666.5 1547.79 1664.23 1547.42 Q1661.98 1547.05 1659.57 1546.31 L1659.57 1541.61 Q1661.66 1542.74 1663.88 1543.3 Q1666.1 1543.86 1668.58 1543.86 Q1672.58 1543.86 1674.92 1541.75 Q1677.26 1539.64 1677.26 1536.03 Q1677.26 1532.42 1674.92 1530.31 Q1672.58 1528.21 1668.58 1528.21 Q1666.7 1528.21 1664.83 1528.62 Q1662.98 1529.04 1661.03 1529.92 L1661.03 1512.56 Z\" fill=\"#000000\" fill-rule=\"evenodd\" fill-opacity=\"1\" /><path clip-path=\"url(#clip310)\" d=\"M 0 0 M2063.27 1543.18 L2070.91 1543.18 L2070.91 1516.82 L2062.6 1518.49 L2062.6 1514.23 L2070.86 1512.56 L2075.54 1512.56 L2075.54 1543.18 L2083.18 1543.18 L2083.18 1547.12 L2063.27 1547.12 L2063.27 1543.18 Z\" fill=\"#000000\" fill-rule=\"evenodd\" fill-opacity=\"1\" /><path clip-path=\"url(#clip310)\" d=\"M 0 0 M2088.25 1541.24 L2093.13 1541.24 L2093.13 1547.12 L2088.25 1547.12 L2088.25 1541.24 Z\" fill=\"#000000\" fill-rule=\"evenodd\" fill-opacity=\"1\" /><path clip-path=\"url(#clip310)\" d=\"M 0 0 M2108.2 1515.64 Q2104.59 1515.64 2102.76 1519.2 Q2100.96 1522.75 2100.96 1529.87 Q2100.96 1536.98 2102.76 1540.55 Q2104.59 1544.09 2108.2 1544.09 Q2111.84 1544.09 2113.64 1540.55 Q2115.47 1536.98 2115.47 1529.87 Q2115.47 1522.75 2113.64 1519.2 Q2111.84 1515.64 2108.2 1515.64 M2108.2 1511.93 Q2114.01 1511.93 2117.07 1516.54 Q2120.15 1521.12 2120.15 1529.87 Q2120.15 1538.6 2117.07 1543.21 Q2114.01 1547.79 2108.2 1547.79 Q2102.39 1547.79 2099.31 1543.21 Q2096.26 1538.6 2096.26 1529.87 Q2096.26 1521.12 2099.31 1516.54 Q2102.39 1511.93 2108.2 1511.93 Z\" fill=\"#000000\" fill-rule=\"evenodd\" fill-opacity=\"1\" /><path clip-path=\"url(#clip310)\" d=\"M 0 0 M2135.22 1515.64 Q2131.61 1515.64 2129.78 1519.2 Q2127.97 1522.75 2127.97 1529.87 Q2127.97 1536.98 2129.78 1540.55 Q2131.61 1544.09 2135.22 1544.09 Q2138.85 1544.09 2140.66 1540.55 Q2142.48 1536.98 2142.48 1529.87 Q2142.48 1522.75 2140.66 1519.2 Q2138.85 1515.64 2135.22 1515.64 M2135.22 1511.93 Q2141.03 1511.93 2144.08 1516.54 Q2147.16 1521.12 2147.16 1529.87 Q2147.16 1538.6 2144.08 1543.21 Q2141.03 1547.79 2135.22 1547.79 Q2129.41 1547.79 2126.33 1543.21 Q2123.27 1538.6 2123.27 1529.87 Q2123.27 1521.12 2126.33 1516.54 Q2129.41 1511.93 2135.22 1511.93 Z\" fill=\"#000000\" fill-rule=\"evenodd\" fill-opacity=\"1\" /><polyline clip-path=\"url(#clip312)\" style=\"stroke:#000000; stroke-width:2; stroke-opacity:0.1; fill:none\" points=\"\n",
       "  179.654,1286.51 2352.76,1286.51 \n",
       "  \"/>\n",
       "<polyline clip-path=\"url(#clip312)\" style=\"stroke:#000000; stroke-width:2; stroke-opacity:0.1; fill:none\" points=\"\n",
       "  179.654,1050.99 2352.76,1050.99 \n",
       "  \"/>\n",
       "<polyline clip-path=\"url(#clip312)\" style=\"stroke:#000000; stroke-width:2; stroke-opacity:0.1; fill:none\" points=\"\n",
       "  179.654,815.468 2352.76,815.468 \n",
       "  \"/>\n",
       "<polyline clip-path=\"url(#clip312)\" style=\"stroke:#000000; stroke-width:2; stroke-opacity:0.1; fill:none\" points=\"\n",
       "  179.654,579.945 2352.76,579.945 \n",
       "  \"/>\n",
       "<polyline clip-path=\"url(#clip312)\" style=\"stroke:#000000; stroke-width:2; stroke-opacity:0.1; fill:none\" points=\"\n",
       "  179.654,344.423 2352.76,344.423 \n",
       "  \"/>\n",
       "<polyline clip-path=\"url(#clip312)\" style=\"stroke:#000000; stroke-width:2; stroke-opacity:0.1; fill:none\" points=\"\n",
       "  179.654,108.9 2352.76,108.9 \n",
       "  \"/>\n",
       "<polyline clip-path=\"url(#clip310)\" style=\"stroke:#000000; stroke-width:4; stroke-opacity:1; fill:none\" points=\"\n",
       "  179.654,1486.45 179.654,47.2441 \n",
       "  \"/>\n",
       "<polyline clip-path=\"url(#clip310)\" style=\"stroke:#000000; stroke-width:4; stroke-opacity:1; fill:none\" points=\"\n",
       "  179.654,1286.51 205.731,1286.51 \n",
       "  \"/>\n",
       "<polyline clip-path=\"url(#clip310)\" style=\"stroke:#000000; stroke-width:4; stroke-opacity:1; fill:none\" points=\"\n",
       "  179.654,1050.99 205.731,1050.99 \n",
       "  \"/>\n",
       "<polyline clip-path=\"url(#clip310)\" style=\"stroke:#000000; stroke-width:4; stroke-opacity:1; fill:none\" points=\"\n",
       "  179.654,815.468 205.731,815.468 \n",
       "  \"/>\n",
       "<polyline clip-path=\"url(#clip310)\" style=\"stroke:#000000; stroke-width:4; stroke-opacity:1; fill:none\" points=\"\n",
       "  179.654,579.945 205.731,579.945 \n",
       "  \"/>\n",
       "<polyline clip-path=\"url(#clip310)\" style=\"stroke:#000000; stroke-width:4; stroke-opacity:1; fill:none\" points=\"\n",
       "  179.654,344.423 205.731,344.423 \n",
       "  \"/>\n",
       "<polyline clip-path=\"url(#clip310)\" style=\"stroke:#000000; stroke-width:4; stroke-opacity:1; fill:none\" points=\"\n",
       "  179.654,108.9 205.731,108.9 \n",
       "  \"/>\n",
       "<path clip-path=\"url(#clip310)\" d=\"M 0 0 M50.9921 1286.96 L80.6679 1286.96 L80.6679 1290.9 L50.9921 1290.9 L50.9921 1286.96 Z\" fill=\"#000000\" fill-rule=\"evenodd\" fill-opacity=\"1\" /><path clip-path=\"url(#clip310)\" d=\"M 0 0 M95.7373 1272.31 Q92.1262 1272.31 90.2975 1275.88 Q88.4919 1279.42 88.4919 1286.55 Q88.4919 1293.65 90.2975 1297.22 Q92.1262 1300.76 95.7373 1300.76 Q99.3715 1300.76 101.177 1297.22 Q103.006 1293.65 103.006 1286.55 Q103.006 1279.42 101.177 1275.88 Q99.3715 1272.31 95.7373 1272.31 M95.7373 1268.61 Q101.547 1268.61 104.603 1273.21 Q107.682 1277.8 107.682 1286.55 Q107.682 1295.27 104.603 1299.88 Q101.547 1304.46 95.7373 1304.46 Q89.9271 1304.46 86.8484 1299.88 Q83.7929 1295.27 83.7929 1286.55 Q83.7929 1277.8 86.8484 1273.21 Q89.9271 1268.61 95.7373 1268.61 Z\" fill=\"#000000\" fill-rule=\"evenodd\" fill-opacity=\"1\" /><path clip-path=\"url(#clip310)\" d=\"M 0 0 M112.751 1297.91 L117.635 1297.91 L117.635 1303.79 L112.751 1303.79 L112.751 1297.91 Z\" fill=\"#000000\" fill-rule=\"evenodd\" fill-opacity=\"1\" /><path clip-path=\"url(#clip310)\" d=\"M 0 0 M122.751 1269.23 L141.107 1269.23 L141.107 1273.17 L127.033 1273.17 L127.033 1281.64 Q128.052 1281.29 129.07 1281.13 Q130.089 1280.95 131.107 1280.95 Q136.894 1280.95 140.274 1284.12 Q143.654 1287.29 143.654 1292.71 Q143.654 1298.28 140.181 1301.39 Q136.709 1304.46 130.39 1304.46 Q128.214 1304.46 125.945 1304.09 Q123.7 1303.72 121.293 1302.98 L121.293 1298.28 Q123.376 1299.42 125.598 1299.97 Q127.82 1300.53 130.297 1300.53 Q134.302 1300.53 136.64 1298.42 Q138.978 1296.32 138.978 1292.71 Q138.978 1289.09 136.64 1286.99 Q134.302 1284.88 130.297 1284.88 Q128.422 1284.88 126.547 1285.3 Q124.695 1285.71 122.751 1286.59 L122.751 1269.23 Z\" fill=\"#000000\" fill-rule=\"evenodd\" fill-opacity=\"1\" /><path clip-path=\"url(#clip310)\" d=\"M 0 0 M94.7419 1036.79 Q91.1308 1036.79 89.3021 1040.35 Q87.4966 1043.9 87.4966 1051.03 Q87.4966 1058.13 89.3021 1061.7 Q91.1308 1065.24 94.7419 1065.24 Q98.3761 1065.24 100.182 1061.7 Q102.01 1058.13 102.01 1051.03 Q102.01 1043.9 100.182 1040.35 Q98.3761 1036.79 94.7419 1036.79 M94.7419 1033.09 Q100.552 1033.09 103.608 1037.69 Q106.686 1042.28 106.686 1051.03 Q106.686 1059.75 103.608 1064.36 Q100.552 1068.94 94.7419 1068.94 Q88.9317 1068.94 85.8531 1064.36 Q82.7975 1059.75 82.7975 1051.03 Q82.7975 1042.28 85.8531 1037.69 Q88.9317 1033.09 94.7419 1033.09 Z\" fill=\"#000000\" fill-rule=\"evenodd\" fill-opacity=\"1\" /><path clip-path=\"url(#clip310)\" d=\"M 0 0 M111.756 1062.39 L116.64 1062.39 L116.64 1068.27 L111.756 1068.27 L111.756 1062.39 Z\" fill=\"#000000\" fill-rule=\"evenodd\" fill-opacity=\"1\" /><path clip-path=\"url(#clip310)\" d=\"M 0 0 M131.709 1036.79 Q128.098 1036.79 126.27 1040.35 Q124.464 1043.9 124.464 1051.03 Q124.464 1058.13 126.27 1061.7 Q128.098 1065.24 131.709 1065.24 Q135.344 1065.24 137.149 1061.7 Q138.978 1058.13 138.978 1051.03 Q138.978 1043.9 137.149 1040.35 Q135.344 1036.79 131.709 1036.79 M131.709 1033.09 Q137.519 1033.09 140.575 1037.69 Q143.654 1042.28 143.654 1051.03 Q143.654 1059.75 140.575 1064.36 Q137.519 1068.94 131.709 1068.94 Q125.899 1068.94 122.82 1064.36 Q119.765 1059.75 119.765 1051.03 Q119.765 1042.28 122.82 1037.69 Q125.899 1033.09 131.709 1033.09 Z\" fill=\"#000000\" fill-rule=\"evenodd\" fill-opacity=\"1\" /><path clip-path=\"url(#clip310)\" d=\"M 0 0 M95.7373 801.267 Q92.1262 801.267 90.2975 804.831 Q88.4919 808.373 88.4919 815.503 Q88.4919 822.609 90.2975 826.174 Q92.1262 829.716 95.7373 829.716 Q99.3715 829.716 101.177 826.174 Q103.006 822.609 103.006 815.503 Q103.006 808.373 101.177 804.831 Q99.3715 801.267 95.7373 801.267 M95.7373 797.563 Q101.547 797.563 104.603 802.169 Q107.682 806.753 107.682 815.503 Q107.682 824.229 104.603 828.836 Q101.547 833.419 95.7373 833.419 Q89.9271 833.419 86.8484 828.836 Q83.7929 824.229 83.7929 815.503 Q83.7929 806.753 86.8484 802.169 Q89.9271 797.563 95.7373 797.563 Z\" fill=\"#000000\" fill-rule=\"evenodd\" fill-opacity=\"1\" /><path clip-path=\"url(#clip310)\" d=\"M 0 0 M112.751 826.868 L117.635 826.868 L117.635 832.748 L112.751 832.748 L112.751 826.868 Z\" fill=\"#000000\" fill-rule=\"evenodd\" fill-opacity=\"1\" /><path clip-path=\"url(#clip310)\" d=\"M 0 0 M122.751 798.188 L141.107 798.188 L141.107 802.123 L127.033 802.123 L127.033 810.595 Q128.052 810.248 129.07 810.086 Q130.089 809.901 131.107 809.901 Q136.894 809.901 140.274 813.072 Q143.654 816.243 143.654 821.66 Q143.654 827.239 140.181 830.341 Q136.709 833.419 130.39 833.419 Q128.214 833.419 125.945 833.049 Q123.7 832.678 121.293 831.938 L121.293 827.239 Q123.376 828.373 125.598 828.928 Q127.82 829.484 130.297 829.484 Q134.302 829.484 136.64 827.378 Q138.978 825.271 138.978 821.66 Q138.978 818.049 136.64 815.942 Q134.302 813.836 130.297 813.836 Q128.422 813.836 126.547 814.253 Q124.695 814.669 122.751 815.549 L122.751 798.188 Z\" fill=\"#000000\" fill-rule=\"evenodd\" fill-opacity=\"1\" /><path clip-path=\"url(#clip310)\" d=\"M 0 0 M86.779 593.29 L94.4178 593.29 L94.4178 566.925 L86.1077 568.591 L86.1077 564.332 L94.3715 562.665 L99.0474 562.665 L99.0474 593.29 L106.686 593.29 L106.686 597.225 L86.779 597.225 L86.779 593.29 Z\" fill=\"#000000\" fill-rule=\"evenodd\" fill-opacity=\"1\" /><path clip-path=\"url(#clip310)\" d=\"M 0 0 M111.756 591.346 L116.64 591.346 L116.64 597.225 L111.756 597.225 L111.756 591.346 Z\" fill=\"#000000\" fill-rule=\"evenodd\" fill-opacity=\"1\" /><path clip-path=\"url(#clip310)\" d=\"M 0 0 M131.709 565.744 Q128.098 565.744 126.27 569.309 Q124.464 572.851 124.464 579.98 Q124.464 587.087 126.27 590.651 Q128.098 594.193 131.709 594.193 Q135.344 594.193 137.149 590.651 Q138.978 587.087 138.978 579.98 Q138.978 572.851 137.149 569.309 Q135.344 565.744 131.709 565.744 M131.709 562.04 Q137.519 562.04 140.575 566.647 Q143.654 571.23 143.654 579.98 Q143.654 588.707 140.575 593.313 Q137.519 597.897 131.709 597.897 Q125.899 597.897 122.82 593.313 Q119.765 588.707 119.765 579.98 Q119.765 571.23 122.82 566.647 Q125.899 562.04 131.709 562.04 Z\" fill=\"#000000\" fill-rule=\"evenodd\" fill-opacity=\"1\" /><path clip-path=\"url(#clip310)\" d=\"M 0 0 M87.7743 357.768 L95.4132 357.768 L95.4132 331.402 L87.103 333.069 L87.103 328.81 L95.3669 327.143 L100.043 327.143 L100.043 357.768 L107.682 357.768 L107.682 361.703 L87.7743 361.703 L87.7743 357.768 Z\" fill=\"#000000\" fill-rule=\"evenodd\" fill-opacity=\"1\" /><path clip-path=\"url(#clip310)\" d=\"M 0 0 M112.751 355.823 L117.635 355.823 L117.635 361.703 L112.751 361.703 L112.751 355.823 Z\" fill=\"#000000\" fill-rule=\"evenodd\" fill-opacity=\"1\" /><path clip-path=\"url(#clip310)\" d=\"M 0 0 M122.751 327.143 L141.107 327.143 L141.107 331.078 L127.033 331.078 L127.033 339.55 Q128.052 339.203 129.07 339.041 Q130.089 338.856 131.107 338.856 Q136.894 338.856 140.274 342.027 Q143.654 345.198 143.654 350.615 Q143.654 356.194 140.181 359.295 Q136.709 362.374 130.39 362.374 Q128.214 362.374 125.945 362.004 Q123.7 361.633 121.293 360.893 L121.293 356.194 Q123.376 357.328 125.598 357.883 Q127.82 358.439 130.297 358.439 Q134.302 358.439 136.64 356.333 Q138.978 354.226 138.978 350.615 Q138.978 347.004 136.64 344.897 Q134.302 342.791 130.297 342.791 Q128.422 342.791 126.547 343.208 Q124.695 343.624 122.751 344.504 L122.751 327.143 Z\" fill=\"#000000\" fill-rule=\"evenodd\" fill-opacity=\"1\" /><path clip-path=\"url(#clip310)\" d=\"M 0 0 M90.3669 122.245 L106.686 122.245 L106.686 126.18 L84.7419 126.18 L84.7419 122.245 Q87.404 119.491 91.9873 114.861 Q96.5937 110.208 97.7743 108.866 Q100.02 106.342 100.899 104.606 Q101.802 102.847 101.802 101.157 Q101.802 98.4027 99.8576 96.6666 Q97.9363 94.9305 94.8345 94.9305 Q92.6354 94.9305 90.1817 95.6944 Q87.7512 96.4583 84.9734 98.0092 L84.9734 93.287 Q87.7975 92.1528 90.2512 91.574 Q92.7049 90.9953 94.7419 90.9953 Q100.112 90.9953 103.307 93.6805 Q106.501 96.3657 106.501 100.856 Q106.501 102.986 105.691 104.907 Q104.904 106.805 102.797 109.398 Q102.219 110.069 99.1169 113.287 Q96.015 116.481 90.3669 122.245 Z\" fill=\"#000000\" fill-rule=\"evenodd\" fill-opacity=\"1\" /><path clip-path=\"url(#clip310)\" d=\"M 0 0 M111.756 120.301 L116.64 120.301 L116.64 126.18 L111.756 126.18 L111.756 120.301 Z\" fill=\"#000000\" fill-rule=\"evenodd\" fill-opacity=\"1\" /><path clip-path=\"url(#clip310)\" d=\"M 0 0 M131.709 94.699 Q128.098 94.699 126.27 98.2638 Q124.464 101.805 124.464 108.935 Q124.464 116.042 126.27 119.606 Q128.098 123.148 131.709 123.148 Q135.344 123.148 137.149 119.606 Q138.978 116.042 138.978 108.935 Q138.978 101.805 137.149 98.2638 Q135.344 94.699 131.709 94.699 M131.709 90.9953 Q137.519 90.9953 140.575 95.6018 Q143.654 100.185 143.654 108.935 Q143.654 117.662 140.575 122.268 Q137.519 126.852 131.709 126.852 Q125.899 126.852 122.82 122.268 Q119.765 117.662 119.765 108.935 Q119.765 100.185 122.82 95.6018 Q125.899 90.9953 131.709 90.9953 Z\" fill=\"#000000\" fill-rule=\"evenodd\" fill-opacity=\"1\" /><circle clip-path=\"url(#clip312)\" cx=\"241.157\" cy=\"1050.99\" r=\"14\" fill=\"#009af9\" fill-rule=\"evenodd\" fill-opacity=\"1\" stroke=\"#000000\" stroke-opacity=\"1\" stroke-width=\"3.2\"/>\n",
       "<circle clip-path=\"url(#clip312)\" cx=\"427.529\" cy=\"1244.4\" r=\"14\" fill=\"#009af9\" fill-rule=\"evenodd\" fill-opacity=\"1\" stroke=\"#000000\" stroke-opacity=\"1\" stroke-width=\"3.2\"/>\n",
       "<circle clip-path=\"url(#clip312)\" cx=\"613.901\" cy=\"1118.19\" r=\"14\" fill=\"#009af9\" fill-rule=\"evenodd\" fill-opacity=\"1\" stroke=\"#000000\" stroke-opacity=\"1\" stroke-width=\"3.2\"/>\n",
       "<circle clip-path=\"url(#clip312)\" cx=\"800.274\" cy=\"862.923\" r=\"14\" fill=\"#009af9\" fill-rule=\"evenodd\" fill-opacity=\"1\" stroke=\"#000000\" stroke-opacity=\"1\" stroke-width=\"3.2\"/>\n",
       "<circle clip-path=\"url(#clip312)\" cx=\"986.646\" cy=\"754.382\" r=\"14\" fill=\"#009af9\" fill-rule=\"evenodd\" fill-opacity=\"1\" stroke=\"#000000\" stroke-opacity=\"1\" stroke-width=\"3.2\"/>\n",
       "<circle clip-path=\"url(#clip312)\" cx=\"1173.02\" cy=\"572.266\" r=\"14\" fill=\"#009af9\" fill-rule=\"evenodd\" fill-opacity=\"1\" stroke=\"#000000\" stroke-opacity=\"1\" stroke-width=\"3.2\"/>\n",
       "<circle clip-path=\"url(#clip312)\" cx=\"1359.39\" cy=\"309.763\" r=\"14\" fill=\"#009af9\" fill-rule=\"evenodd\" fill-opacity=\"1\" stroke=\"#000000\" stroke-opacity=\"1\" stroke-width=\"3.2\"/>\n",
       "<circle clip-path=\"url(#clip312)\" cx=\"1545.76\" cy=\"179.964\" r=\"14\" fill=\"#009af9\" fill-rule=\"evenodd\" fill-opacity=\"1\" stroke=\"#000000\" stroke-opacity=\"1\" stroke-width=\"3.2\"/>\n",
       "<circle clip-path=\"url(#clip312)\" cx=\"1732.14\" cy=\"312.134\" r=\"14\" fill=\"#009af9\" fill-rule=\"evenodd\" fill-opacity=\"1\" stroke=\"#000000\" stroke-opacity=\"1\" stroke-width=\"3.2\"/>\n",
       "<circle clip-path=\"url(#clip312)\" cx=\"1918.51\" cy=\"179.652\" r=\"14\" fill=\"#009af9\" fill-rule=\"evenodd\" fill-opacity=\"1\" stroke=\"#000000\" stroke-opacity=\"1\" stroke-width=\"3.2\"/>\n",
       "<circle clip-path=\"url(#clip312)\" cx=\"2104.88\" cy=\"87.9763\" r=\"14\" fill=\"#009af9\" fill-rule=\"evenodd\" fill-opacity=\"1\" stroke=\"#000000\" stroke-opacity=\"1\" stroke-width=\"3.2\"/>\n",
       "<circle clip-path=\"url(#clip312)\" cx=\"2291.25\" cy=\"1050.99\" r=\"14\" fill=\"#009af9\" fill-rule=\"evenodd\" fill-opacity=\"1\" stroke=\"#000000\" stroke-opacity=\"1\" stroke-width=\"3.2\"/>\n",
       "<circle clip-path=\"url(#clip312)\" cx=\"241.157\" cy=\"1050.99\" r=\"14\" fill=\"#e26f46\" fill-rule=\"evenodd\" fill-opacity=\"1\" stroke=\"#000000\" stroke-opacity=\"1\" stroke-width=\"3.2\"/>\n",
       "<circle clip-path=\"url(#clip312)\" cx=\"427.529\" cy=\"1078.16\" r=\"14\" fill=\"#e26f46\" fill-rule=\"evenodd\" fill-opacity=\"1\" stroke=\"#000000\" stroke-opacity=\"1\" stroke-width=\"3.2\"/>\n",
       "<circle clip-path=\"url(#clip312)\" cx=\"613.901\" cy=\"867.486\" r=\"14\" fill=\"#e26f46\" fill-rule=\"evenodd\" fill-opacity=\"1\" stroke=\"#000000\" stroke-opacity=\"1\" stroke-width=\"3.2\"/>\n",
       "<circle clip-path=\"url(#clip312)\" cx=\"800.274\" cy=\"968.754\" r=\"14\" fill=\"#e26f46\" fill-rule=\"evenodd\" fill-opacity=\"1\" stroke=\"#000000\" stroke-opacity=\"1\" stroke-width=\"3.2\"/>\n",
       "<circle clip-path=\"url(#clip312)\" cx=\"986.646\" cy=\"1070.58\" r=\"14\" fill=\"#e26f46\" fill-rule=\"evenodd\" fill-opacity=\"1\" stroke=\"#000000\" stroke-opacity=\"1\" stroke-width=\"3.2\"/>\n",
       "<circle clip-path=\"url(#clip312)\" cx=\"1173.02\" cy=\"887.696\" r=\"14\" fill=\"#e26f46\" fill-rule=\"evenodd\" fill-opacity=\"1\" stroke=\"#000000\" stroke-opacity=\"1\" stroke-width=\"3.2\"/>\n",
       "<circle clip-path=\"url(#clip312)\" cx=\"1359.39\" cy=\"1124.12\" r=\"14\" fill=\"#e26f46\" fill-rule=\"evenodd\" fill-opacity=\"1\" stroke=\"#000000\" stroke-opacity=\"1\" stroke-width=\"3.2\"/>\n",
       "<circle clip-path=\"url(#clip312)\" cx=\"1545.76\" cy=\"1055.41\" r=\"14\" fill=\"#e26f46\" fill-rule=\"evenodd\" fill-opacity=\"1\" stroke=\"#000000\" stroke-opacity=\"1\" stroke-width=\"3.2\"/>\n",
       "<circle clip-path=\"url(#clip312)\" cx=\"1732.14\" cy=\"1040.54\" r=\"14\" fill=\"#e26f46\" fill-rule=\"evenodd\" fill-opacity=\"1\" stroke=\"#000000\" stroke-opacity=\"1\" stroke-width=\"3.2\"/>\n",
       "<circle clip-path=\"url(#clip312)\" cx=\"1918.51\" cy=\"1147.14\" r=\"14\" fill=\"#e26f46\" fill-rule=\"evenodd\" fill-opacity=\"1\" stroke=\"#000000\" stroke-opacity=\"1\" stroke-width=\"3.2\"/>\n",
       "<circle clip-path=\"url(#clip312)\" cx=\"2104.88\" cy=\"1193.95\" r=\"14\" fill=\"#e26f46\" fill-rule=\"evenodd\" fill-opacity=\"1\" stroke=\"#000000\" stroke-opacity=\"1\" stroke-width=\"3.2\"/>\n",
       "<circle clip-path=\"url(#clip312)\" cx=\"2291.25\" cy=\"1050.99\" r=\"14\" fill=\"#e26f46\" fill-rule=\"evenodd\" fill-opacity=\"1\" stroke=\"#000000\" stroke-opacity=\"1\" stroke-width=\"3.2\"/>\n",
       "<circle clip-path=\"url(#clip312)\" cx=\"241.157\" cy=\"1050.99\" r=\"14\" fill=\"#3da44d\" fill-rule=\"evenodd\" fill-opacity=\"1\" stroke=\"#000000\" stroke-opacity=\"1\" stroke-width=\"3.2\"/>\n",
       "<circle clip-path=\"url(#clip312)\" cx=\"427.529\" cy=\"949.196\" r=\"14\" fill=\"#3da44d\" fill-rule=\"evenodd\" fill-opacity=\"1\" stroke=\"#000000\" stroke-opacity=\"1\" stroke-width=\"3.2\"/>\n",
       "<circle clip-path=\"url(#clip312)\" cx=\"613.901\" cy=\"1006.69\" r=\"14\" fill=\"#3da44d\" fill-rule=\"evenodd\" fill-opacity=\"1\" stroke=\"#000000\" stroke-opacity=\"1\" stroke-width=\"3.2\"/>\n",
       "<circle clip-path=\"url(#clip312)\" cx=\"800.274\" cy=\"1025.17\" r=\"14\" fill=\"#3da44d\" fill-rule=\"evenodd\" fill-opacity=\"1\" stroke=\"#000000\" stroke-opacity=\"1\" stroke-width=\"3.2\"/>\n",
       "<circle clip-path=\"url(#clip312)\" cx=\"986.646\" cy=\"1162.74\" r=\"14\" fill=\"#3da44d\" fill-rule=\"evenodd\" fill-opacity=\"1\" stroke=\"#000000\" stroke-opacity=\"1\" stroke-width=\"3.2\"/>\n",
       "<circle clip-path=\"url(#clip312)\" cx=\"1173.02\" cy=\"1445.72\" r=\"14\" fill=\"#3da44d\" fill-rule=\"evenodd\" fill-opacity=\"1\" stroke=\"#000000\" stroke-opacity=\"1\" stroke-width=\"3.2\"/>\n",
       "<circle clip-path=\"url(#clip312)\" cx=\"1359.39\" cy=\"1294.53\" r=\"14\" fill=\"#3da44d\" fill-rule=\"evenodd\" fill-opacity=\"1\" stroke=\"#000000\" stroke-opacity=\"1\" stroke-width=\"3.2\"/>\n",
       "<circle clip-path=\"url(#clip312)\" cx=\"1545.76\" cy=\"1200.86\" r=\"14\" fill=\"#3da44d\" fill-rule=\"evenodd\" fill-opacity=\"1\" stroke=\"#000000\" stroke-opacity=\"1\" stroke-width=\"3.2\"/>\n",
       "<circle clip-path=\"url(#clip312)\" cx=\"1732.14\" cy=\"1182.78\" r=\"14\" fill=\"#3da44d\" fill-rule=\"evenodd\" fill-opacity=\"1\" stroke=\"#000000\" stroke-opacity=\"1\" stroke-width=\"3.2\"/>\n",
       "<circle clip-path=\"url(#clip312)\" cx=\"1918.51\" cy=\"1232.12\" r=\"14\" fill=\"#3da44d\" fill-rule=\"evenodd\" fill-opacity=\"1\" stroke=\"#000000\" stroke-opacity=\"1\" stroke-width=\"3.2\"/>\n",
       "<circle clip-path=\"url(#clip312)\" cx=\"2104.88\" cy=\"1094.32\" r=\"14\" fill=\"#3da44d\" fill-rule=\"evenodd\" fill-opacity=\"1\" stroke=\"#000000\" stroke-opacity=\"1\" stroke-width=\"3.2\"/>\n",
       "<circle clip-path=\"url(#clip312)\" cx=\"2291.25\" cy=\"1050.99\" r=\"14\" fill=\"#3da44d\" fill-rule=\"evenodd\" fill-opacity=\"1\" stroke=\"#000000\" stroke-opacity=\"1\" stroke-width=\"3.2\"/>\n",
       "<path clip-path=\"url(#clip310)\" d=\"\n",
       "M2013.63 337.138 L2280.32 337.138 L2280.32 95.2176 L2013.63 95.2176  Z\n",
       "  \" fill=\"#ffffff\" fill-rule=\"evenodd\" fill-opacity=\"1\"/>\n",
       "<polyline clip-path=\"url(#clip310)\" style=\"stroke:#000000; stroke-width:4; stroke-opacity:1; fill:none\" points=\"\n",
       "  2013.63,337.138 2280.32,337.138 2280.32,95.2176 2013.63,95.2176 2013.63,337.138 \n",
       "  \"/>\n",
       "<circle clip-path=\"url(#clip310)\" cx=\"2110.21\" cy=\"155.698\" r=\"23\" fill=\"#009af9\" fill-rule=\"evenodd\" fill-opacity=\"1\" stroke=\"#000000\" stroke-opacity=\"1\" stroke-width=\"5.12\"/>\n",
       "<path clip-path=\"url(#clip310)\" d=\"M 0 0 M2220.64 175.385 Q2218.83 180.015 2217.12 181.427 Q2215.41 182.839 2212.54 182.839 L2209.13 182.839 L2209.13 179.274 L2211.63 179.274 Q2213.39 179.274 2214.37 178.44 Q2215.34 177.607 2216.52 174.505 L2217.28 172.561 L2206.8 147.052 L2211.31 147.052 L2219.41 167.329 L2227.51 147.052 L2232.03 147.052 L2220.64 175.385 Z\" fill=\"#000000\" fill-rule=\"evenodd\" fill-opacity=\"1\" /><circle clip-path=\"url(#clip310)\" cx=\"2110.21\" cy=\"216.178\" r=\"23\" fill=\"#e26f46\" fill-rule=\"evenodd\" fill-opacity=\"1\" stroke=\"#000000\" stroke-opacity=\"1\" stroke-width=\"5.12\"/>\n",
       "<path clip-path=\"url(#clip310)\" d=\"M 0 0 M2231.45 207.532 L2222.07 220.147 L2231.94 233.458 L2226.91 233.458 L2219.37 223.272 L2211.82 233.458 L2206.8 233.458 L2216.87 219.893 L2207.65 207.532 L2212.68 207.532 L2219.55 216.768 L2226.43 207.532 L2231.45 207.532 Z\" fill=\"#000000\" fill-rule=\"evenodd\" fill-opacity=\"1\" /><circle clip-path=\"url(#clip310)\" cx=\"2110.21\" cy=\"276.658\" r=\"23\" fill=\"#3da44d\" fill-rule=\"evenodd\" fill-opacity=\"1\" stroke=\"#000000\" stroke-opacity=\"1\" stroke-width=\"5.12\"/>\n",
       "<path clip-path=\"url(#clip310)\" d=\"M 0 0 M2220.64 296.345 Q2218.83 300.975 2217.12 302.387 Q2215.41 303.799 2212.54 303.799 L2209.13 303.799 L2209.13 300.234 L2211.63 300.234 Q2213.39 300.234 2214.37 299.4 Q2215.34 298.567 2216.52 295.465 L2217.28 293.521 L2206.8 268.012 L2211.31 268.012 L2219.41 288.289 L2227.51 268.012 L2232.03 268.012 L2220.64 296.345 Z\" fill=\"#000000\" fill-rule=\"evenodd\" fill-opacity=\"1\" /></svg>\n"
      ]
     },
     "execution_count": 8,
     "metadata": {},
     "output_type": "execute_result"
    }
   ],
   "source": [
    "t=collect(0:0.1:0.1*10+0.1)\n",
    "scatter!(t,X(1,0,0.1,10,0),label=\"x\")\n",
    "scatter!(t,X(1,0,0.1,10,0),label=\"y\")\n",
    "scatter!()"
   ]
  },
  {
   "cell_type": "code",
   "execution_count": 5,
   "metadata": {},
   "outputs": [
    {
     "data": {
      "image/svg+xml": [
       "<?xml version=\"1.0\" encoding=\"utf-8\"?>\n",
       "<svg xmlns=\"http://www.w3.org/2000/svg\" xmlns:xlink=\"http://www.w3.org/1999/xlink\" width=\"600\" height=\"400\" viewBox=\"0 0 2400 1600\">\n",
       "<defs>\n",
       "  <clipPath id=\"clip230\">\n",
       "    <rect x=\"0\" y=\"0\" width=\"2400\" height=\"1600\"/>\n",
       "  </clipPath>\n",
       "</defs>\n",
       "<path clip-path=\"url(#clip230)\" d=\"\n",
       "M0 1600 L2400 1600 L2400 0 L0 0  Z\n",
       "  \" fill=\"#ffffff\" fill-rule=\"evenodd\" fill-opacity=\"1\"/>\n",
       "<defs>\n",
       "  <clipPath id=\"clip231\">\n",
       "    <rect x=\"480\" y=\"0\" width=\"1681\" height=\"1600\"/>\n",
       "  </clipPath>\n",
       "</defs>\n",
       "<path clip-path=\"url(#clip230)\" d=\"\n",
       "M179.052 1486.45 L2352.76 1486.45 L2352.76 47.2441 L179.052 47.2441  Z\n",
       "  \" fill=\"#ffffff\" fill-rule=\"evenodd\" fill-opacity=\"1\"/>\n",
       "<defs>\n",
       "  <clipPath id=\"clip232\">\n",
       "    <rect x=\"179\" y=\"47\" width=\"2175\" height=\"1440\"/>\n",
       "  </clipPath>\n",
       "</defs>\n",
       "<polyline clip-path=\"url(#clip232)\" style=\"stroke:#000000; stroke-width:2; stroke-opacity:0.1; fill:none\" points=\"\n",
       "  350.509,1486.45 350.509,47.2441 \n",
       "  \"/>\n",
       "<polyline clip-path=\"url(#clip232)\" style=\"stroke:#000000; stroke-width:2; stroke-opacity:0.1; fill:none\" points=\"\n",
       "  782.543,1486.45 782.543,47.2441 \n",
       "  \"/>\n",
       "<polyline clip-path=\"url(#clip232)\" style=\"stroke:#000000; stroke-width:2; stroke-opacity:0.1; fill:none\" points=\"\n",
       "  1214.58,1486.45 1214.58,47.2441 \n",
       "  \"/>\n",
       "<polyline clip-path=\"url(#clip232)\" style=\"stroke:#000000; stroke-width:2; stroke-opacity:0.1; fill:none\" points=\"\n",
       "  1646.61,1486.45 1646.61,47.2441 \n",
       "  \"/>\n",
       "<polyline clip-path=\"url(#clip232)\" style=\"stroke:#000000; stroke-width:2; stroke-opacity:0.1; fill:none\" points=\"\n",
       "  2078.65,1486.45 2078.65,47.2441 \n",
       "  \"/>\n",
       "<polyline clip-path=\"url(#clip230)\" style=\"stroke:#000000; stroke-width:4; stroke-opacity:1; fill:none\" points=\"\n",
       "  179.052,1486.45 2352.76,1486.45 \n",
       "  \"/>\n",
       "<polyline clip-path=\"url(#clip230)\" style=\"stroke:#000000; stroke-width:4; stroke-opacity:1; fill:none\" points=\"\n",
       "  350.509,1486.45 350.509,1469.18 \n",
       "  \"/>\n",
       "<polyline clip-path=\"url(#clip230)\" style=\"stroke:#000000; stroke-width:4; stroke-opacity:1; fill:none\" points=\"\n",
       "  782.543,1486.45 782.543,1469.18 \n",
       "  \"/>\n",
       "<polyline clip-path=\"url(#clip230)\" style=\"stroke:#000000; stroke-width:4; stroke-opacity:1; fill:none\" points=\"\n",
       "  1214.58,1486.45 1214.58,1469.18 \n",
       "  \"/>\n",
       "<polyline clip-path=\"url(#clip230)\" style=\"stroke:#000000; stroke-width:4; stroke-opacity:1; fill:none\" points=\"\n",
       "  1646.61,1486.45 1646.61,1469.18 \n",
       "  \"/>\n",
       "<polyline clip-path=\"url(#clip230)\" style=\"stroke:#000000; stroke-width:4; stroke-opacity:1; fill:none\" points=\"\n",
       "  2078.65,1486.45 2078.65,1469.18 \n",
       "  \"/>\n",
       "<path clip-path=\"url(#clip230)\" d=\"M 0 0 M290.672 1530.29 L320.347 1530.29 L320.347 1534.23 L290.672 1534.23 L290.672 1530.29 Z\" fill=\"#000000\" fill-rule=\"evenodd\" fill-opacity=\"1\" /><path clip-path=\"url(#clip230)\" d=\"M 0 0 M335.417 1515.64 Q331.806 1515.64 329.977 1519.2 Q328.171 1522.75 328.171 1529.87 Q328.171 1536.98 329.977 1540.55 Q331.806 1544.09 335.417 1544.09 Q339.051 1544.09 340.856 1540.55 Q342.685 1536.98 342.685 1529.87 Q342.685 1522.75 340.856 1519.2 Q339.051 1515.64 335.417 1515.64 M335.417 1511.93 Q341.227 1511.93 344.282 1516.54 Q347.361 1521.12 347.361 1529.87 Q347.361 1538.6 344.282 1543.21 Q341.227 1547.79 335.417 1547.79 Q329.607 1547.79 326.528 1543.21 Q323.472 1538.6 323.472 1529.87 Q323.472 1521.12 326.528 1516.54 Q329.607 1511.93 335.417 1511.93 Z\" fill=\"#000000\" fill-rule=\"evenodd\" fill-opacity=\"1\" /><path clip-path=\"url(#clip230)\" d=\"M 0 0 M352.43 1541.24 L357.315 1541.24 L357.315 1547.12 L352.43 1547.12 L352.43 1541.24 Z\" fill=\"#000000\" fill-rule=\"evenodd\" fill-opacity=\"1\" /><path clip-path=\"url(#clip230)\" d=\"M 0 0 M362.43 1512.56 L380.787 1512.56 L380.787 1516.5 L366.713 1516.5 L366.713 1524.97 Q367.731 1524.62 368.75 1524.46 Q369.768 1524.27 370.787 1524.27 Q376.574 1524.27 379.953 1527.44 Q383.333 1530.62 383.333 1536.03 Q383.333 1541.61 379.861 1544.71 Q376.389 1547.79 370.069 1547.79 Q367.893 1547.79 365.625 1547.42 Q363.379 1547.05 360.972 1546.31 L360.972 1541.61 Q363.055 1542.74 365.278 1543.3 Q367.5 1543.86 369.977 1543.86 Q373.981 1543.86 376.319 1541.75 Q378.657 1539.64 378.657 1536.03 Q378.657 1532.42 376.319 1530.31 Q373.981 1528.21 369.977 1528.21 Q368.102 1528.21 366.227 1528.62 Q364.375 1529.04 362.43 1529.92 L362.43 1512.56 Z\" fill=\"#000000\" fill-rule=\"evenodd\" fill-opacity=\"1\" /><path clip-path=\"url(#clip230)\" d=\"M 0 0 M398.402 1515.64 Q394.791 1515.64 392.963 1519.2 Q391.157 1522.75 391.157 1529.87 Q391.157 1536.98 392.963 1540.55 Q394.791 1544.09 398.402 1544.09 Q402.037 1544.09 403.842 1540.55 Q405.671 1536.98 405.671 1529.87 Q405.671 1522.75 403.842 1519.2 Q402.037 1515.64 398.402 1515.64 M398.402 1511.93 Q404.213 1511.93 407.268 1516.54 Q410.347 1521.12 410.347 1529.87 Q410.347 1538.6 407.268 1543.21 Q404.213 1547.79 398.402 1547.79 Q392.592 1547.79 389.514 1543.21 Q386.458 1538.6 386.458 1529.87 Q386.458 1521.12 389.514 1516.54 Q392.592 1511.93 398.402 1511.93 Z\" fill=\"#000000\" fill-rule=\"evenodd\" fill-opacity=\"1\" /><path clip-path=\"url(#clip230)\" d=\"M 0 0 M723.504 1530.29 L753.18 1530.29 L753.18 1534.23 L723.504 1534.23 L723.504 1530.29 Z\" fill=\"#000000\" fill-rule=\"evenodd\" fill-opacity=\"1\" /><path clip-path=\"url(#clip230)\" d=\"M 0 0 M768.249 1515.64 Q764.638 1515.64 762.809 1519.2 Q761.004 1522.75 761.004 1529.87 Q761.004 1536.98 762.809 1540.55 Q764.638 1544.09 768.249 1544.09 Q771.884 1544.09 773.689 1540.55 Q775.518 1536.98 775.518 1529.87 Q775.518 1522.75 773.689 1519.2 Q771.884 1515.64 768.249 1515.64 M768.249 1511.93 Q774.059 1511.93 777.115 1516.54 Q780.194 1521.12 780.194 1529.87 Q780.194 1538.6 777.115 1543.21 Q774.059 1547.79 768.249 1547.79 Q762.439 1547.79 759.36 1543.21 Q756.305 1538.6 756.305 1529.87 Q756.305 1521.12 759.36 1516.54 Q762.439 1511.93 768.249 1511.93 Z\" fill=\"#000000\" fill-rule=\"evenodd\" fill-opacity=\"1\" /><path clip-path=\"url(#clip230)\" d=\"M 0 0 M785.263 1541.24 L790.147 1541.24 L790.147 1547.12 L785.263 1547.12 L785.263 1541.24 Z\" fill=\"#000000\" fill-rule=\"evenodd\" fill-opacity=\"1\" /><path clip-path=\"url(#clip230)\" d=\"M 0 0 M799.244 1543.18 L815.564 1543.18 L815.564 1547.12 L793.62 1547.12 L793.62 1543.18 Q796.282 1540.43 800.865 1535.8 Q805.471 1531.15 806.652 1529.81 Q808.897 1527.28 809.777 1525.55 Q810.68 1523.79 810.68 1522.1 Q810.68 1519.34 808.735 1517.61 Q806.814 1515.87 803.712 1515.87 Q801.513 1515.87 799.059 1516.63 Q796.629 1517.4 793.851 1518.95 L793.851 1514.23 Q796.675 1513.09 799.129 1512.51 Q801.582 1511.93 803.619 1511.93 Q808.99 1511.93 812.184 1514.62 Q815.379 1517.31 815.379 1521.8 Q815.379 1523.93 814.568 1525.85 Q813.781 1527.74 811.675 1530.34 Q811.096 1531.01 807.994 1534.23 Q804.893 1537.42 799.244 1543.18 Z\" fill=\"#000000\" fill-rule=\"evenodd\" fill-opacity=\"1\" /><path clip-path=\"url(#clip230)\" d=\"M 0 0 M820.68 1512.56 L839.036 1512.56 L839.036 1516.5 L824.962 1516.5 L824.962 1524.97 Q825.98 1524.62 826.999 1524.46 Q828.017 1524.27 829.036 1524.27 Q834.823 1524.27 838.203 1527.44 Q841.582 1530.62 841.582 1536.03 Q841.582 1541.61 838.11 1544.71 Q834.638 1547.79 828.318 1547.79 Q826.142 1547.79 823.874 1547.42 Q821.629 1547.05 819.221 1546.31 L819.221 1541.61 Q821.305 1542.74 823.527 1543.3 Q825.749 1543.86 828.226 1543.86 Q832.23 1543.86 834.568 1541.75 Q836.906 1539.64 836.906 1536.03 Q836.906 1532.42 834.568 1530.31 Q832.23 1528.21 828.226 1528.21 Q826.351 1528.21 824.476 1528.62 Q822.624 1529.04 820.68 1529.92 L820.68 1512.56 Z\" fill=\"#000000\" fill-rule=\"evenodd\" fill-opacity=\"1\" /><path clip-path=\"url(#clip230)\" d=\"M 0 0 M1182.59 1515.64 Q1178.98 1515.64 1177.15 1519.2 Q1175.34 1522.75 1175.34 1529.87 Q1175.34 1536.98 1177.15 1540.55 Q1178.98 1544.09 1182.59 1544.09 Q1186.22 1544.09 1188.03 1540.55 Q1189.86 1536.98 1189.86 1529.87 Q1189.86 1522.75 1188.03 1519.2 Q1186.22 1515.64 1182.59 1515.64 M1182.59 1511.93 Q1188.4 1511.93 1191.45 1516.54 Q1194.53 1521.12 1194.53 1529.87 Q1194.53 1538.6 1191.45 1543.21 Q1188.4 1547.79 1182.59 1547.79 Q1176.78 1547.79 1173.7 1543.21 Q1170.64 1538.6 1170.64 1529.87 Q1170.64 1521.12 1173.7 1516.54 Q1176.78 1511.93 1182.59 1511.93 Z\" fill=\"#000000\" fill-rule=\"evenodd\" fill-opacity=\"1\" /><path clip-path=\"url(#clip230)\" d=\"M 0 0 M1199.6 1541.24 L1204.48 1541.24 L1204.48 1547.12 L1199.6 1547.12 L1199.6 1541.24 Z\" fill=\"#000000\" fill-rule=\"evenodd\" fill-opacity=\"1\" /><path clip-path=\"url(#clip230)\" d=\"M 0 0 M1219.55 1515.64 Q1215.94 1515.64 1214.11 1519.2 Q1212.31 1522.75 1212.31 1529.87 Q1212.31 1536.98 1214.11 1540.55 Q1215.94 1544.09 1219.55 1544.09 Q1223.19 1544.09 1224.99 1540.55 Q1226.82 1536.98 1226.82 1529.87 Q1226.82 1522.75 1224.99 1519.2 Q1223.19 1515.64 1219.55 1515.64 M1219.55 1511.93 Q1225.36 1511.93 1228.42 1516.54 Q1231.5 1521.12 1231.5 1529.87 Q1231.5 1538.6 1228.42 1543.21 Q1225.36 1547.79 1219.55 1547.79 Q1213.74 1547.79 1210.67 1543.21 Q1207.61 1538.6 1207.61 1529.87 Q1207.61 1521.12 1210.67 1516.54 Q1213.74 1511.93 1219.55 1511.93 Z\" fill=\"#000000\" fill-rule=\"evenodd\" fill-opacity=\"1\" /><path clip-path=\"url(#clip230)\" d=\"M 0 0 M1246.57 1515.64 Q1242.96 1515.64 1241.13 1519.2 Q1239.32 1522.75 1239.32 1529.87 Q1239.32 1536.98 1241.13 1540.55 Q1242.96 1544.09 1246.57 1544.09 Q1250.2 1544.09 1252.01 1540.55 Q1253.84 1536.98 1253.84 1529.87 Q1253.84 1522.75 1252.01 1519.2 Q1250.2 1515.64 1246.57 1515.64 M1246.57 1511.93 Q1252.38 1511.93 1255.43 1516.54 Q1258.51 1521.12 1258.51 1529.87 Q1258.51 1538.6 1255.43 1543.21 Q1252.38 1547.79 1246.57 1547.79 Q1240.76 1547.79 1237.68 1543.21 Q1234.62 1538.6 1234.62 1529.87 Q1234.62 1521.12 1237.68 1516.54 Q1240.76 1511.93 1246.57 1511.93 Z\" fill=\"#000000\" fill-rule=\"evenodd\" fill-opacity=\"1\" /><path clip-path=\"url(#clip230)\" d=\"M 0 0 M1615.92 1515.64 Q1612.31 1515.64 1610.48 1519.2 Q1608.67 1522.75 1608.67 1529.87 Q1608.67 1536.98 1610.48 1540.55 Q1612.31 1544.09 1615.92 1544.09 Q1619.55 1544.09 1621.36 1540.55 Q1623.19 1536.98 1623.19 1529.87 Q1623.19 1522.75 1621.36 1519.2 Q1619.55 1515.64 1615.92 1515.64 M1615.92 1511.93 Q1621.73 1511.93 1624.78 1516.54 Q1627.86 1521.12 1627.86 1529.87 Q1627.86 1538.6 1624.78 1543.21 Q1621.73 1547.79 1615.92 1547.79 Q1610.11 1547.79 1607.03 1543.21 Q1603.97 1538.6 1603.97 1529.87 Q1603.97 1521.12 1607.03 1516.54 Q1610.11 1511.93 1615.92 1511.93 Z\" fill=\"#000000\" fill-rule=\"evenodd\" fill-opacity=\"1\" /><path clip-path=\"url(#clip230)\" d=\"M 0 0 M1632.93 1541.24 L1637.81 1541.24 L1637.81 1547.12 L1632.93 1547.12 L1632.93 1541.24 Z\" fill=\"#000000\" fill-rule=\"evenodd\" fill-opacity=\"1\" /><path clip-path=\"url(#clip230)\" d=\"M 0 0 M1646.91 1543.18 L1663.23 1543.18 L1663.23 1547.12 L1641.29 1547.12 L1641.29 1543.18 Q1643.95 1540.43 1648.53 1535.8 Q1653.14 1531.15 1654.32 1529.81 Q1656.56 1527.28 1657.44 1525.55 Q1658.35 1523.79 1658.35 1522.1 Q1658.35 1519.34 1656.4 1517.61 Q1654.48 1515.87 1651.38 1515.87 Q1649.18 1515.87 1646.73 1516.63 Q1644.3 1517.4 1641.52 1518.95 L1641.52 1514.23 Q1644.34 1513.09 1646.8 1512.51 Q1649.25 1511.93 1651.29 1511.93 Q1656.66 1511.93 1659.85 1514.62 Q1663.05 1517.31 1663.05 1521.8 Q1663.05 1523.93 1662.24 1525.85 Q1661.45 1527.74 1659.34 1530.34 Q1658.76 1531.01 1655.66 1534.23 Q1652.56 1537.42 1646.91 1543.18 Z\" fill=\"#000000\" fill-rule=\"evenodd\" fill-opacity=\"1\" /><path clip-path=\"url(#clip230)\" d=\"M 0 0 M1668.35 1512.56 L1686.7 1512.56 L1686.7 1516.5 L1672.63 1516.5 L1672.63 1524.97 Q1673.65 1524.62 1674.67 1524.46 Q1675.69 1524.27 1676.7 1524.27 Q1682.49 1524.27 1685.87 1527.44 Q1689.25 1530.62 1689.25 1536.03 Q1689.25 1541.61 1685.78 1544.71 Q1682.31 1547.79 1675.99 1547.79 Q1673.81 1547.79 1671.54 1547.42 Q1669.3 1547.05 1666.89 1546.31 L1666.89 1541.61 Q1668.97 1542.74 1671.19 1543.3 Q1673.42 1543.86 1675.89 1543.86 Q1679.9 1543.86 1682.24 1541.75 Q1684.57 1539.64 1684.57 1536.03 Q1684.57 1532.42 1682.24 1530.31 Q1679.9 1528.21 1675.89 1528.21 Q1674.02 1528.21 1672.14 1528.62 Q1670.29 1529.04 1668.35 1529.92 L1668.35 1512.56 Z\" fill=\"#000000\" fill-rule=\"evenodd\" fill-opacity=\"1\" /><path clip-path=\"url(#clip230)\" d=\"M 0 0 M2047.15 1515.64 Q2043.54 1515.64 2041.71 1519.2 Q2039.91 1522.75 2039.91 1529.87 Q2039.91 1536.98 2041.71 1540.55 Q2043.54 1544.09 2047.15 1544.09 Q2050.79 1544.09 2052.59 1540.55 Q2054.42 1536.98 2054.42 1529.87 Q2054.42 1522.75 2052.59 1519.2 Q2050.79 1515.64 2047.15 1515.64 M2047.15 1511.93 Q2052.96 1511.93 2056.02 1516.54 Q2059.1 1521.12 2059.1 1529.87 Q2059.1 1538.6 2056.02 1543.21 Q2052.96 1547.79 2047.15 1547.79 Q2041.34 1547.79 2038.26 1543.21 Q2035.21 1538.6 2035.21 1529.87 Q2035.21 1521.12 2038.26 1516.54 Q2041.34 1511.93 2047.15 1511.93 Z\" fill=\"#000000\" fill-rule=\"evenodd\" fill-opacity=\"1\" /><path clip-path=\"url(#clip230)\" d=\"M 0 0 M2064.17 1541.24 L2069.05 1541.24 L2069.05 1547.12 L2064.17 1547.12 L2064.17 1541.24 Z\" fill=\"#000000\" fill-rule=\"evenodd\" fill-opacity=\"1\" /><path clip-path=\"url(#clip230)\" d=\"M 0 0 M2074.17 1512.56 L2092.52 1512.56 L2092.52 1516.5 L2078.45 1516.5 L2078.45 1524.97 Q2079.47 1524.62 2080.49 1524.46 Q2081.5 1524.27 2082.52 1524.27 Q2088.31 1524.27 2091.69 1527.44 Q2095.07 1530.62 2095.07 1536.03 Q2095.07 1541.61 2091.6 1544.71 Q2088.12 1547.79 2081.8 1547.79 Q2079.63 1547.79 2077.36 1547.42 Q2075.12 1547.05 2072.71 1546.31 L2072.71 1541.61 Q2074.79 1542.74 2077.01 1543.3 Q2079.24 1543.86 2081.71 1543.86 Q2085.72 1543.86 2088.05 1541.75 Q2090.39 1539.64 2090.39 1536.03 Q2090.39 1532.42 2088.05 1530.31 Q2085.72 1528.21 2081.71 1528.21 Q2079.84 1528.21 2077.96 1528.62 Q2076.11 1529.04 2074.17 1529.92 L2074.17 1512.56 Z\" fill=\"#000000\" fill-rule=\"evenodd\" fill-opacity=\"1\" /><path clip-path=\"url(#clip230)\" d=\"M 0 0 M2110.14 1515.64 Q2106.53 1515.64 2104.7 1519.2 Q2102.89 1522.75 2102.89 1529.87 Q2102.89 1536.98 2104.7 1540.55 Q2106.53 1544.09 2110.14 1544.09 Q2113.77 1544.09 2115.58 1540.55 Q2117.41 1536.98 2117.41 1529.87 Q2117.41 1522.75 2115.58 1519.2 Q2113.77 1515.64 2110.14 1515.64 M2110.14 1511.93 Q2115.95 1511.93 2119 1516.54 Q2122.08 1521.12 2122.08 1529.87 Q2122.08 1538.6 2119 1543.21 Q2115.95 1547.79 2110.14 1547.79 Q2104.33 1547.79 2101.25 1543.21 Q2098.19 1538.6 2098.19 1529.87 Q2098.19 1521.12 2101.25 1516.54 Q2104.33 1511.93 2110.14 1511.93 Z\" fill=\"#000000\" fill-rule=\"evenodd\" fill-opacity=\"1\" /><polyline clip-path=\"url(#clip232)\" style=\"stroke:#000000; stroke-width:2; stroke-opacity:0.1; fill:none\" points=\"\n",
       "  179.052,1240.89 2352.76,1240.89 \n",
       "  \"/>\n",
       "<polyline clip-path=\"url(#clip232)\" style=\"stroke:#000000; stroke-width:2; stroke-opacity:0.1; fill:none\" points=\"\n",
       "  179.052,933.37 2352.76,933.37 \n",
       "  \"/>\n",
       "<polyline clip-path=\"url(#clip232)\" style=\"stroke:#000000; stroke-width:2; stroke-opacity:0.1; fill:none\" points=\"\n",
       "  179.052,625.85 2352.76,625.85 \n",
       "  \"/>\n",
       "<polyline clip-path=\"url(#clip232)\" style=\"stroke:#000000; stroke-width:2; stroke-opacity:0.1; fill:none\" points=\"\n",
       "  179.052,318.33 2352.76,318.33 \n",
       "  \"/>\n",
       "<polyline clip-path=\"url(#clip230)\" style=\"stroke:#000000; stroke-width:4; stroke-opacity:1; fill:none\" points=\"\n",
       "  179.052,1486.45 179.052,47.2441 \n",
       "  \"/>\n",
       "<polyline clip-path=\"url(#clip230)\" style=\"stroke:#000000; stroke-width:4; stroke-opacity:1; fill:none\" points=\"\n",
       "  179.052,1240.89 205.136,1240.89 \n",
       "  \"/>\n",
       "<polyline clip-path=\"url(#clip230)\" style=\"stroke:#000000; stroke-width:4; stroke-opacity:1; fill:none\" points=\"\n",
       "  179.052,933.37 205.136,933.37 \n",
       "  \"/>\n",
       "<polyline clip-path=\"url(#clip230)\" style=\"stroke:#000000; stroke-width:4; stroke-opacity:1; fill:none\" points=\"\n",
       "  179.052,625.85 205.136,625.85 \n",
       "  \"/>\n",
       "<polyline clip-path=\"url(#clip230)\" style=\"stroke:#000000; stroke-width:4; stroke-opacity:1; fill:none\" points=\"\n",
       "  179.052,318.33 205.136,318.33 \n",
       "  \"/>\n",
       "<path clip-path=\"url(#clip230)\" d=\"M 0 0 M50.9921 1241.34 L80.6679 1241.34 L80.6679 1245.28 L50.9921 1245.28 L50.9921 1241.34 Z\" fill=\"#000000\" fill-rule=\"evenodd\" fill-opacity=\"1\" /><path clip-path=\"url(#clip230)\" d=\"M 0 0 M95.7373 1226.69 Q92.1262 1226.69 90.2975 1230.25 Q88.4919 1233.8 88.4919 1240.92 Q88.4919 1248.03 90.2975 1251.6 Q92.1262 1255.14 95.7373 1255.14 Q99.3715 1255.14 101.177 1251.6 Q103.006 1248.03 103.006 1240.92 Q103.006 1233.8 101.177 1230.25 Q99.3715 1226.69 95.7373 1226.69 M95.7373 1222.98 Q101.547 1222.98 104.603 1227.59 Q107.682 1232.17 107.682 1240.92 Q107.682 1249.65 104.603 1254.26 Q101.547 1258.84 95.7373 1258.84 Q89.9271 1258.84 86.8484 1254.26 Q83.7929 1249.65 83.7929 1240.92 Q83.7929 1232.17 86.8484 1227.59 Q89.9271 1222.98 95.7373 1222.98 Z\" fill=\"#000000\" fill-rule=\"evenodd\" fill-opacity=\"1\" /><path clip-path=\"url(#clip230)\" d=\"M 0 0 M112.751 1252.29 L117.635 1252.29 L117.635 1258.17 L112.751 1258.17 L112.751 1252.29 Z\" fill=\"#000000\" fill-rule=\"evenodd\" fill-opacity=\"1\" /><path clip-path=\"url(#clip230)\" d=\"M 0 0 M126.732 1254.23 L143.052 1254.23 L143.052 1258.17 L121.107 1258.17 L121.107 1254.23 Q123.77 1251.48 128.353 1246.85 Q132.959 1242.2 134.14 1240.86 Q136.385 1238.33 137.265 1236.6 Q138.168 1234.84 138.168 1233.15 Q138.168 1230.39 136.223 1228.66 Q134.302 1226.92 131.2 1226.92 Q129.001 1226.92 126.547 1227.68 Q124.117 1228.45 121.339 1230 L121.339 1225.28 Q124.163 1224.14 126.617 1223.56 Q129.07 1222.98 131.107 1222.98 Q136.478 1222.98 139.672 1225.67 Q142.867 1228.36 142.867 1232.85 Q142.867 1234.98 142.056 1236.9 Q141.269 1238.8 139.163 1241.39 Q138.584 1242.06 135.482 1245.28 Q132.381 1248.47 126.732 1254.23 Z\" fill=\"#000000\" fill-rule=\"evenodd\" fill-opacity=\"1\" /><path clip-path=\"url(#clip230)\" d=\"M 0 0 M94.14 919.169 Q90.529 919.169 88.7003 922.733 Q86.8947 926.275 86.8947 933.405 Q86.8947 940.511 88.7003 944.076 Q90.529 947.617 94.14 947.617 Q97.7743 947.617 99.5798 944.076 Q101.409 940.511 101.409 933.405 Q101.409 926.275 99.5798 922.733 Q97.7743 919.169 94.14 919.169 M94.14 915.465 Q99.9502 915.465 103.006 920.071 Q106.084 924.655 106.084 933.405 Q106.084 942.131 103.006 946.738 Q99.9502 951.321 94.14 951.321 Q88.3299 951.321 85.2512 946.738 Q82.1957 942.131 82.1957 933.405 Q82.1957 924.655 85.2512 920.071 Q88.3299 915.465 94.14 915.465 Z\" fill=\"#000000\" fill-rule=\"evenodd\" fill-opacity=\"1\" /><path clip-path=\"url(#clip230)\" d=\"M 0 0 M111.154 944.77 L116.038 944.77 L116.038 950.65 L111.154 950.65 L111.154 944.77 Z\" fill=\"#000000\" fill-rule=\"evenodd\" fill-opacity=\"1\" /><path clip-path=\"url(#clip230)\" d=\"M 0 0 M131.107 919.169 Q127.496 919.169 125.668 922.733 Q123.862 926.275 123.862 933.405 Q123.862 940.511 125.668 944.076 Q127.496 947.617 131.107 947.617 Q134.742 947.617 136.547 944.076 Q138.376 940.511 138.376 933.405 Q138.376 926.275 136.547 922.733 Q134.742 919.169 131.107 919.169 M131.107 915.465 Q136.918 915.465 139.973 920.071 Q143.052 924.655 143.052 933.405 Q143.052 942.131 139.973 946.738 Q136.918 951.321 131.107 951.321 Q125.297 951.321 122.219 946.738 Q119.163 942.131 119.163 933.405 Q119.163 924.655 122.219 920.071 Q125.297 915.465 131.107 915.465 Z\" fill=\"#000000\" fill-rule=\"evenodd\" fill-opacity=\"1\" /><path clip-path=\"url(#clip230)\" d=\"M 0 0 M95.7373 611.648 Q92.1262 611.648 90.2975 615.213 Q88.4919 618.755 88.4919 625.884 Q88.4919 632.991 90.2975 636.556 Q92.1262 640.097 95.7373 640.097 Q99.3715 640.097 101.177 636.556 Q103.006 632.991 103.006 625.884 Q103.006 618.755 101.177 615.213 Q99.3715 611.648 95.7373 611.648 M95.7373 607.945 Q101.547 607.945 104.603 612.551 Q107.682 617.134 107.682 625.884 Q107.682 634.611 104.603 639.218 Q101.547 643.801 95.7373 643.801 Q89.9271 643.801 86.8484 639.218 Q83.7929 634.611 83.7929 625.884 Q83.7929 617.134 86.8484 612.551 Q89.9271 607.945 95.7373 607.945 Z\" fill=\"#000000\" fill-rule=\"evenodd\" fill-opacity=\"1\" /><path clip-path=\"url(#clip230)\" d=\"M 0 0 M112.751 637.25 L117.635 637.25 L117.635 643.13 L112.751 643.13 L112.751 637.25 Z\" fill=\"#000000\" fill-rule=\"evenodd\" fill-opacity=\"1\" /><path clip-path=\"url(#clip230)\" d=\"M 0 0 M126.732 639.195 L143.052 639.195 L143.052 643.13 L121.107 643.13 L121.107 639.195 Q123.77 636.44 128.353 631.81 Q132.959 627.158 134.14 625.815 Q136.385 623.292 137.265 621.556 Q138.168 619.796 138.168 618.107 Q138.168 615.352 136.223 613.616 Q134.302 611.88 131.2 611.88 Q129.001 611.88 126.547 612.644 Q124.117 613.408 121.339 614.959 L121.339 610.236 Q124.163 609.102 126.617 608.523 Q129.07 607.945 131.107 607.945 Q136.478 607.945 139.672 610.63 Q142.867 613.315 142.867 617.806 Q142.867 619.935 142.056 621.857 Q141.269 623.755 139.163 626.347 Q138.584 627.019 135.482 630.236 Q132.381 633.431 126.732 639.195 Z\" fill=\"#000000\" fill-rule=\"evenodd\" fill-opacity=\"1\" /><path clip-path=\"url(#clip230)\" d=\"M 0 0 M93.6539 304.128 Q90.0428 304.128 88.2141 307.693 Q86.4086 311.235 86.4086 318.364 Q86.4086 325.471 88.2141 329.036 Q90.0428 332.577 93.6539 332.577 Q97.2882 332.577 99.0937 329.036 Q100.922 325.471 100.922 318.364 Q100.922 311.235 99.0937 307.693 Q97.2882 304.128 93.6539 304.128 M93.6539 300.425 Q99.4641 300.425 102.52 305.031 Q105.598 309.614 105.598 318.364 Q105.598 327.091 102.52 331.698 Q99.4641 336.281 93.6539 336.281 Q87.8438 336.281 84.7651 331.698 Q81.7096 327.091 81.7096 318.364 Q81.7096 309.614 84.7651 305.031 Q87.8438 300.425 93.6539 300.425 Z\" fill=\"#000000\" fill-rule=\"evenodd\" fill-opacity=\"1\" /><path clip-path=\"url(#clip230)\" d=\"M 0 0 M110.668 329.73 L115.552 329.73 L115.552 335.61 L110.668 335.61 L110.668 329.73 Z\" fill=\"#000000\" fill-rule=\"evenodd\" fill-opacity=\"1\" /><path clip-path=\"url(#clip230)\" d=\"M 0 0 M133.469 305.124 L121.663 323.573 L133.469 323.573 L133.469 305.124 M132.242 301.05 L138.121 301.05 L138.121 323.573 L143.052 323.573 L143.052 327.461 L138.121 327.461 L138.121 335.61 L133.469 335.61 L133.469 327.461 L117.867 327.461 L117.867 322.948 L132.242 301.05 Z\" fill=\"#000000\" fill-rule=\"evenodd\" fill-opacity=\"1\" /><circle clip-path=\"url(#clip232)\" cx=\"1214.58\" cy=\"933.37\" r=\"14\" fill=\"#009af9\" fill-rule=\"evenodd\" fill-opacity=\"1\" stroke=\"#000000\" stroke-opacity=\"1\" stroke-width=\"3.2\"/>\n",
       "<circle clip-path=\"url(#clip232)\" cx=\"1119.7\" cy=\"778.392\" r=\"14\" fill=\"#009af9\" fill-rule=\"evenodd\" fill-opacity=\"1\" stroke=\"#000000\" stroke-opacity=\"1\" stroke-width=\"3.2\"/>\n",
       "<circle clip-path=\"url(#clip232)\" cx=\"240.572\" cy=\"722.552\" r=\"14\" fill=\"#009af9\" fill-rule=\"evenodd\" fill-opacity=\"1\" stroke=\"#000000\" stroke-opacity=\"1\" stroke-width=\"3.2\"/>\n",
       "<circle clip-path=\"url(#clip232)\" cx=\"1523.02\" cy=\"637.781\" r=\"14\" fill=\"#009af9\" fill-rule=\"evenodd\" fill-opacity=\"1\" stroke=\"#000000\" stroke-opacity=\"1\" stroke-width=\"3.2\"/>\n",
       "<circle clip-path=\"url(#clip232)\" cx=\"1702.03\" cy=\"1445.72\" r=\"14\" fill=\"#009af9\" fill-rule=\"evenodd\" fill-opacity=\"1\" stroke=\"#000000\" stroke-opacity=\"1\" stroke-width=\"3.2\"/>\n",
       "<circle clip-path=\"url(#clip232)\" cx=\"2033.11\" cy=\"829.069\" r=\"14\" fill=\"#009af9\" fill-rule=\"evenodd\" fill-opacity=\"1\" stroke=\"#000000\" stroke-opacity=\"1\" stroke-width=\"3.2\"/>\n",
       "<circle clip-path=\"url(#clip232)\" cx=\"2291.24\" cy=\"1168.75\" r=\"14\" fill=\"#009af9\" fill-rule=\"evenodd\" fill-opacity=\"1\" stroke=\"#000000\" stroke-opacity=\"1\" stroke-width=\"3.2\"/>\n",
       "<circle clip-path=\"url(#clip232)\" cx=\"1645.5\" cy=\"748.759\" r=\"14\" fill=\"#009af9\" fill-rule=\"evenodd\" fill-opacity=\"1\" stroke=\"#000000\" stroke-opacity=\"1\" stroke-width=\"3.2\"/>\n",
       "<circle clip-path=\"url(#clip232)\" cx=\"1848.32\" cy=\"746.012\" r=\"14\" fill=\"#009af9\" fill-rule=\"evenodd\" fill-opacity=\"1\" stroke=\"#000000\" stroke-opacity=\"1\" stroke-width=\"3.2\"/>\n",
       "<circle clip-path=\"url(#clip232)\" cx=\"1691.07\" cy=\"641.63\" r=\"14\" fill=\"#009af9\" fill-rule=\"evenodd\" fill-opacity=\"1\" stroke=\"#000000\" stroke-opacity=\"1\" stroke-width=\"3.2\"/>\n",
       "<circle clip-path=\"url(#clip232)\" cx=\"975.646\" cy=\"87.9763\" r=\"14\" fill=\"#009af9\" fill-rule=\"evenodd\" fill-opacity=\"1\" stroke=\"#000000\" stroke-opacity=\"1\" stroke-width=\"3.2\"/>\n",
       "<path clip-path=\"url(#clip230)\" d=\"\n",
       "M1987.76 216.178 L2280.3 216.178 L2280.3 95.2176 L1987.76 95.2176  Z\n",
       "  \" fill=\"#ffffff\" fill-rule=\"evenodd\" fill-opacity=\"1\"/>\n",
       "<polyline clip-path=\"url(#clip230)\" style=\"stroke:#000000; stroke-width:4; stroke-opacity:1; fill:none\" points=\"\n",
       "  1987.76,216.178 2280.3,216.178 2280.3,95.2176 1987.76,95.2176 1987.76,216.178 \n",
       "  \"/>\n",
       "<circle clip-path=\"url(#clip230)\" cx=\"2084.37\" cy=\"155.698\" r=\"23\" fill=\"#009af9\" fill-rule=\"evenodd\" fill-opacity=\"1\" stroke=\"#000000\" stroke-opacity=\"1\" stroke-width=\"5.12\"/>\n",
       "<path clip-path=\"url(#clip230)\" d=\"M 0 0 M2194.82 175.385 Q2193.01 180.015 2191.3 181.427 Q2189.59 182.839 2186.72 182.839 L2183.31 182.839 L2183.31 179.274 L2185.81 179.274 Q2187.57 179.274 2188.55 178.44 Q2189.52 177.607 2190.7 174.505 L2191.46 172.561 L2180.98 147.052 L2185.49 147.052 L2193.59 167.329 L2201.69 147.052 L2206.21 147.052 L2194.82 175.385 Z\" fill=\"#000000\" fill-rule=\"evenodd\" fill-opacity=\"1\" /><path clip-path=\"url(#clip230)\" d=\"M 0 0 M2212.09 169.042 L2219.73 169.042 L2219.73 142.677 L2211.42 144.343 L2211.42 140.084 L2219.68 138.418 L2224.36 138.418 L2224.36 169.042 L2231.99 169.042 L2231.99 172.978 L2212.09 172.978 L2212.09 169.042 Z\" fill=\"#000000\" fill-rule=\"evenodd\" fill-opacity=\"1\" /></svg>\n"
      ]
     },
     "execution_count": 5,
     "metadata": {},
     "output_type": "execute_result"
    }
   ],
   "source": [
    "scatter(X(1,0,0.1,10,0),X(1,0,0.1,10,0))"
   ]
  }
 ],
 "metadata": {
  "kernelspec": {
   "display_name": "Julia 1.5.1",
   "language": "julia",
   "name": "julia-1.5"
  },
  "language_info": {
   "file_extension": ".jl",
   "mimetype": "application/julia",
   "name": "julia",
   "version": "1.5.1"
  }
 },
 "nbformat": 4,
 "nbformat_minor": 4
}
