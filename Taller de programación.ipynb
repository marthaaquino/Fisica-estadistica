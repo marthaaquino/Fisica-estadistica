{
 "cells": [
  {
   "cell_type": "code",
   "execution_count": 6,
   "metadata": {},
   "outputs": [],
   "source": [
    "#from random import choices\n",
    "import random as rnd\n",
    "import numpy as np\n",
    "import statistics as stat\n",
    "import matplotlib.pyplot as plt\n",
    "import matplotlib.mlab as mlab\n",
    "import csv"
   ]
  },
  {
   "cell_type": "code",
   "execution_count": 5,
   "metadata": {},
   "outputs": [],
   "source": [
    "Caras_Dado = [1,2,3,4,5,6]\n",
    "\n",
    "Probabilidad=[1/6,1/6,1/6,1/6,1/6,1/6]\n",
    "N=100\n",
    "Primer_Set_De_Tiradas=np.array(rnd.choices(Caras_Dado,Probabilidad,k=N))"
   ]
  },
  {
   "cell_type": "code",
   "execution_count": 7,
   "metadata": {},
   "outputs": [
    {
     "name": "stdout",
     "output_type": "stream",
     "text": [
      "[1 1 4 4 2 1 5 6 2 1 2 4 4 3 3 3 4 6 2 1 2 3 4 4 1 1 5 1 5 3 2 5 5 5 2 5 1\n",
      " 3 3 3 2 5 6 1 2 3 1 1 4 2 5 3 1 2 3 1 3 5 1 2 4 6 5 5 4 5 1 1 6 5 1 2 3 4\n",
      " 5 3 1 3 5 3 3 2 3 6 6 6 3 1 3 3 1 1 2 2 3 1 4 3 3 2]\n"
     ]
    }
   ],
   "source": [
    "print(Primer_Set_De_Tiradas)"
   ]
  },
  {
   "cell_type": "markdown",
   "metadata": {},
   "source": [
    "Histograma: Gráfica que permite contar cosas \n",
    "Los intervalos son los bin\n",
    "\n",
    "Density normaliza y normaliza a 1"
   ]
  }
 ],
 "metadata": {
  "kernelspec": {
   "display_name": "Python 3",
   "language": "python",
   "name": "python3"
  },
  "language_info": {
   "codemirror_mode": {
    "name": "ipython",
    "version": 3
   },
   "file_extension": ".py",
   "mimetype": "text/x-python",
   "name": "python",
   "nbconvert_exporter": "python",
   "pygments_lexer": "ipython3",
   "version": "3.7.6"
  }
 },
 "nbformat": 4,
 "nbformat_minor": 4
}
