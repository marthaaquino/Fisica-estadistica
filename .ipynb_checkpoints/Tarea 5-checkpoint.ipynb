{
 "cells": [
  {
   "cell_type": "code",
   "execution_count": 1,
   "metadata": {},
   "outputs": [],
   "source": [
    "using Plots\n",
    "using DataFrames"
   ]
  },
  {
   "cell_type": "markdown",
   "metadata": {},
   "source": [
    "<div class=\"alert alert-info\" role=\"alert\">\n",
    " <p class =\"lead\"> \n",
    " <h1>Física estadística </h1>\n",
    " <h2>Tarea 5</h2>\n",
    " <h3>Autor: Aquino Chapa Martha Abril<h3>\n",
    " </div>\n",
    " \n",
    " Hecho en Julia 🔴🟢🟣"
   ]
  },
  {
   "cell_type": "markdown",
   "metadata": {},
   "source": [
    "#### Ejercicio 4:\n",
    "\n",
    "Sean dos sólidos de Einstein, con $N_A = 300$, $N_B = 200$ osciladores; y un número de paquetes de energía $q_{tot} = 100$ para distribuir entre los dos sólidos.\n",
    "\n",
    "a) Genera una sola tabla de datos que contenga los paquetes de energía del sólido $A$, $q_A$; la multiplicidad $\\Omega _A$; la entropía normalizada, $S_A / k$; y el inverso de la temperatura, $dS_A/d(U_a)$, con $U_a = \\epsilon _0 q_A$ la energía del sistema $A$ y $\\epsilon _0$ una constante. Haz lo mismo para el sólido $B$, con la $q_B$ correspondiente a cada $q_A$ tal que $q_A + q_B = q_{tot}$ (en la misma tabla, como se hizo en clase). Una vez hecho eso, agrega los valores para el sistema $A+B$ de multiplicidad total, $\\Omega _{total}$; y de entropía total normalizada, $S_{total}/k$. \\\\\n",
    "Nota: No es necesario escribir los datos para TODAS las $q_A$'s posibles, pero sí para $q_a$'s cercanas a cero, cercanas a 100, y en intermedios interesantes.\n",
    "\n",
    "b) Determina la entropía total para la cual las temperaturas inversas de $A$ y $B$ son las más cercanas entre sí.\n",
    "\n",
    "c) Grafica $S_{total}$, $S_A$ y $S_B$ vs. $q_A$ (en una msma gráfica para poder comparar entre sí).\n",
    "\n",
    "\n",
    "##### Solución:"
   ]
  },
  {
   "cell_type": "markdown",
   "metadata": {},
   "source": [
    "Para dos sólidos de Einstein, con número de atómos grandes a diferencia del número de cuantos se obtuvo la siguiente aproximación \n",
    "$$\\Omega\\approx \\frac{(q+N)!)}{q!N!}.$$"
   ]
  },
  {
   "cell_type": "markdown",
   "metadata": {},
   "source": [
    "La entropía se define como\n",
    "$$ S=k_bln(Omega). $$\n",
    "Por otro lado, en el ejericio 1 de la clase se obtuvo que \n",
    "$$ln(\\Omega)\\approx (N+q)ln(N+q)-qln(q)-Nln(N), $$\n",
    "por lo cual\n",
    "$$\\frac{d\\Omega}{dq}=ln(q+n)-ln(q), $$\n",
    "así el inverso de la temperatura es\n",
    "$$T^{-1}={\\frac{k_b}{\\epsilon}}{\\frac{dln(\\Omega)}{dq}} $$"
   ]
  },
  {
   "cell_type": "markdown",
   "metadata": {},
   "source": [
    "Creando las funciones que permitan calcular lo pedido en el ejercicio."
   ]
  },
  {
   "cell_type": "code",
   "execution_count": 2,
   "metadata": {},
   "outputs": [
    {
     "data": {
      "text/plain": [
       "Ω (generic function with 1 method)"
      ]
     },
     "execution_count": 2,
     "metadata": {},
     "output_type": "execute_result"
    }
   ],
   "source": [
    "#Función que calcule la multiplicicidad\n",
    "function Ω(q,N)\n",
    "    omega = factorial(big(q+N-1))/(factorial(big(q))*factorial(big(N-1)))\n",
    "    return omega\n",
    "end"
   ]
  },
  {
   "cell_type": "code",
   "execution_count": 3,
   "metadata": {},
   "outputs": [
    {
     "data": {
      "text/plain": [
       "entropia_normalizada (generic function with 1 method)"
      ]
     },
     "execution_count": 3,
     "metadata": {},
     "output_type": "execute_result"
    }
   ],
   "source": [
    "#Función que caclule la entropía a partir de conocer la multiplicidad\n",
    "function entropia_normalizada(Ω)\n",
    "    return log(Ω)\n",
    "end"
   ]
  },
  {
   "cell_type": "code",
   "execution_count": 5,
   "metadata": {},
   "outputs": [
    {
     "data": {
      "text/plain": [
       "T (generic function with 1 method)"
      ]
     },
     "execution_count": 5,
     "metadata": {},
     "output_type": "execute_result"
    }
   ],
   "source": [
    "#Función que caclule la 1/temperatura\n",
    "function T(q,N)\n",
    "    kb=1\n",
    "    ϵ=1\n",
    "    S=(kb/ϵ)*(log(N+q)-log(q))\n",
    "    return S\n",
    "end"
   ]
  },
  {
   "cell_type": "markdown",
   "metadata": {},
   "source": [
    "Para leer la tabla se considera MA y MB como los correspondientes 1/T a cada sistema"
   ]
  },
  {
   "cell_type": "code",
   "execution_count": 25,
   "metadata": {},
   "outputs": [
    {
     "name": "stdout",
     "output_type": "stream",
     "text": [
      "101×10 DataFrame\n",
      "│ Row │ qA    │ ΩA          │ EntropiaA │ MA      │ qB    │ ΩB          │\n",
      "│     │ \u001b[90mInt64\u001b[39m │ \u001b[90mBigFloat\u001b[39m    │ \u001b[90mBigFloat\u001b[39m  │ \u001b[90mFloat64\u001b[39m │ \u001b[90mInt64\u001b[39m │ \u001b[90mBigFloat\u001b[39m    │\n",
      "├─────┼───────┼─────────────┼───────────┼─────────┼───────┼─────────────┤\n",
      "│ 1   │ 0     │ 1.0         │ 0.0       │ Inf     │ 100   │ 2.77217e+81 │\n",
      "│ 2   │ 1     │ 300.0       │ 5.70378   │ 5.70711 │ 99    │ 9.27146e+80 │\n",
      "│ 3   │ 2     │ 45150.0     │ 10.7177   │ 5.01728 │ 98    │ 3.08012e+80 │\n",
      "│ 4   │ 3     │ 4.5451e+06  │ 15.3296   │ 4.61512 │ 97    │ 1.01633e+80 │\n",
      "│ 5   │ 4     │ 3.44291e+08 │ 19.657    │ 4.33073 │ 96    │ 3.33056e+79 │\n",
      "│ 6   │ 5     │ 2.09329e+10 │ 23.7646   │ 4.11087 │ 95    │ 1.08384e+79 │\n",
      "│ 7   │ 6     │ 1.06409e+12 │ 27.6931   │ 3.93183 │ 94    │ 3.50221e+78 │\n",
      "│ 8   │ 7     │ 4.65159e+13 │ 31.4708   │ 3.78094 │ 93    │ 1.12358e+78 │\n",
      "│ 9   │ 8     │ 1.78505e+15 │ 35.1182   │ 3.65066 │ 92    │ 3.57851e+77 │\n",
      "│ 10  │ 9     │ 6.10883e+16 │ 38.6511   │ 3.53612 │ 91    │ 1.13135e+77 │\n",
      "│ 11  │ 10    │ 1.88763e+18 │ 42.0819   │ 3.43399 │ 90    │ 3.5501e+76  │\n",
      "│ 12  │ 11    │ 5.31968e+19 │ 45.4205   │ 3.3419  │ 89    │ 1.10557e+76 │\n",
      "│ 13  │ 12    │ 1.37868e+21 │ 48.6754   │ 3.2581  │ 88    │ 3.41651e+75 │\n",
      "│ 14  │ 13    │ 3.30884e+22 │ 51.8535   │ 3.18125 │ 87    │ 1.04757e+75 │\n",
      "│ 15  │ 14    │ 7.39763e+23 │ 54.9606   │ 3.11034 │ 86    │ 3.18667e+74 │\n",
      "│ 16  │ 15    │ 1.54857e+25 │ 58.002    │ 3.04452 │ 85    │ 9.61592e+73 │\n",
      "│ 17  │ 16    │ 3.04875e+26 │ 60.9819   │ 2.98315 │ 84    │ 2.878e+73   │\n",
      "│ 18  │ 17    │ 5.66708e+27 │ 63.9045   │ 2.92569 │ 83    │ 8.54248e+72 │\n",
      "│ 19  │ 18    │ 9.98036e+28 │ 66.773    │ 2.87168 │ 82    │ 2.51428e+72 │\n",
      "│ 20  │ 19    │ 1.6704e+30  │ 69.5906   │ 2.82075 │ 81    │ 7.33704e+71 │\n",
      "│ 21  │ 20    │ 2.66428e+31 │ 72.3601   │ 2.77259 │ 80    │ 2.1225e+71  │\n",
      "│ 22  │ 21    │ 4.05986e+32 │ 75.0839   │ 2.72692 │ 79    │ 6.08602e+70 │\n",
      "│ 23  │ 22    │ 5.92371e+33 │ 77.7643   │ 2.68351 │ 78    │ 1.72948e+70 │\n",
      "│ 24  │ 23    │ 8.29319e+34 │ 80.4033   │ 2.64216 │ 77    │ 4.87002e+69 │\n",
      "│ 25  │ 24    │ 1.11613e+36 │ 83.0029   │ 2.60269 │ 76    │ 1.35866e+69 │\n",
      "│ 26  │ 25    │ 1.4465e+37  │ 85.5648   │ 2.56495 │ 75    │ 3.75485e+68 │\n",
      "│ 27  │ 26    │ 1.80812e+38 │ 88.0905   │ 2.5288  │ 74    │ 1.02779e+68 │\n",
      "│ 28  │ 27    │ 2.18314e+39 │ 90.5816   │ 2.49412 │ 73    │ 2.78595e+67 │\n",
      "│ 29  │ 28    │ 2.5496e+40  │ 93.0393   │ 2.46081 │ 72    │ 7.47699e+66 │\n",
      "│ 30  │ 29    │ 2.88368e+41 │ 95.4651   │ 2.42876 │ 71    │ 1.98651e+66 │\n",
      "│ 31  │ 30    │ 3.16244e+42 │ 97.8599   │ 2.3979  │ 70    │ 5.22378e+65 │\n",
      "│ 32  │ 31    │ 3.36647e+43 │ 100.225   │ 2.36813 │ 69    │ 1.35935e+65 │\n",
      "│ 33  │ 32    │ 3.48219e+44 │ 102.561   │ 2.3394  │ 68    │ 3.49981e+64 │\n",
      "│ 34  │ 33    │ 3.50329e+45 │ 104.87    │ 2.31163 │ 67    │ 8.91338e+63 │\n",
      "│ 35  │ 34    │ 3.43117e+46 │ 107.152   │ 2.28478 │ 66    │ 2.2451e+63  │\n",
      "│ 36  │ 35    │ 3.27431e+47 │ 109.408   │ 2.25878 │ 65    │ 5.59157e+62 │\n",
      "│ 37  │ 36    │ 3.04693e+48 │ 111.638   │ 2.23359 │ 64    │ 1.37671e+62 │\n",
      "│ 38  │ 37    │ 2.76694e+49 │ 113.844   │ 2.20917 │ 63    │ 3.35017e+61 │\n",
      "│ 39  │ 38    │ 2.45384e+50 │ 116.027   │ 2.18546 │ 62    │ 8.05576e+60 │\n",
      "│ 40  │ 39    │ 2.12666e+51 │ 118.186   │ 2.16244 │ 61    │ 1.91363e+60 │\n",
      "│ 41  │ 40    │ 1.80235e+52 │ 120.324   │ 2.14007 │ 60    │ 4.48967e+59 │\n",
      "│ 42  │ 41    │ 1.49463e+53 │ 122.439   │ 2.11831 │ 59    │ 1.04008e+59 │\n",
      "│ 43  │ 42    │ 1.2135e+54  │ 124.533   │ 2.09714 │ 58    │ 2.37847e+58 │\n",
      "│ 44  │ 43    │ 9.65152e+54 │ 126.607   │ 2.07653 │ 57    │ 5.36776e+57 │\n",
      "│ 45  │ 44    │ 7.5238e+55  │ 128.66    │ 2.05645 │ 56    │ 1.19516e+57 │\n",
      "│ 46  │ 45    │ 5.75153e+56 │ 130.694   │ 2.03688 │ 55    │ 2.62468e+56 │\n",
      "│ 47  │ 46    │ 4.31365e+57 │ 132.709   │ 2.0178  │ 54    │ 5.68335e+55 │\n",
      "│ 48  │ 47    │ 3.17558e+58 │ 134.705   │ 1.99918 │ 53    │ 1.21305e+55 │\n",
      "│ 49  │ 48    │ 2.29568e+59 │ 136.684   │ 1.981   │ 52    │ 2.55125e+54 │\n",
      "│ 50  │ 49    │ 1.6304e+60  │ 138.644   │ 1.96325 │ 51    │ 5.28546e+53 │\n",
      "│ 51  │ 50    │ 1.13802e+61 │ 140.587   │ 1.94591 │ 50    │ 1.07823e+53 │\n",
      "│ 52  │ 51    │ 7.80993e+61 │ 142.513   │ 1.92896 │ 49    │ 2.16513e+52 │\n",
      "│ 53  │ 52    │ 5.27171e+62 │ 144.423   │ 1.91239 │ 48    │ 4.27787e+51 │\n",
      "│ 54  │ 53    │ 3.50121e+63 │ 146.316   │ 1.89618 │ 47    │ 8.31328e+50 │\n",
      "│ 55  │ 54    │ 2.28875e+64 │ 148.193   │ 1.88031 │ 46    │ 1.58831e+50 │\n",
      "│ 56  │ 55    │ 1.47312e+65 │ 150.055   │ 1.86478 │ 45    │ 2.98213e+49 │\n",
      "│ 57  │ 56    │ 9.33856e+65 │ 151.902   │ 1.84958 │ 44    │ 5.49983e+48 │\n",
      "│ 58  │ 57    │ 5.8325e+66  │ 153.734   │ 1.83468 │ 43    │ 9.95854e+47 │\n",
      "│ 59  │ 58    │ 3.59001e+67 │ 155.551   │ 1.82009 │ 42    │ 1.76949e+47 │\n",
      "│ 60  │ 59    │ 2.17834e+68 │ 157.354   │ 1.80578 │ 41    │ 3.08376e+46 │\n",
      "│ 61  │ 60    │ 1.30337e+69 │ 159.143   │ 1.79176 │ 40    │ 5.2681e+45  │\n",
      "│ 62  │ 61    │ 7.69205e+69 │ 160.919   │ 1.778   │ 39    │ 8.8169e+44  │\n",
      "│ 63  │ 62    │ 4.47876e+70 │ 162.68    │ 1.76451 │ 38    │ 1.44479e+44 │\n",
      "│ 64  │ 63    │ 2.57351e+71 │ 164.429   │ 1.75127 │ 37    │ 2.31653e+43 │\n",
      "│ 65  │ 64    │ 1.45966e+72 │ 166.164   │ 1.73827 │ 36    │ 3.63185e+42 │\n",
      "│ 66  │ 65    │ 8.17411e+72 │ 167.887   │ 1.72551 │ 35    │ 5.56369e+41 │\n",
      "│ 67  │ 66    │ 4.52053e+73 │ 169.597   │ 1.71298 │ 34    │ 8.32176e+40 │\n",
      "│ 68  │ 67    │ 2.46942e+74 │ 171.295   │ 1.70067 │ 33    │ 1.21433e+40 │\n",
      "│ 69  │ 68    │ 1.33276e+75 │ 172.981   │ 1.68858 │ 32    │ 1.72729e+39 │\n",
      "│ 70  │ 69    │ 7.10806e+75 │ 174.655   │ 1.67669 │ 31    │ 2.39278e+38 │\n",
      "│ 71  │ 70    │ 3.74697e+76 │ 176.317   │ 1.66501 │ 30    │ 3.22505e+37 │\n",
      "│ 72  │ 71    │ 1.95264e+77 │ 177.968   │ 1.65352 │ 29    │ 4.22495e+36 │\n",
      "│ 73  │ 72    │ 1.00615e+78 │ 179.608   │ 1.64223 │ 28    │ 5.37384e+35 │\n",
      "│ 74  │ 73    │ 5.12725e+78 │ 181.236   │ 1.63112 │ 27    │ 6.62853e+34 │\n",
      "│ 75  │ 74    │ 2.58441e+79 │ 182.854   │ 1.62019 │ 26    │ 7.91904e+33 │\n",
      "│ 76  │ 75    │ 1.28876e+80 │ 184.46    │ 1.60944 │ 25    │ 9.15089e+32 │\n",
      "│ 77  │ 76    │ 6.35901e+80 │ 186.057   │ 1.59886 │ 24    │ 1.0213e+32  │\n",
      "│ 78  │ 77    │ 3.10518e+81 │ 187.642   │ 1.58844 │ 23    │ 1.09916e+31 │\n",
      "│ 79  │ 78    │ 1.50084e+82 │ 189.218   │ 1.57819 │ 22    │ 1.13877e+30 │\n",
      "│ 80  │ 79    │ 7.18122e+82 │ 190.783   │ 1.56809 │ 21    │ 1.13362e+29 │\n",
      "│ 81  │ 80    │ 3.4021e+83  │ 192.339   │ 1.55814 │ 20    │ 1.08209e+28 │\n",
      "│ 82  │ 81    │ 1.59605e+84 │ 193.885   │ 1.54835 │ 19    │ 9.88211e+26 │\n",
      "│ 83  │ 82    │ 7.41579e+84 │ 195.421   │ 1.5387  │ 18    │ 8.61284e+25 │\n",
      "│ 84  │ 83    │ 3.41305e+85 │ 196.947   │ 1.52919 │ 17    │ 7.14429e+24 │\n",
      "│ 85  │ 84    │ 1.55619e+86 │ 198.465   │ 1.51983 │ 16    │ 5.62282e+23 │\n",
      "│ 86  │ 85    │ 7.03031e+86 │ 199.973   │ 1.51059 │ 15    │ 4.18443e+22 │\n",
      "│ 87  │ 86    │ 3.14729e+87 │ 201.471   │ 1.50149 │ 14    │ 2.93301e+21 │\n",
      "│ 88  │ 87    │ 1.39638e+88 │ 202.961   │ 1.49252 │ 13    │ 1.9278e+20  │\n",
      "│ 89  │ 88    │ 6.14091e+88 │ 204.442   │ 1.48367 │ 12    │ 1.18214e+19 │\n",
      "│ 90  │ 89    │ 2.67716e+89 │ 205.915   │ 1.47494 │ 11    │ 6.72308e+17 │\n",
      "│ 91  │ 90    │ 1.15713e+90 │ 207.379   │ 1.46634 │ 10    │ 3.52161e+16 │\n",
      "│ 92  │ 91    │ 4.95912e+90 │ 208.834   │ 1.45785 │ 9     │ 1.68498e+15 │\n",
      "│ 93  │ 92    │ 2.10763e+91 │ 210.281   │ 1.44947 │ 8     │ 7.29079e+13 │\n",
      "│ 94  │ 93    │ 8.88376e+91 │ 211.719   │ 1.44121 │ 7     │ 2.8177e+12  │\n",
      "│ 95  │ 94    │ 3.71417e+92 │ 213.15    │ 1.43306 │ 6     │ 9.5747e+10  │\n",
      "│ 96  │ 95    │ 1.5404e+93  │ 214.572   │ 1.42501 │ 5     │ 2.80235e+09 │\n",
      "│ 97  │ 96    │ 6.33811e+93 │ 215.987   │ 1.41707 │ 4     │ 6.8685e+07  │\n",
      "│ 98  │ 97    │ 2.58752e+94 │ 217.394   │ 1.40923 │ 3     │ 1.3534e+06  │\n",
      "│ 99  │ 98    │ 1.04821e+95 │ 218.793   │ 1.40148 │ 2     │ 20100.0     │\n",
      "│ 100 │ 99    │ 4.21401e+95 │ 220.184   │ 1.39384 │ 1     │ 200.0       │\n",
      "│ 101 │ 100   │ 1.68139e+96 │ 221.568   │ 1.38629 │ 0     │ 1.0         │\n",
      "\n",
      "│ Row │ EntropiaB │ MB      │ Ω_total      │ S_total  │\n",
      "│     │ \u001b[90mBigFloat\u001b[39m  │ \u001b[90mFloat64\u001b[39m │ \u001b[90mBigFloat\u001b[39m     │ \u001b[90mBigFloat\u001b[39m │\n",
      "├─────┼───────────┼─────────┼──────────────┼──────────┤\n",
      "│ 1   │ 187.529   │ 1.09861 │ 2.77217e+81  │ 187.529  │\n",
      "│ 2   │ 186.434   │ 1.10532 │ 2.78144e+83  │ 192.138  │\n",
      "│ 3   │ 185.332   │ 1.11213 │ 1.39067e+85  │ 196.05   │\n",
      "│ 4   │ 184.223   │ 1.11902 │ 4.61934e+86  │ 199.553  │\n",
      "│ 5   │ 183.107   │ 1.12601 │ 1.14668e+88  │ 202.764  │\n",
      "│ 6   │ 181.985   │ 1.1331  │ 2.2688e+89   │ 205.749  │\n",
      "│ 7   │ 180.855   │ 1.14028 │ 3.72667e+90  │ 208.548  │\n",
      "│ 8   │ 179.718   │ 1.14757 │ 5.22642e+91  │ 211.189  │\n",
      "│ 9   │ 178.574   │ 1.15497 │ 6.38782e+92  │ 213.692  │\n",
      "│ 10  │ 177.422   │ 1.16246 │ 6.91124e+93  │ 216.074  │\n",
      "│ 11  │ 176.263   │ 1.17007 │ 6.70128e+94  │ 218.345  │\n",
      "│ 12  │ 175.097   │ 1.17779 │ 5.88127e+95  │ 220.517  │\n",
      "│ 13  │ 173.923   │ 1.18562 │ 4.71029e+96  │ 222.598  │\n",
      "│ 14  │ 172.74    │ 1.19357 │ 3.46625e+97  │ 224.594  │\n",
      "│ 15  │ 171.55    │ 1.20164 │ 2.35738e+98  │ 226.511  │\n",
      "│ 16  │ 170.352   │ 1.20984 │ 1.48909e+99  │ 228.354  │\n",
      "│ 17  │ 169.146   │ 1.21816 │ 8.7743e+99   │ 230.128  │\n",
      "│ 18  │ 167.931   │ 1.22661 │ 4.8411e+100  │ 231.836  │\n",
      "│ 19  │ 166.708   │ 1.23519 │ 2.50934e+101 │ 233.481  │\n",
      "│ 20  │ 165.476   │ 1.24391 │ 1.22558e+102 │ 235.067  │\n",
      "│ 21  │ 164.236   │ 1.25276 │ 5.65494e+102 │ 236.596  │\n",
      "│ 22  │ 162.987   │ 1.26176 │ 2.47084e+103 │ 238.071  │\n",
      "│ 23  │ 161.729   │ 1.27091 │ 1.02449e+104 │ 239.493  │\n",
      "│ 24  │ 160.461   │ 1.28021 │ 4.0388e+104  │ 240.865  │\n",
      "│ 25  │ 159.185   │ 1.28967 │ 1.51644e+105 │ 242.188  │\n",
      "│ 26  │ 157.899   │ 1.29928 │ 5.43139e+105 │ 243.464  │\n",
      "│ 27  │ 156.603   │ 1.30906 │ 1.85837e+106 │ 244.694  │\n",
      "│ 28  │ 155.298   │ 1.31901 │ 6.08211e+106 │ 245.879  │\n",
      "│ 29  │ 153.982   │ 1.32914 │ 1.90633e+107 │ 247.022  │\n",
      "│ 30  │ 152.657   │ 1.33944 │ 5.72845e+107 │ 248.122  │\n",
      "│ 31  │ 151.321   │ 1.34993 │ 1.65199e+108 │ 249.181  │\n",
      "│ 32  │ 149.975   │ 1.3606  │ 4.5762e+108  │ 250.2    │\n",
      "│ 33  │ 148.618   │ 1.37148 │ 1.2187e+109  │ 251.18   │\n",
      "│ 34  │ 147.25    │ 1.38256 │ 3.12262e+109 │ 252.12   │\n"
     ]
    },
    {
     "name": "stdout",
     "output_type": "stream",
     "text": [
      "│ 35  │ 145.872   │ 1.39384 │ 7.70331e+109 │ 253.023  │\n",
      "│ 36  │ 144.482   │ 1.40534 │ 1.83085e+110 │ 253.889  │\n",
      "│ 37  │ 143.08    │ 1.41707 │ 4.19474e+110 │ 254.718  │\n",
      "│ 38  │ 141.667   │ 1.42902 │ 9.26973e+110 │ 255.511  │\n",
      "│ 39  │ 140.241   │ 1.44121 │ 1.97675e+111 │ 256.268  │\n",
      "│ 40  │ 138.804   │ 1.45365 │ 4.06964e+111 │ 256.99   │\n",
      "│ 41  │ 137.354   │ 1.46634 │ 8.09193e+111 │ 257.678  │\n",
      "│ 42  │ 135.892   │ 1.47929 │ 1.55453e+112 │ 258.331  │\n",
      "│ 43  │ 134.416   │ 1.49252 │ 2.88626e+112 │ 258.949  │\n",
      "│ 44  │ 132.928   │ 1.50602 │ 5.1807e+112  │ 259.534  │\n",
      "│ 45  │ 131.426   │ 1.51983 │ 8.99218e+112 │ 260.086  │\n",
      "│ 46  │ 129.91    │ 1.53393 │ 1.50959e+113 │ 260.604  │\n",
      "│ 47  │ 128.38    │ 1.54835 │ 2.4516e+113  │ 261.089  │\n",
      "│ 48  │ 126.835   │ 1.5631  │ 3.85213e+113 │ 261.541  │\n",
      "│ 49  │ 125.276   │ 1.57819 │ 5.85685e+113 │ 261.96   │\n",
      "│ 50  │ 123.702   │ 1.59363 │ 8.61741e+113 │ 262.346  │\n",
      "│ 51  │ 122.112   │ 1.60944 │ 1.22705e+114 │ 262.699  │\n",
      "│ 52  │ 120.507   │ 1.62563 │ 1.69095e+114 │ 263.02   │\n",
      "│ 53  │ 118.885   │ 1.64223 │ 2.25517e+114 │ 263.308  │\n",
      "│ 54  │ 117.247   │ 1.65924 │ 2.91065e+114 │ 263.563  │\n",
      "│ 55  │ 115.592   │ 1.67669 │ 3.63525e+114 │ 263.785  │\n",
      "│ 56  │ 113.919   │ 1.6946  │ 4.39305e+114 │ 263.975  │\n",
      "│ 57  │ 112.229   │ 1.71298 │ 5.13605e+114 │ 264.131  │\n",
      "│ 58  │ 110.52    │ 1.73186 │ 5.80832e+114 │ 264.254  │\n",
      "│ 59  │ 108.792   │ 1.75127 │ 6.35249e+114 │ 264.344  │\n",
      "│ 60  │ 107.045   │ 1.77122 │ 6.71749e+114 │ 264.399  │\n",
      "│ 61  │ 105.278   │ 1.79176 │ 6.86631e+114 │ 264.421  │\n",
      "│ 62  │ 103.49    │ 1.8129  │ 6.782e+114   │ 264.409  │\n",
      "│ 63  │ 101.682   │ 1.83468 │ 6.47085e+114 │ 264.362  │\n",
      "│ 64  │ 99.8512   │ 1.85714 │ 5.96162e+114 │ 264.28   │\n",
      "│ 65  │ 97.9983   │ 1.88031 │ 5.30128e+114 │ 264.163  │\n",
      "│ 66  │ 96.1223   │ 1.90424 │ 4.54782e+114 │ 264.009  │\n",
      "│ 67  │ 94.2223   │ 1.92896 │ 3.76188e+114 │ 263.82   │\n",
      "│ 68  │ 92.2976   │ 1.95453 │ 2.9987e+114  │ 263.593  │\n",
      "│ 69  │ 90.3474   │ 1.981   │ 2.30206e+114 │ 263.329  │\n",
      "│ 70  │ 88.3707   │ 2.00843 │ 1.7008e+114  │ 263.026  │\n",
      "│ 71  │ 86.3666   │ 2.03688 │ 1.20841e+114 │ 262.684  │\n",
      "│ 72  │ 84.3341   │ 2.06643 │ 8.24983e+113 │ 262.302  │\n",
      "│ 73  │ 82.272    │ 2.09714 │ 5.40691e+113 │ 261.88   │\n",
      "│ 74  │ 80.1793   │ 2.12911 │ 3.39861e+113 │ 261.415  │\n",
      "│ 75  │ 78.0546   │ 2.16244 │ 2.04661e+113 │ 260.908  │\n",
      "│ 76  │ 75.8966   │ 2.19722 │ 1.17933e+113 │ 260.357  │\n",
      "│ 77  │ 73.7038   │ 2.23359 │ 6.49449e+112 │ 259.76   │\n",
      "│ 78  │ 71.4747   │ 2.27168 │ 3.4131e+112  │ 259.117  │\n",
      "│ 79  │ 69.2075   │ 2.31163 │ 1.70911e+112 │ 258.426  │\n",
      "│ 80  │ 66.9004   │ 2.35364 │ 8.14077e+111 │ 257.684  │\n",
      "│ 81  │ 64.5513   │ 2.3979  │ 3.68138e+111 │ 256.89   │\n",
      "│ 82  │ 62.1579   │ 2.44463 │ 1.57723e+111 │ 256.043  │\n",
      "│ 83  │ 59.7179   │ 2.49412 │ 6.3871e+110  │ 255.139  │\n",
      "│ 84  │ 57.2284   │ 2.54668 │ 2.43838e+110 │ 254.176  │\n",
      "│ 85  │ 54.6863   │ 2.60269 │ 8.75017e+109 │ 253.151  │\n",
      "│ 86  │ 52.0882   │ 2.66259 │ 2.94178e+109 │ 252.061  │\n",
      "│ 87  │ 49.4303   │ 2.72692 │ 9.23103e+108 │ 250.902  │\n",
      "│ 88  │ 46.7081   │ 2.79634 │ 2.69195e+108 │ 249.669  │\n",
      "│ 89  │ 43.9164   │ 2.87168 │ 7.25943e+107 │ 248.359  │\n",
      "│ 90  │ 41.0495   │ 2.95396 │ 1.79988e+107 │ 246.964  │\n",
      "│ 91  │ 38.1003   │ 3.04452 │ 4.07496e+106 │ 245.479  │\n",
      "│ 92  │ 35.0605   │ 3.14511 │ 8.35603e+105 │ 243.894  │\n",
      "│ 93  │ 31.9202   │ 3.2581  │ 1.53663e+105 │ 242.201  │\n",
      "│ 94  │ 28.6669   │ 3.38681 │ 2.50317e+104 │ 240.386  │\n",
      "│ 95  │ 25.285    │ 3.53612 │ 3.5562e+103  │ 238.435  │\n",
      "│ 96  │ 21.7537   │ 3.71357 │ 4.31675e+102 │ 236.326  │\n",
      "│ 97  │ 18.045    │ 3.93183 │ 4.35334e+101 │ 234.032  │\n",
      "│ 98  │ 14.1181   │ 4.21459 │ 3.50195e+100 │ 231.512  │\n",
      "│ 99  │ 9.90848   │ 4.61512 │ 2.1069e+99   │ 228.701  │\n",
      "│ 100 │ 5.29832   │ 5.3033  │ 8.42803e+97  │ 225.482  │\n",
      "│ 101 │ 0.0       │ Inf     │ 1.68139e+96  │ 221.568  │"
     ]
    }
   ],
   "source": [
    "#Creemos los datos de la tabla tomando en cuenta la ''simetría de la tabla''\n",
    "#Número de quantos en el sistema a\n",
    "qA_data=collect(0:1:100)\n",
    "#La multiplicidad de A correspondiente a i número de cuantos y 300 osciladores\n",
    "ΩA_data=Ω.(qA_data,300)\n",
    "#Número de quantos en B que es 100 menos el número de quantos en A\n",
    "qB_data=100 .-qA_data\n",
    "#La multiplicidad del sistema B\n",
    "ΩB_data=Ω.(qB_data,200)\n",
    "#La entropía de A\n",
    "SA_data=entropia_normalizada.(ΩA_data)\n",
    "#La entroía de B\n",
    "SB_data=entropia_normalizada.(ΩB_data)\n",
    "#1/T en a\n",
    "TA_data=T.(qA_data,300)\n",
    "#1/T en B\n",
    "TB_data=T.(qB_data,200)\n",
    "#Multiplicidad total que es la multiplicación de las multiplicidades\n",
    "Ω_total_data=ΩA_data.*ΩB_data\n",
    "#Entropía total que es la suma de las entroías\n",
    "S_total_data=SA_data.+SB_data\n",
    "#Creamos la tabla que presente los datos en el siguiente orden:quantos en A, multiplicidad de A, entropía en A\n",
    "#1/T en A, seguido de los mismos datos en B.\n",
    "#Multiplicidad total y Omega total\n",
    "DATOS=DataFrame(qA=qA_data,ΩA=ΩA_data,EntropiaA=SA_data,MA=TA_data,qB=qB_data,ΩB=ΩB_data,EntropiaB=SB_data,MB=TB_data,\n",
    "                Ω_total=Ω_total_data,S_total=S_total_data)\n",
    "show(DATOS,allcols=true,allrows=true)"
   ]
  },
  {
   "cell_type": "markdown",
   "metadata": {},
   "source": [
    "Dichos datos (o almenos los que aparecen) corresponden a los datos mostrados en el libro:  Schroeder, D. V. (2000). An Introduction to Thermal Physics.Addison-Wesley página 59."
   ]
  },
  {
   "cell_type": "markdown",
   "metadata": {},
   "source": [
    "b) Para obtener el valor de la entroía total para la cual las temperaturas son cercanas entre si creamos la siguiente función."
   ]
  },
  {
   "cell_type": "code",
   "execution_count": 28,
   "metadata": {},
   "outputs": [
    {
     "data": {
      "text/plain": [
       "entropia_distancia (generic function with 1 method)"
      ]
     },
     "execution_count": 28,
     "metadata": {},
     "output_type": "execute_result"
    }
   ],
   "source": [
    "#lista1=temperatura 1\n",
    "#lista2=temperatura 2\n",
    "#entropia=entropía total del sistema (todos son arreglos con el mismo núm de elementos)\n",
    "function entropia_distancia(lista1,lista2,entropia) \n",
    "    #La diferencia entre temperaturas\n",
    "    distancia = abs.(lista1 .- lista2)\n",
    "    #Un ciclo que devulva el indíce del elemento de la diferencia entre inversos de la temperatura\n",
    "    for i in 1:length(distancia)\n",
    "        if distancia[i] == minimum(distancia)\n",
    "            return (lista1[i],lista2[i],entropia[i])\n",
    "        end\n",
    "    end\n",
    "end\n",
    "#Devuelve las temperaturas más cercanas entre si en el sistema 1, sistema 2 y la entropía\n",
    "#total correspondiente "
   ]
  },
  {
   "cell_type": "markdown",
   "metadata": {},
   "source": [
    "Los valores 1/T que se parecen más entre si y su entropía total correspondiente es "
   ]
  },
  {
   "cell_type": "code",
   "execution_count": 29,
   "metadata": {},
   "outputs": [
    {
     "data": {
      "text/plain": [
       "(1.7917594692280554, 1.791759469228055, 264.4213267818922494055593845007900203578553795235138397202774274561917985517306)"
      ]
     },
     "execution_count": 29,
     "metadata": {},
     "output_type": "execute_result"
    }
   ],
   "source": [
    "#Calculando el elemento que se encuentra caasi en\n",
    "entropia_distancia(TA_data,TB_data,S_total_data)"
   ]
  },
  {
   "cell_type": "markdown",
   "metadata": {},
   "source": [
    "El máximo en la entropía total es:"
   ]
  },
  {
   "cell_type": "code",
   "execution_count": 31,
   "metadata": {},
   "outputs": [
    {
     "data": {
      "text/plain": [
       "264.4213267818922494055593845007900203578553795235138397202774274561917985517306"
      ]
     },
     "execution_count": 31,
     "metadata": {},
     "output_type": "execute_result"
    }
   ],
   "source": [
    "maximum(S_total_data)"
   ]
  },
  {
   "cell_type": "markdown",
   "metadata": {},
   "source": [
    "Vemos que corresponde con la teoría: en el sistema en equilibrio la entropía total del sistema se máximiza.\n",
    "\n",
    "Ahora calculando la multiplicidad total correspondiente a cuando la entropía se maximiza"
   ]
  },
  {
   "cell_type": "code",
   "execution_count": 32,
   "metadata": {},
   "outputs": [
    {
     "data": {
      "text/plain": [
       "61"
      ]
     },
     "execution_count": 32,
     "metadata": {},
     "output_type": "execute_result"
    }
   ],
   "source": [
    "#Ciclo para conocer el indice correspondiente a la entropía máxima\n",
    "for i in 1:length(S_total_data)\n",
    "   if maximum(S_total_data)==S_total_data[i]\n",
    "        return i\n",
    "    end\n",
    "end"
   ]
  },
  {
   "cell_type": "markdown",
   "metadata": {},
   "source": [
    "Por lo que la multiplicidad correspondiente a cuando la entropía total se maximiza:"
   ]
  },
  {
   "cell_type": "code",
   "execution_count": 22,
   "metadata": {},
   "outputs": [
    {
     "data": {
      "text/plain": [
       "6.866305444480905576053279924558993308220523651304617917299213619156097955189292e+114"
      ]
     },
     "execution_count": 22,
     "metadata": {},
     "output_type": "execute_result"
    }
   ],
   "source": [
    "Ω_total_data[61]"
   ]
  },
  {
   "cell_type": "markdown",
   "metadata": {},
   "source": [
    "La multiplicidad total máxima es"
   ]
  },
  {
   "cell_type": "code",
   "execution_count": 33,
   "metadata": {},
   "outputs": [
    {
     "data": {
      "text/plain": [
       "6.866305444480905576053279924558993308220523651304617917299213619156097955189292e+114"
      ]
     },
     "execution_count": 33,
     "metadata": {},
     "output_type": "execute_result"
    }
   ],
   "source": [
    "maximum(Ω_total_data)"
   ]
  },
  {
   "cell_type": "markdown",
   "metadata": {},
   "source": [
    "Lo que a su vez vuelve a corresponder con la teoría: la entropía se máximiza cuando se tiene la multiplicidad maximiza.\n",
    "\n",
    "Graficando las entropías en función de los quantos de energía en A."
   ]
  },
  {
   "cell_type": "code",
   "execution_count": 40,
   "metadata": {},
   "outputs": [
    {
     "data": {
      "image/svg+xml": [
       "<?xml version=\"1.0\" encoding=\"utf-8\"?>\n",
       "<svg xmlns=\"http://www.w3.org/2000/svg\" xmlns:xlink=\"http://www.w3.org/1999/xlink\" width=\"600\" height=\"400\" viewBox=\"0 0 2400 1600\">\n",
       "<defs>\n",
       "  <clipPath id=\"clip780\">\n",
       "    <rect x=\"0\" y=\"0\" width=\"2400\" height=\"1600\"/>\n",
       "  </clipPath>\n",
       "</defs>\n",
       "<path clip-path=\"url(#clip780)\" d=\"\n",
       "M0 1600 L2400 1600 L2400 0 L0 0  Z\n",
       "  \" fill=\"#ffffff\" fill-rule=\"evenodd\" fill-opacity=\"1\"/>\n",
       "<defs>\n",
       "  <clipPath id=\"clip781\">\n",
       "    <rect x=\"480\" y=\"0\" width=\"1681\" height=\"1600\"/>\n",
       "  </clipPath>\n",
       "</defs>\n",
       "<path clip-path=\"url(#clip780)\" d=\"\n",
       "M226.232 1423.18 L2352.76 1423.18 L2352.76 123.472 L226.232 123.472  Z\n",
       "  \" fill=\"#ffffff\" fill-rule=\"evenodd\" fill-opacity=\"1\"/>\n",
       "<defs>\n",
       "  <clipPath id=\"clip782\">\n",
       "    <rect x=\"226\" y=\"123\" width=\"2128\" height=\"1301\"/>\n",
       "  </clipPath>\n",
       "</defs>\n",
       "<polyline clip-path=\"url(#clip782)\" style=\"stroke:#000000; stroke-width:2; stroke-opacity:0.1; fill:none\" points=\"\n",
       "  286.417,1423.18 286.417,123.472 \n",
       "  \"/>\n",
       "<polyline clip-path=\"url(#clip782)\" style=\"stroke:#000000; stroke-width:2; stroke-opacity:0.1; fill:none\" points=\"\n",
       "  787.955,1423.18 787.955,123.472 \n",
       "  \"/>\n",
       "<polyline clip-path=\"url(#clip782)\" style=\"stroke:#000000; stroke-width:2; stroke-opacity:0.1; fill:none\" points=\"\n",
       "  1289.49,1423.18 1289.49,123.472 \n",
       "  \"/>\n",
       "<polyline clip-path=\"url(#clip782)\" style=\"stroke:#000000; stroke-width:2; stroke-opacity:0.1; fill:none\" points=\"\n",
       "  1791.03,1423.18 1791.03,123.472 \n",
       "  \"/>\n",
       "<polyline clip-path=\"url(#clip782)\" style=\"stroke:#000000; stroke-width:2; stroke-opacity:0.1; fill:none\" points=\"\n",
       "  2292.57,1423.18 2292.57,123.472 \n",
       "  \"/>\n",
       "<polyline clip-path=\"url(#clip780)\" style=\"stroke:#000000; stroke-width:4; stroke-opacity:1; fill:none\" points=\"\n",
       "  226.232,1423.18 2352.76,1423.18 \n",
       "  \"/>\n",
       "<polyline clip-path=\"url(#clip780)\" style=\"stroke:#000000; stroke-width:4; stroke-opacity:1; fill:none\" points=\"\n",
       "  286.417,1423.18 286.417,1407.58 \n",
       "  \"/>\n",
       "<polyline clip-path=\"url(#clip780)\" style=\"stroke:#000000; stroke-width:4; stroke-opacity:1; fill:none\" points=\"\n",
       "  787.955,1423.18 787.955,1407.58 \n",
       "  \"/>\n",
       "<polyline clip-path=\"url(#clip780)\" style=\"stroke:#000000; stroke-width:4; stroke-opacity:1; fill:none\" points=\"\n",
       "  1289.49,1423.18 1289.49,1407.58 \n",
       "  \"/>\n",
       "<polyline clip-path=\"url(#clip780)\" style=\"stroke:#000000; stroke-width:4; stroke-opacity:1; fill:none\" points=\"\n",
       "  1791.03,1423.18 1791.03,1407.58 \n",
       "  \"/>\n",
       "<polyline clip-path=\"url(#clip780)\" style=\"stroke:#000000; stroke-width:4; stroke-opacity:1; fill:none\" points=\"\n",
       "  2292.57,1423.18 2292.57,1407.58 \n",
       "  \"/>\n",
       "<path clip-path=\"url(#clip780)\" d=\"M 0 0 M286.417 1452.37 Q282.806 1452.37 280.977 1455.94 Q279.171 1459.48 279.171 1466.61 Q279.171 1473.71 280.977 1477.28 Q282.806 1480.82 286.417 1480.82 Q290.051 1480.82 291.856 1477.28 Q293.685 1473.71 293.685 1466.61 Q293.685 1459.48 291.856 1455.94 Q290.051 1452.37 286.417 1452.37 M286.417 1448.67 Q292.227 1448.67 295.282 1453.27 Q298.361 1457.86 298.361 1466.61 Q298.361 1475.33 295.282 1479.94 Q292.227 1484.52 286.417 1484.52 Q280.606 1484.52 277.528 1479.94 Q274.472 1475.33 274.472 1466.61 Q274.472 1457.86 277.528 1453.27 Q280.606 1448.67 286.417 1448.67 Z\" fill=\"#000000\" fill-rule=\"evenodd\" fill-opacity=\"1\" /><path clip-path=\"url(#clip780)\" d=\"M 0 0 M769.599 1479.92 L785.918 1479.92 L785.918 1483.85 L763.974 1483.85 L763.974 1479.92 Q766.636 1477.16 771.219 1472.53 Q775.826 1467.88 777.006 1466.54 Q779.252 1464.01 780.131 1462.28 Q781.034 1460.52 781.034 1458.83 Q781.034 1456.07 779.09 1454.34 Q777.168 1452.6 774.066 1452.6 Q771.867 1452.6 769.414 1453.37 Q766.983 1454.13 764.205 1455.68 L764.205 1450.96 Q767.029 1449.82 769.483 1449.25 Q771.937 1448.67 773.974 1448.67 Q779.344 1448.67 782.539 1451.35 Q785.733 1454.04 785.733 1458.53 Q785.733 1460.66 784.923 1462.58 Q784.136 1464.48 782.029 1467.07 Q781.451 1467.74 778.349 1470.96 Q775.247 1474.15 769.599 1479.92 Z\" fill=\"#000000\" fill-rule=\"evenodd\" fill-opacity=\"1\" /><path clip-path=\"url(#clip780)\" d=\"M 0 0 M791.034 1449.29 L809.39 1449.29 L809.39 1453.23 L795.316 1453.23 L795.316 1461.7 Q796.335 1461.35 797.353 1461.19 Q798.372 1461 799.39 1461 Q805.177 1461 808.557 1464.18 Q811.937 1467.35 811.937 1472.76 Q811.937 1478.34 808.464 1481.44 Q804.992 1484.52 798.673 1484.52 Q796.497 1484.52 794.228 1484.15 Q791.983 1483.78 789.576 1483.04 L789.576 1478.34 Q791.659 1479.48 793.881 1480.03 Q796.103 1480.59 798.58 1480.59 Q802.585 1480.59 804.923 1478.48 Q807.261 1476.38 807.261 1472.76 Q807.261 1469.15 804.923 1467.05 Q802.585 1464.94 798.58 1464.94 Q796.705 1464.94 794.83 1465.36 Q792.978 1465.77 791.034 1466.65 L791.034 1449.29 Z\" fill=\"#000000\" fill-rule=\"evenodd\" fill-opacity=\"1\" /><path clip-path=\"url(#clip780)\" d=\"M 0 0 M1266.26 1449.29 L1284.62 1449.29 L1284.62 1453.23 L1270.55 1453.23 L1270.55 1461.7 Q1271.57 1461.35 1272.58 1461.19 Q1273.6 1461 1274.62 1461 Q1280.41 1461 1283.79 1464.18 Q1287.17 1467.35 1287.17 1472.76 Q1287.17 1478.34 1283.7 1481.44 Q1280.22 1484.52 1273.9 1484.52 Q1271.73 1484.52 1269.46 1484.15 Q1267.21 1483.78 1264.81 1483.04 L1264.81 1478.34 Q1266.89 1479.48 1269.11 1480.03 Q1271.33 1480.59 1273.81 1480.59 Q1277.82 1480.59 1280.15 1478.48 Q1282.49 1476.38 1282.49 1472.76 Q1282.49 1469.15 1280.15 1467.05 Q1277.82 1464.94 1273.81 1464.94 Q1271.94 1464.94 1270.06 1465.36 Q1268.21 1465.77 1266.26 1466.65 L1266.26 1449.29 Z\" fill=\"#000000\" fill-rule=\"evenodd\" fill-opacity=\"1\" /><path clip-path=\"url(#clip780)\" d=\"M 0 0 M1302.24 1452.37 Q1298.63 1452.37 1296.8 1455.94 Q1294.99 1459.48 1294.99 1466.61 Q1294.99 1473.71 1296.8 1477.28 Q1298.63 1480.82 1302.24 1480.82 Q1305.87 1480.82 1307.68 1477.28 Q1309.51 1473.71 1309.51 1466.61 Q1309.51 1459.48 1307.68 1455.94 Q1305.87 1452.37 1302.24 1452.37 M1302.24 1448.67 Q1308.05 1448.67 1311.1 1453.27 Q1314.18 1457.86 1314.18 1466.61 Q1314.18 1475.33 1311.1 1479.94 Q1308.05 1484.52 1302.24 1484.52 Q1296.43 1484.52 1293.35 1479.94 Q1290.29 1475.33 1290.29 1466.61 Q1290.29 1457.86 1293.35 1453.27 Q1296.43 1448.67 1302.24 1448.67 Z\" fill=\"#000000\" fill-rule=\"evenodd\" fill-opacity=\"1\" /><path clip-path=\"url(#clip780)\" d=\"M 0 0 M1766.91 1449.29 L1789.13 1449.29 L1789.13 1451.28 L1776.59 1483.85 L1771.7 1483.85 L1783.51 1453.23 L1766.91 1453.23 L1766.91 1449.29 Z\" fill=\"#000000\" fill-rule=\"evenodd\" fill-opacity=\"1\" /><path clip-path=\"url(#clip780)\" d=\"M 0 0 M1794.25 1449.29 L1812.61 1449.29 L1812.61 1453.23 L1798.53 1453.23 L1798.53 1461.7 Q1799.55 1461.35 1800.57 1461.19 Q1801.59 1461 1802.61 1461 Q1808.39 1461 1811.77 1464.18 Q1815.15 1467.35 1815.15 1472.76 Q1815.15 1478.34 1811.68 1481.44 Q1808.21 1484.52 1801.89 1484.52 Q1799.71 1484.52 1797.44 1484.15 Q1795.2 1483.78 1792.79 1483.04 L1792.79 1478.34 Q1794.88 1479.48 1797.1 1480.03 Q1799.32 1480.59 1801.8 1480.59 Q1805.8 1480.59 1808.14 1478.48 Q1810.48 1476.38 1810.48 1472.76 Q1810.48 1469.15 1808.14 1467.05 Q1805.8 1464.94 1801.8 1464.94 Q1799.92 1464.94 1798.05 1465.36 Q1796.19 1465.77 1794.25 1466.65 L1794.25 1449.29 Z\" fill=\"#000000\" fill-rule=\"evenodd\" fill-opacity=\"1\" /><path clip-path=\"url(#clip780)\" d=\"M 0 0 M2255.94 1479.92 L2263.58 1479.92 L2263.58 1453.55 L2255.27 1455.22 L2255.27 1450.96 L2263.53 1449.29 L2268.21 1449.29 L2268.21 1479.92 L2275.85 1479.92 L2275.85 1483.85 L2255.94 1483.85 L2255.94 1479.92 Z\" fill=\"#000000\" fill-rule=\"evenodd\" fill-opacity=\"1\" /><path clip-path=\"url(#clip780)\" d=\"M 0 0 M2290.92 1452.37 Q2287.31 1452.37 2285.48 1455.94 Q2283.67 1459.48 2283.67 1466.61 Q2283.67 1473.71 2285.48 1477.28 Q2287.31 1480.82 2290.92 1480.82 Q2294.55 1480.82 2296.36 1477.28 Q2298.18 1473.71 2298.18 1466.61 Q2298.18 1459.48 2296.36 1455.94 Q2294.55 1452.37 2290.92 1452.37 M2290.92 1448.67 Q2296.73 1448.67 2299.78 1453.27 Q2302.86 1457.86 2302.86 1466.61 Q2302.86 1475.33 2299.78 1479.94 Q2296.73 1484.52 2290.92 1484.52 Q2285.11 1484.52 2282.03 1479.94 Q2278.97 1475.33 2278.97 1466.61 Q2278.97 1457.86 2282.03 1453.27 Q2285.11 1448.67 2290.92 1448.67 Z\" fill=\"#000000\" fill-rule=\"evenodd\" fill-opacity=\"1\" /><path clip-path=\"url(#clip780)\" d=\"M 0 0 M2317.93 1452.37 Q2314.32 1452.37 2312.49 1455.94 Q2310.68 1459.48 2310.68 1466.61 Q2310.68 1473.71 2312.49 1477.28 Q2314.32 1480.82 2317.93 1480.82 Q2321.56 1480.82 2323.37 1477.28 Q2325.2 1473.71 2325.2 1466.61 Q2325.2 1459.48 2323.37 1455.94 Q2321.56 1452.37 2317.93 1452.37 M2317.93 1448.67 Q2323.74 1448.67 2326.8 1453.27 Q2329.87 1457.86 2329.87 1466.61 Q2329.87 1475.33 2326.8 1479.94 Q2323.74 1484.52 2317.93 1484.52 Q2312.12 1484.52 2309.04 1479.94 Q2305.99 1475.33 2305.99 1466.61 Q2305.99 1457.86 2309.04 1453.27 Q2312.12 1448.67 2317.93 1448.67 Z\" fill=\"#000000\" fill-rule=\"evenodd\" fill-opacity=\"1\" /><path clip-path=\"url(#clip780)\" d=\"M 0 0 M1257.59 1538.25 Q1257.59 1544.71 1260.23 1548.4 Q1262.9 1552.07 1267.55 1552.07 Q1272.2 1552.07 1274.87 1548.4 Q1277.54 1544.71 1277.54 1538.25 Q1277.54 1531.79 1274.87 1528.13 Q1272.2 1524.44 1267.55 1524.44 Q1262.9 1524.44 1260.23 1528.13 Q1257.59 1531.79 1257.59 1538.25 M1277.54 1550.7 Q1275.7 1553.88 1272.86 1555.44 Q1270.06 1556.97 1266.12 1556.97 Q1259.65 1556.97 1255.58 1551.81 Q1251.54 1546.65 1251.54 1538.25 Q1251.54 1529.85 1255.58 1524.69 Q1259.65 1519.54 1266.12 1519.54 Q1270.06 1519.54 1272.86 1521.1 Q1275.7 1522.62 1277.54 1525.81 L1277.54 1520.4 L1283.4 1520.4 L1283.4 1569.6 L1277.54 1569.6 L1277.54 1550.7 Z\" fill=\"#000000\" fill-rule=\"evenodd\" fill-opacity=\"1\" /><path clip-path=\"url(#clip780)\" d=\"M 0 0 M1305.68 1514.86 L1296.96 1538.51 L1314.43 1538.51 L1305.68 1514.86 M1302.05 1508.52 L1309.34 1508.52 L1327.45 1556.04 L1320.77 1556.04 L1316.44 1543.85 L1295.02 1543.85 L1290.69 1556.04 L1283.91 1556.04 L1302.05 1508.52 Z\" fill=\"#000000\" fill-rule=\"evenodd\" fill-opacity=\"1\" /><polyline clip-path=\"url(#clip782)\" style=\"stroke:#000000; stroke-width:2; stroke-opacity:0.1; fill:none\" points=\"\n",
       "  226.232,1386.4 2352.76,1386.4 \n",
       "  \"/>\n",
       "<polyline clip-path=\"url(#clip782)\" style=\"stroke:#000000; stroke-width:2; stroke-opacity:0.1; fill:none\" points=\"\n",
       "  226.232,1154.54 2352.76,1154.54 \n",
       "  \"/>\n",
       "<polyline clip-path=\"url(#clip782)\" style=\"stroke:#000000; stroke-width:2; stroke-opacity:0.1; fill:none\" points=\"\n",
       "  226.232,922.689 2352.76,922.689 \n",
       "  \"/>\n",
       "<polyline clip-path=\"url(#clip782)\" style=\"stroke:#000000; stroke-width:2; stroke-opacity:0.1; fill:none\" points=\"\n",
       "  226.232,690.836 2352.76,690.836 \n",
       "  \"/>\n",
       "<polyline clip-path=\"url(#clip782)\" style=\"stroke:#000000; stroke-width:2; stroke-opacity:0.1; fill:none\" points=\"\n",
       "  226.232,458.982 2352.76,458.982 \n",
       "  \"/>\n",
       "<polyline clip-path=\"url(#clip782)\" style=\"stroke:#000000; stroke-width:2; stroke-opacity:0.1; fill:none\" points=\"\n",
       "  226.232,227.129 2352.76,227.129 \n",
       "  \"/>\n",
       "<polyline clip-path=\"url(#clip780)\" style=\"stroke:#000000; stroke-width:4; stroke-opacity:1; fill:none\" points=\"\n",
       "  226.232,1423.18 226.232,123.472 \n",
       "  \"/>\n",
       "<polyline clip-path=\"url(#clip780)\" style=\"stroke:#000000; stroke-width:4; stroke-opacity:1; fill:none\" points=\"\n",
       "  226.232,1386.4 251.75,1386.4 \n",
       "  \"/>\n",
       "<polyline clip-path=\"url(#clip780)\" style=\"stroke:#000000; stroke-width:4; stroke-opacity:1; fill:none\" points=\"\n",
       "  226.232,1154.54 251.75,1154.54 \n",
       "  \"/>\n",
       "<polyline clip-path=\"url(#clip780)\" style=\"stroke:#000000; stroke-width:4; stroke-opacity:1; fill:none\" points=\"\n",
       "  226.232,922.689 251.75,922.689 \n",
       "  \"/>\n",
       "<polyline clip-path=\"url(#clip780)\" style=\"stroke:#000000; stroke-width:4; stroke-opacity:1; fill:none\" points=\"\n",
       "  226.232,690.836 251.75,690.836 \n",
       "  \"/>\n",
       "<polyline clip-path=\"url(#clip780)\" style=\"stroke:#000000; stroke-width:4; stroke-opacity:1; fill:none\" points=\"\n",
       "  226.232,458.982 251.75,458.982 \n",
       "  \"/>\n",
       "<polyline clip-path=\"url(#clip780)\" style=\"stroke:#000000; stroke-width:4; stroke-opacity:1; fill:none\" points=\"\n",
       "  226.232,227.129 251.75,227.129 \n",
       "  \"/>\n",
       "<path clip-path=\"url(#clip780)\" d=\"M 0 0 M178.288 1372.19 Q174.677 1372.19 172.848 1375.76 Q171.042 1379.3 171.042 1386.43 Q171.042 1393.54 172.848 1397.1 Q174.677 1400.64 178.288 1400.64 Q181.922 1400.64 183.727 1397.1 Q185.556 1393.54 185.556 1386.43 Q185.556 1379.3 183.727 1375.76 Q181.922 1372.19 178.288 1372.19 M178.288 1368.49 Q184.098 1368.49 187.153 1373.1 Q190.232 1377.68 190.232 1386.43 Q190.232 1395.16 187.153 1399.76 Q184.098 1404.35 178.288 1404.35 Q172.477 1404.35 169.399 1399.76 Q166.343 1395.16 166.343 1386.43 Q166.343 1377.68 169.399 1373.1 Q172.477 1368.49 178.288 1368.49 Z\" fill=\"#000000\" fill-rule=\"evenodd\" fill-opacity=\"1\" /><path clip-path=\"url(#clip780)\" d=\"M 0 0 M142.316 1137.26 L160.672 1137.26 L160.672 1141.2 L146.598 1141.2 L146.598 1149.67 Q147.616 1149.32 148.635 1149.16 Q149.653 1148.98 150.672 1148.98 Q156.459 1148.98 159.839 1152.15 Q163.218 1155.32 163.218 1160.73 Q163.218 1166.31 159.746 1169.41 Q156.274 1172.49 149.954 1172.49 Q147.778 1172.49 145.51 1172.12 Q143.265 1171.75 140.857 1171.01 L140.857 1166.31 Q142.941 1167.45 145.163 1168 Q147.385 1168.56 149.862 1168.56 Q153.866 1168.56 156.204 1166.45 Q158.542 1164.35 158.542 1160.73 Q158.542 1157.12 156.204 1155.02 Q153.866 1152.91 149.862 1152.91 Q147.987 1152.91 146.112 1153.33 Q144.26 1153.74 142.316 1154.62 L142.316 1137.26 Z\" fill=\"#000000\" fill-rule=\"evenodd\" fill-opacity=\"1\" /><path clip-path=\"url(#clip780)\" d=\"M 0 0 M178.288 1140.34 Q174.677 1140.34 172.848 1143.91 Q171.042 1147.45 171.042 1154.58 Q171.042 1161.68 172.848 1165.25 Q174.677 1168.79 178.288 1168.79 Q181.922 1168.79 183.727 1165.25 Q185.556 1161.68 185.556 1154.58 Q185.556 1147.45 183.727 1143.91 Q181.922 1140.34 178.288 1140.34 M178.288 1136.64 Q184.098 1136.64 187.153 1141.24 Q190.232 1145.83 190.232 1154.58 Q190.232 1163.3 187.153 1167.91 Q184.098 1172.49 178.288 1172.49 Q172.477 1172.49 169.399 1167.91 Q166.343 1163.3 166.343 1154.58 Q166.343 1145.83 169.399 1141.24 Q172.477 1136.64 178.288 1136.64 Z\" fill=\"#000000\" fill-rule=\"evenodd\" fill-opacity=\"1\" /><path clip-path=\"url(#clip780)\" d=\"M 0 0 M116.297 936.034 L123.936 936.034 L123.936 909.668 L115.626 911.335 L115.626 907.076 L123.89 905.409 L128.566 905.409 L128.566 936.034 L136.204 936.034 L136.204 939.969 L116.297 939.969 L116.297 936.034 Z\" fill=\"#000000\" fill-rule=\"evenodd\" fill-opacity=\"1\" /><path clip-path=\"url(#clip780)\" d=\"M 0 0 M151.274 908.488 Q147.663 908.488 145.834 912.052 Q144.029 915.594 144.029 922.724 Q144.029 929.83 145.834 933.395 Q147.663 936.937 151.274 936.937 Q154.908 936.937 156.714 933.395 Q158.542 929.83 158.542 922.724 Q158.542 915.594 156.714 912.052 Q154.908 908.488 151.274 908.488 M151.274 904.784 Q157.084 904.784 160.14 909.39 Q163.218 913.974 163.218 922.724 Q163.218 931.451 160.14 936.057 Q157.084 940.64 151.274 940.64 Q145.464 940.64 142.385 936.057 Q139.329 931.451 139.329 922.724 Q139.329 913.974 142.385 909.39 Q145.464 904.784 151.274 904.784 Z\" fill=\"#000000\" fill-rule=\"evenodd\" fill-opacity=\"1\" /><path clip-path=\"url(#clip780)\" d=\"M 0 0 M178.288 908.488 Q174.677 908.488 172.848 912.052 Q171.042 915.594 171.042 922.724 Q171.042 929.83 172.848 933.395 Q174.677 936.937 178.288 936.937 Q181.922 936.937 183.727 933.395 Q185.556 929.83 185.556 922.724 Q185.556 915.594 183.727 912.052 Q181.922 908.488 178.288 908.488 M178.288 904.784 Q184.098 904.784 187.153 909.39 Q190.232 913.974 190.232 922.724 Q190.232 931.451 187.153 936.057 Q184.098 940.64 178.288 940.64 Q172.477 940.64 169.399 936.057 Q166.343 931.451 166.343 922.724 Q166.343 913.974 169.399 909.39 Q172.477 904.784 178.288 904.784 Z\" fill=\"#000000\" fill-rule=\"evenodd\" fill-opacity=\"1\" /><path clip-path=\"url(#clip780)\" d=\"M 0 0 M117.293 704.18 L124.931 704.18 L124.931 677.815 L116.621 679.482 L116.621 675.222 L124.885 673.556 L129.561 673.556 L129.561 704.18 L137.2 704.18 L137.2 708.116 L117.293 708.116 L117.293 704.18 Z\" fill=\"#000000\" fill-rule=\"evenodd\" fill-opacity=\"1\" /><path clip-path=\"url(#clip780)\" d=\"M 0 0 M142.316 673.556 L160.672 673.556 L160.672 677.491 L146.598 677.491 L146.598 685.963 Q147.616 685.616 148.635 685.454 Q149.653 685.269 150.672 685.269 Q156.459 685.269 159.839 688.44 Q163.218 691.611 163.218 697.028 Q163.218 702.606 159.746 705.708 Q156.274 708.787 149.954 708.787 Q147.778 708.787 145.51 708.417 Q143.265 708.046 140.857 707.305 L140.857 702.606 Q142.941 703.741 145.163 704.296 Q147.385 704.852 149.862 704.852 Q153.866 704.852 156.204 702.745 Q158.542 700.639 158.542 697.028 Q158.542 693.417 156.204 691.31 Q153.866 689.204 149.862 689.204 Q147.987 689.204 146.112 689.62 Q144.26 690.037 142.316 690.917 L142.316 673.556 Z\" fill=\"#000000\" fill-rule=\"evenodd\" fill-opacity=\"1\" /><path clip-path=\"url(#clip780)\" d=\"M 0 0 M178.288 676.634 Q174.677 676.634 172.848 680.199 Q171.042 683.741 171.042 690.87 Q171.042 697.977 172.848 701.542 Q174.677 705.083 178.288 705.083 Q181.922 705.083 183.727 701.542 Q185.556 697.977 185.556 690.87 Q185.556 683.741 183.727 680.199 Q181.922 676.634 178.288 676.634 M178.288 672.931 Q184.098 672.931 187.153 677.537 Q190.232 682.12 190.232 690.87 Q190.232 699.597 187.153 704.204 Q184.098 708.787 178.288 708.787 Q172.477 708.787 169.399 704.204 Q166.343 699.597 166.343 690.87 Q166.343 682.12 169.399 677.537 Q172.477 672.931 178.288 672.931 Z\" fill=\"#000000\" fill-rule=\"evenodd\" fill-opacity=\"1\" /><path clip-path=\"url(#clip780)\" d=\"M 0 0 M119.885 472.327 L136.204 472.327 L136.204 476.262 L114.26 476.262 L114.26 472.327 Q116.922 469.573 121.505 464.943 Q126.112 460.29 127.292 458.948 Q129.538 456.424 130.417 454.688 Q131.32 452.929 131.32 451.239 Q131.32 448.485 129.376 446.749 Q127.455 445.012 124.353 445.012 Q122.154 445.012 119.7 445.776 Q117.269 446.54 114.492 448.091 L114.492 443.369 Q117.316 442.235 119.769 441.656 Q122.223 441.077 124.26 441.077 Q129.63 441.077 132.825 443.762 Q136.019 446.448 136.019 450.938 Q136.019 453.068 135.209 454.989 Q134.422 456.887 132.316 459.48 Q131.737 460.151 128.635 463.369 Q125.533 466.563 119.885 472.327 Z\" fill=\"#000000\" fill-rule=\"evenodd\" fill-opacity=\"1\" /><path clip-path=\"url(#clip780)\" d=\"M 0 0 M151.274 444.781 Q147.663 444.781 145.834 448.346 Q144.029 451.887 144.029 459.017 Q144.029 466.123 145.834 469.688 Q147.663 473.23 151.274 473.23 Q154.908 473.23 156.714 469.688 Q158.542 466.123 158.542 459.017 Q158.542 451.887 156.714 448.346 Q154.908 444.781 151.274 444.781 M151.274 441.077 Q157.084 441.077 160.14 445.684 Q163.218 450.267 163.218 459.017 Q163.218 467.744 160.14 472.35 Q157.084 476.934 151.274 476.934 Q145.464 476.934 142.385 472.35 Q139.329 467.744 139.329 459.017 Q139.329 450.267 142.385 445.684 Q145.464 441.077 151.274 441.077 Z\" fill=\"#000000\" fill-rule=\"evenodd\" fill-opacity=\"1\" /><path clip-path=\"url(#clip780)\" d=\"M 0 0 M178.288 444.781 Q174.677 444.781 172.848 448.346 Q171.042 451.887 171.042 459.017 Q171.042 466.123 172.848 469.688 Q174.677 473.23 178.288 473.23 Q181.922 473.23 183.727 469.688 Q185.556 466.123 185.556 459.017 Q185.556 451.887 183.727 448.346 Q181.922 444.781 178.288 444.781 M178.288 441.077 Q184.098 441.077 187.153 445.684 Q190.232 450.267 190.232 459.017 Q190.232 467.744 187.153 472.35 Q184.098 476.934 178.288 476.934 Q172.477 476.934 169.399 472.35 Q166.343 467.744 166.343 459.017 Q166.343 450.267 169.399 445.684 Q172.477 441.077 178.288 441.077 Z\" fill=\"#000000\" fill-rule=\"evenodd\" fill-opacity=\"1\" /><path clip-path=\"url(#clip780)\" d=\"M 0 0 M120.88 240.474 L137.2 240.474 L137.2 244.409 L115.256 244.409 L115.256 240.474 Q117.918 237.719 122.501 233.09 Q127.107 228.437 128.288 227.094 Q130.533 224.571 131.413 222.835 Q132.316 221.076 132.316 219.386 Q132.316 216.631 130.371 214.895 Q128.45 213.159 125.348 213.159 Q123.149 213.159 120.695 213.923 Q118.265 214.687 115.487 216.238 L115.487 211.516 Q118.311 210.381 120.765 209.803 Q123.218 209.224 125.255 209.224 Q130.626 209.224 133.82 211.909 Q137.015 214.594 137.015 219.085 Q137.015 221.215 136.204 223.136 Q135.417 225.034 133.311 227.627 Q132.732 228.298 129.63 231.516 Q126.529 234.71 120.88 240.474 Z\" fill=\"#000000\" fill-rule=\"evenodd\" fill-opacity=\"1\" /><path clip-path=\"url(#clip780)\" d=\"M 0 0 M142.316 209.849 L160.672 209.849 L160.672 213.784 L146.598 213.784 L146.598 222.256 Q147.616 221.909 148.635 221.747 Q149.653 221.562 150.672 221.562 Q156.459 221.562 159.839 224.733 Q163.218 227.904 163.218 233.321 Q163.218 238.9 159.746 242.002 Q156.274 245.08 149.954 245.08 Q147.778 245.08 145.51 244.71 Q143.265 244.34 140.857 243.599 L140.857 238.9 Q142.941 240.034 145.163 240.59 Q147.385 241.145 149.862 241.145 Q153.866 241.145 156.204 239.039 Q158.542 236.932 158.542 233.321 Q158.542 229.71 156.204 227.603 Q153.866 225.497 149.862 225.497 Q147.987 225.497 146.112 225.914 Q144.26 226.33 142.316 227.21 L142.316 209.849 Z\" fill=\"#000000\" fill-rule=\"evenodd\" fill-opacity=\"1\" /><path clip-path=\"url(#clip780)\" d=\"M 0 0 M178.288 212.928 Q174.677 212.928 172.848 216.492 Q171.042 220.034 171.042 227.164 Q171.042 234.27 172.848 237.835 Q174.677 241.377 178.288 241.377 Q181.922 241.377 183.727 237.835 Q185.556 234.27 185.556 227.164 Q185.556 220.034 183.727 216.492 Q181.922 212.928 178.288 212.928 M178.288 209.224 Q184.098 209.224 187.153 213.83 Q190.232 218.414 190.232 227.164 Q190.232 235.89 187.153 240.497 Q184.098 245.08 178.288 245.08 Q172.477 245.08 169.399 240.497 Q166.343 235.89 166.343 227.164 Q166.343 218.414 169.399 213.83 Q172.477 209.224 178.288 209.224 Z\" fill=\"#000000\" fill-rule=\"evenodd\" fill-opacity=\"1\" /><path clip-path=\"url(#clip780)\" d=\"M 0 0 M40.4842 895.197 L40.4842 865.151 L45.895 865.151 L45.895 888.768 L59.9632 888.768 L59.9632 866.138 L65.3741 866.138 L65.3741 888.768 L82.5933 888.768 L82.5933 864.578 L88.0042 864.578 L88.0042 895.197 L40.4842 895.197 Z\" fill=\"#000000\" fill-rule=\"evenodd\" fill-opacity=\"1\" /><path clip-path=\"url(#clip780)\" d=\"M 0 0 M66.4881 828.803 L88.0042 828.803 L88.0042 834.66 L66.679 834.66 Q61.6183 834.66 59.1038 836.633 Q56.5894 838.606 56.5894 842.553 Q56.5894 847.295 59.6131 850.033 Q62.6368 852.77 67.8567 852.77 L88.0042 852.77 L88.0042 858.658 L52.3562 858.658 L52.3562 852.77 L57.8944 852.77 Q54.6797 850.669 53.0883 847.837 Q51.4968 844.972 51.4968 841.248 Q51.4968 835.105 55.3163 831.954 Q59.1038 828.803 66.4881 828.803 Z\" fill=\"#000000\" fill-rule=\"evenodd\" fill-opacity=\"1\" /><path clip-path=\"url(#clip780)\" d=\"M 0 0 M42.2347 816.867 L52.3562 816.867 L52.3562 804.804 L56.9077 804.804 L56.9077 816.867 L76.2594 816.867 Q80.6199 816.867 81.8613 815.69 Q83.1026 814.48 83.1026 810.82 L83.1026 804.804 L88.0042 804.804 L88.0042 810.82 Q88.0042 817.599 85.4897 820.178 Q82.9434 822.756 76.2594 822.756 L56.9077 822.756 L56.9077 827.053 L52.3562 827.053 L52.3562 822.756 L42.2347 822.756 L42.2347 816.867 Z\" fill=\"#000000\" fill-rule=\"evenodd\" fill-opacity=\"1\" /><path clip-path=\"url(#clip780)\" d=\"M 0 0 M57.8307 778.005 Q57.2578 778.991 57.0032 780.169 Q56.7167 781.315 56.7167 782.715 Q56.7167 787.681 59.9632 790.354 Q63.1779 792.996 69.2253 792.996 L88.0042 792.996 L88.0042 798.884 L52.3562 798.884 L52.3562 792.996 L57.8944 792.996 Q54.6479 791.15 53.0883 788.19 Q51.4968 785.23 51.4968 780.997 Q51.4968 780.392 51.5923 779.66 Q51.656 778.928 51.8151 778.037 L57.8307 778.005 Z\" fill=\"#000000\" fill-rule=\"evenodd\" fill-opacity=\"1\" /><path clip-path=\"url(#clip780)\" d=\"M 0 0 M56.4621 759.481 Q56.4621 764.191 60.1542 766.928 Q63.8145 769.666 70.212 769.666 Q76.6095 769.666 80.3017 766.96 Q83.9619 764.223 83.9619 759.481 Q83.9619 754.802 80.2698 752.065 Q76.5777 749.327 70.212 749.327 Q63.8781 749.327 60.186 752.065 Q56.4621 754.802 56.4621 759.481 M51.4968 759.481 Q51.4968 751.842 56.4621 747.481 Q61.4273 743.121 70.212 743.121 Q78.9649 743.121 83.9619 747.481 Q88.9272 751.842 88.9272 759.481 Q88.9272 767.151 83.9619 771.512 Q78.9649 775.84 70.212 775.84 Q61.4273 775.84 56.4621 771.512 Q51.4968 767.151 51.4968 759.481 Z\" fill=\"#000000\" fill-rule=\"evenodd\" fill-opacity=\"1\" /><path clip-path=\"url(#clip780)\" d=\"M 0 0 M82.657 731.312 L101.563 731.312 L101.563 737.201 L52.3562 737.201 L52.3562 731.312 L57.7671 731.312 Q54.5842 729.466 53.0564 726.665 Q51.4968 723.833 51.4968 719.918 Q51.4968 713.425 56.6531 709.382 Q61.8093 705.308 70.212 705.308 Q78.6147 705.308 83.771 709.382 Q88.9272 713.425 88.9272 719.918 Q88.9272 723.833 87.3994 726.665 Q85.8398 729.466 82.657 731.312 M70.212 711.388 Q63.7508 711.388 60.0905 714.061 Q56.3984 716.703 56.3984 721.35 Q56.3984 725.997 60.0905 728.671 Q63.7508 731.312 70.212 731.312 Q76.6732 731.312 80.3653 728.671 Q84.0256 725.997 84.0256 721.35 Q84.0256 716.703 80.3653 714.061 Q76.6732 711.388 70.212 711.388 Z\" fill=\"#000000\" fill-rule=\"evenodd\" fill-opacity=\"1\" /><path clip-path=\"url(#clip780)\" d=\"M 0 0 M35.869 691.813 L35.869 685.479 L47.8365 695.855 L47.8365 700.725 L35.869 691.813 M52.3562 699.166 L52.3562 693.309 L88.0042 693.309 L88.0042 699.166 L52.3562 699.166 M51.4968 696.237 L51.4968 696.237 Z\" fill=\"#000000\" fill-rule=\"evenodd\" fill-opacity=\"1\" /><path clip-path=\"url(#clip780)\" d=\"M 0 0 M70.0847 663.136 Q70.0847 670.233 71.7079 672.971 Q73.3312 675.708 77.2461 675.708 Q80.3653 675.708 82.2114 673.671 Q84.0256 671.602 84.0256 668.069 Q84.0256 663.199 80.5881 660.271 Q77.1188 657.311 71.3897 657.311 L70.0847 657.311 L70.0847 663.136 M67.6657 651.455 L88.0042 651.455 L88.0042 657.311 L82.5933 657.311 Q85.8398 659.316 87.3994 662.308 Q88.9272 665.3 88.9272 669.629 Q88.9272 675.103 85.8716 678.35 Q82.7843 681.564 77.6281 681.564 Q71.6125 681.564 68.5569 677.554 Q65.5014 673.512 65.5014 665.523 L65.5014 657.311 L64.9285 657.311 Q60.8862 657.311 58.6901 659.985 Q56.4621 662.626 56.4621 667.432 Q56.4621 670.488 57.1941 673.384 Q57.9262 676.281 59.3903 678.954 L53.9795 678.954 Q52.7381 675.74 52.1334 672.716 Q51.4968 669.692 51.4968 666.828 Q51.4968 659.093 55.5072 655.274 Q59.5176 651.455 67.6657 651.455 Z\" fill=\"#000000\" fill-rule=\"evenodd\" fill-opacity=\"1\" /><path clip-path=\"url(#clip780)\" d=\"M 0 0 M1114.8 12.096 L1153.04 12.096 L1153.04 18.9825 L1122.98 18.9825 L1122.98 36.8875 L1151.78 36.8875 L1151.78 43.7741 L1122.98 43.7741 L1122.98 65.6895 L1153.77 65.6895 L1153.77 72.576 L1114.8 72.576 L1114.8 12.096 Z\" fill=\"#000000\" fill-rule=\"evenodd\" fill-opacity=\"1\" /><path clip-path=\"url(#clip780)\" d=\"M 0 0 M1199.3 45.1919 L1199.3 72.576 L1191.85 72.576 L1191.85 45.4349 Q1191.85 38.994 1189.34 35.7938 Q1186.82 32.5936 1181.8 32.5936 Q1175.76 32.5936 1172.28 36.4419 Q1168.8 40.2903 1168.8 46.9338 L1168.8 72.576 L1161.3 72.576 L1161.3 27.2059 L1168.8 27.2059 L1168.8 34.2544 Q1171.47 30.163 1175.08 28.1376 Q1178.72 26.1121 1183.46 26.1121 Q1191.28 26.1121 1195.29 30.9732 Q1199.3 35.7938 1199.3 45.1919 Z\" fill=\"#000000\" fill-rule=\"evenodd\" fill-opacity=\"1\" /><path clip-path=\"url(#clip780)\" d=\"M 0 0 M1214.49 14.324 L1214.49 27.2059 L1229.84 27.2059 L1229.84 32.9987 L1214.49 32.9987 L1214.49 57.6282 Q1214.49 63.1779 1215.99 64.7578 Q1217.53 66.3376 1222.19 66.3376 L1229.84 66.3376 L1229.84 72.576 L1222.19 72.576 Q1213.56 72.576 1210.28 69.3758 Q1207 66.1351 1207 57.6282 L1207 32.9987 L1201.53 32.9987 L1201.53 27.2059 L1207 27.2059 L1207 14.324 L1214.49 14.324 Z\" fill=\"#000000\" fill-rule=\"evenodd\" fill-opacity=\"1\" /><path clip-path=\"url(#clip780)\" d=\"M 0 0 M1263.95 34.1734 Q1262.7 33.4443 1261.2 33.1202 Q1259.74 32.7556 1257.96 32.7556 Q1251.64 32.7556 1248.24 36.8875 Q1244.87 40.9789 1244.87 48.6757 L1244.87 72.576 L1237.38 72.576 L1237.38 27.2059 L1244.87 27.2059 L1244.87 34.2544 Q1247.22 30.1225 1250.99 28.1376 Q1254.76 26.1121 1260.15 26.1121 Q1260.91 26.1121 1261.85 26.2337 Q1262.78 26.3147 1263.91 26.5172 L1263.95 34.1734 Z\" fill=\"#000000\" fill-rule=\"evenodd\" fill-opacity=\"1\" /><path clip-path=\"url(#clip780)\" d=\"M 0 0 M1287.53 32.4315 Q1281.53 32.4315 1278.05 37.1306 Q1274.57 41.7891 1274.57 49.9314 Q1274.57 58.0738 1278.01 62.7728 Q1281.49 67.4314 1287.53 67.4314 Q1293.48 67.4314 1296.97 62.7323 Q1300.45 58.0333 1300.45 49.9314 Q1300.45 41.8701 1296.97 37.1711 Q1293.48 32.4315 1287.53 32.4315 M1287.53 26.1121 Q1297.25 26.1121 1302.8 32.4315 Q1308.35 38.7509 1308.35 49.9314 Q1308.35 61.0714 1302.8 67.4314 Q1297.25 73.7508 1287.53 73.7508 Q1277.77 73.7508 1272.22 67.4314 Q1266.71 61.0714 1266.71 49.9314 Q1266.71 38.7509 1272.22 32.4315 Q1277.77 26.1121 1287.53 26.1121 Z\" fill=\"#000000\" fill-rule=\"evenodd\" fill-opacity=\"1\" /><path clip-path=\"url(#clip780)\" d=\"M 0 0 M1323.38 65.7705 L1323.38 89.8329 L1315.89 89.8329 L1315.89 27.2059 L1323.38 27.2059 L1323.38 34.0924 Q1325.73 30.0415 1329.29 28.0971 Q1332.9 26.1121 1337.88 26.1121 Q1346.15 26.1121 1351.29 32.6746 Q1356.48 39.2371 1356.48 49.9314 Q1356.48 60.6258 1351.29 67.1883 Q1346.15 73.7508 1337.88 73.7508 Q1332.9 73.7508 1329.29 71.8063 Q1325.73 69.8214 1323.38 65.7705 M1348.74 49.9314 Q1348.74 41.7081 1345.34 37.0496 Q1341.97 32.3505 1336.06 32.3505 Q1330.14 32.3505 1326.74 37.0496 Q1323.38 41.7081 1323.38 49.9314 Q1323.38 58.1548 1326.74 62.8538 Q1330.14 67.5124 1336.06 67.5124 Q1341.97 67.5124 1345.34 62.8538 Q1348.74 58.1548 1348.74 49.9314 Z\" fill=\"#000000\" fill-rule=\"evenodd\" fill-opacity=\"1\" /><path clip-path=\"url(#clip780)\" d=\"M 0 0 M1373.65 6.22219 L1381.71 6.22219 L1368.51 21.4536 L1362.31 21.4536 L1373.65 6.22219 M1364.29 27.2059 L1371.75 27.2059 L1371.75 72.576 L1364.29 72.576 L1364.29 27.2059 M1368.02 26.1121 L1368.02 26.1121 Z\" fill=\"#000000\" fill-rule=\"evenodd\" fill-opacity=\"1\" /><path clip-path=\"url(#clip780)\" d=\"M 0 0 M1410.15 49.7694 Q1401.12 49.7694 1397.63 51.8354 Q1394.15 53.9013 1394.15 58.8839 Q1394.15 62.8538 1396.74 65.2034 Q1399.37 67.5124 1403.87 67.5124 Q1410.07 67.5124 1413.8 63.1374 Q1417.56 58.7219 1417.56 51.4303 L1417.56 49.7694 L1410.15 49.7694 M1425.02 46.6907 L1425.02 72.576 L1417.56 72.576 L1417.56 65.6895 Q1415.01 69.8214 1411.2 71.8063 Q1407.4 73.7508 1401.89 73.7508 Q1394.92 73.7508 1390.79 69.8619 Q1386.7 65.9325 1386.7 59.3701 Q1386.7 51.7138 1391.8 47.825 Q1396.94 43.9361 1407.11 43.9361 L1417.56 43.9361 L1417.56 43.2069 Q1417.56 38.0623 1414.16 35.2672 Q1410.8 32.4315 1404.68 32.4315 Q1400.79 32.4315 1397.11 33.3632 Q1393.42 34.295 1390.02 36.1584 L1390.02 29.2718 Q1394.11 27.692 1397.96 26.9223 Q1401.81 26.1121 1405.45 26.1121 Q1415.29 26.1121 1420.16 31.2163 Q1425.02 36.3204 1425.02 46.6907 Z\" fill=\"#000000\" fill-rule=\"evenodd\" fill-opacity=\"1\" /><path clip-path=\"url(#clip780)\" d=\"M 0 0 M1461.76 28.5427 L1461.76 35.5912 Q1458.6 33.9709 1455.2 33.1607 Q1451.79 32.3505 1448.15 32.3505 Q1442.6 32.3505 1439.8 34.0519 Q1437.05 35.7533 1437.05 39.156 Q1437.05 41.7486 1439.03 43.2475 Q1441.02 44.7058 1447.01 46.0426 L1449.57 46.6097 Q1457.51 48.3111 1460.83 51.4303 Q1464.19 54.509 1464.19 60.0587 Q1464.19 66.3781 1459.17 70.0644 Q1454.18 73.7508 1445.43 73.7508 Q1441.79 73.7508 1437.82 73.0216 Q1433.89 72.3329 1429.51 70.9151 L1429.51 63.2184 Q1433.65 65.3654 1437.66 66.4591 Q1441.67 67.5124 1445.6 67.5124 Q1450.86 67.5124 1453.7 65.73 Q1456.53 63.9071 1456.53 60.6258 Q1456.53 57.5877 1454.47 55.9673 Q1452.44 54.3469 1445.51 52.8481 L1442.92 52.2405 Q1435.99 50.7821 1432.92 47.7845 Q1429.84 44.7463 1429.84 39.4801 Q1429.84 33.0797 1434.37 29.5959 Q1438.91 26.1121 1447.26 26.1121 Q1451.39 26.1121 1455.03 26.7198 Q1458.68 27.3274 1461.76 28.5427 Z\" fill=\"#000000\" fill-rule=\"evenodd\" fill-opacity=\"1\" /><polyline clip-path=\"url(#clip782)\" style=\"stroke:#0a387a; stroke-width:4; stroke-opacity:1; fill:none\" points=\"\n",
       "  286.417,1386.4 306.478,1359.95 326.54,1336.7 346.601,1315.31 366.663,1295.24 386.724,1276.2 406.786,1257.98 426.847,1240.46 446.909,1223.55 466.971,1207.17 \n",
       "  487.032,1191.26 507.094,1175.78 527.155,1160.68 547.217,1145.95 567.278,1131.54 587.34,1117.44 607.401,1103.62 627.463,1090.07 647.524,1076.76 667.586,1063.7 \n",
       "  687.648,1050.86 707.709,1038.23 727.771,1025.8 747.832,1013.56 767.894,1001.51 787.955,989.626 808.017,977.914 828.078,966.363 848.14,954.966 868.201,943.718 \n",
       "  888.263,932.613 908.325,921.646 928.386,910.812 948.448,900.106 968.509,889.526 988.571,879.065 1008.63,868.722 1028.69,858.492 1048.76,848.371 1068.82,838.357 \n",
       "  1088.88,828.447 1108.94,818.638 1129,808.927 1149.06,799.312 1169.12,789.789 1189.19,780.358 1209.25,771.015 1229.31,761.758 1249.37,752.585 1269.43,743.494 \n",
       "  1289.49,734.484 1309.56,725.553 1329.62,716.698 1349.68,707.919 1369.74,699.213 1389.8,690.579 1409.86,682.015 1429.92,673.521 1449.99,665.094 1470.05,656.733 \n",
       "  1490.11,648.437 1510.17,640.206 1530.23,632.036 1550.29,623.928 1570.36,615.881 1590.42,607.892 1610.48,599.961 1630.54,592.088 1650.6,584.271 1670.66,576.508 \n",
       "  1690.72,568.8 1710.79,561.145 1730.85,553.542 1750.91,545.991 1770.97,538.491 1791.03,531.04 1811.09,523.638 1831.16,516.285 1851.22,508.979 1871.28,501.72 \n",
       "  1891.34,494.507 1911.4,487.339 1931.46,480.217 1951.52,473.138 1971.59,466.102 1991.65,459.11 2011.71,452.159 2031.77,445.25 2051.83,438.382 2071.89,431.555 \n",
       "  2091.96,424.767 2112.02,418.019 2132.08,411.31 2152.14,404.638 2172.2,398.005 2192.26,391.409 2212.33,384.85 2232.39,378.327 2252.45,371.839 2272.51,365.388 \n",
       "  2292.57,358.971 \n",
       "  \"/>\n",
       "<polyline clip-path=\"url(#clip782)\" style=\"stroke:#dc5410; stroke-width:4; stroke-opacity:1; fill:none\" points=\"\n",
       "  286.417,516.811 306.478,521.89 326.54,527 346.601,532.141 366.663,537.315 386.724,542.52 406.786,547.759 426.847,553.031 446.909,558.336 466.971,563.676 \n",
       "  487.032,569.05 507.094,574.46 527.155,579.905 547.217,585.387 567.278,590.906 587.34,596.461 607.401,602.055 627.463,607.688 647.524,613.359 667.586,619.07 \n",
       "  687.648,624.822 707.709,630.614 727.771,636.449 747.832,642.325 767.894,648.245 787.955,654.208 808.017,660.216 828.078,666.269 848.14,672.369 868.201,678.515 \n",
       "  888.263,684.709 908.325,690.951 928.386,697.243 948.448,703.586 968.509,709.979 988.571,716.425 1008.63,722.924 1028.69,729.478 1048.76,736.086 1068.82,742.752 \n",
       "  1088.88,749.475 1108.94,756.256 1129,763.098 1149.06,770.001 1169.12,776.966 1189.19,783.996 1209.25,791.09 1229.31,798.252 1249.37,805.482 1269.43,812.781 \n",
       "  1289.49,820.153 1309.56,827.597 1329.62,835.117 1349.68,842.713 1369.74,850.388 1389.8,858.144 1409.86,865.983 1429.92,873.907 1449.99,881.919 1470.05,890.021 \n",
       "  1490.11,898.215 1510.17,906.504 1530.23,914.891 1550.29,923.379 1570.36,931.971 1590.42,940.67 1610.48,949.481 1630.54,958.406 1650.6,967.449 1670.66,976.615 \n",
       "  1690.72,985.908 1710.79,995.333 1730.85,1004.89 1750.91,1014.6 1770.97,1024.45 1791.03,1034.46 1811.09,1044.63 1831.16,1054.96 1851.22,1065.48 1871.28,1076.17 \n",
       "  1891.34,1087.07 1911.4,1098.17 1931.46,1109.48 1951.52,1121.02 1971.59,1132.81 1991.65,1144.86 2011.71,1157.18 2031.77,1169.81 2051.83,1182.75 2071.89,1196.05 \n",
       "  2091.96,1209.72 2112.02,1223.82 2132.08,1238.38 2152.14,1253.47 2172.2,1269.15 2192.26,1285.52 2212.33,1302.72 2232.39,1320.93 2252.45,1340.45 2272.51,1361.83 \n",
       "  2292.57,1386.4 \n",
       "  \"/>\n",
       "<polyline clip-path=\"url(#clip782)\" style=\"stroke:#129f50; stroke-width:4; stroke-opacity:1; fill:none\" points=\"\n",
       "  286.417,516.811 306.478,495.441 326.54,477.301 346.601,461.057 366.663,446.164 386.724,432.322 406.786,419.344 426.847,407.098 446.909,395.491 466.971,384.448 \n",
       "  487.032,373.914 507.094,363.842 527.155,354.194 547.217,344.939 567.278,336.05 587.34,327.502 607.401,319.278 627.463,311.358 647.524,303.728 667.586,296.374 \n",
       "  687.648,289.283 707.709,282.445 727.771,275.85 747.832,269.49 767.894,263.355 787.955,257.439 808.017,251.735 828.078,246.237 848.14,240.939 868.201,235.837 \n",
       "  888.263,230.926 908.325,226.201 928.386,221.659 948.448,217.296 968.509,213.109 988.571,209.095 1008.63,205.25 1028.69,201.574 1048.76,198.062 1068.82,194.714 \n",
       "  1088.88,191.526 1108.94,188.499 1129,185.63 1149.06,182.917 1169.12,180.36 1189.19,177.958 1209.25,175.709 1229.31,173.614 1249.37,171.671 1269.43,169.88 \n",
       "  1289.49,168.241 1309.56,166.754 1329.62,165.419 1349.68,164.236 1369.74,163.205 1389.8,162.327 1409.86,161.603 1429.92,161.032 1449.99,160.617 1470.05,160.358 \n",
       "  1490.11,160.256 1510.17,160.314 1530.23,160.531 1550.29,160.911 1570.36,161.456 1590.42,162.167 1610.48,163.046 1630.54,164.098 1650.6,165.324 1670.66,166.727 \n",
       "  1690.72,168.312 1710.79,170.082 1730.85,172.042 1750.91,174.195 1770.97,176.546 1791.03,179.103 1811.09,181.869 1831.16,184.852 1851.22,188.059 1871.28,191.499 \n",
       "  1891.34,195.178 1911.4,199.109 1931.46,203.301 1951.52,207.766 1971.59,212.518 1991.65,217.573 2011.71,222.947 2031.77,228.662 2051.83,234.739 2071.89,241.206 \n",
       "  2091.96,248.094 2112.02,255.441 2132.08,263.293 2152.14,271.708 2172.2,280.757 2192.26,290.535 2212.33,301.173 2232.39,312.86 2252.45,325.893 2272.51,340.819 \n",
       "  2292.57,358.971 \n",
       "  \"/>\n",
       "<path clip-path=\"url(#clip780)\" d=\"\n",
       "M1756.36 408.716 L2281.87 408.716 L2281.87 166.796 L1756.36 166.796  Z\n",
       "  \" fill=\"#ffffff\" fill-rule=\"evenodd\" fill-opacity=\"1\"/>\n",
       "<polyline clip-path=\"url(#clip780)\" style=\"stroke:#000000; stroke-width:4; stroke-opacity:1; fill:none\" points=\"\n",
       "  1756.36,408.716 2281.87,408.716 2281.87,166.796 1756.36,166.796 1756.36,408.716 \n",
       "  \"/>\n",
       "<polyline clip-path=\"url(#clip780)\" style=\"stroke:#0a387a; stroke-width:4; stroke-opacity:1; fill:none\" points=\"\n",
       "  1779.98,227.276 1921.75,227.276 \n",
       "  \"/>\n",
       "<path clip-path=\"url(#clip780)\" d=\"M 0 0 M1945.38 209.996 L1967.23 209.996 L1967.23 213.931 L1950.06 213.931 L1950.06 224.162 L1966.52 224.162 L1966.52 228.097 L1950.06 228.097 L1950.06 240.621 L1967.65 240.621 L1967.65 244.556 L1945.38 244.556 L1945.38 209.996 Z\" fill=\"#000000\" fill-rule=\"evenodd\" fill-opacity=\"1\" /><path clip-path=\"url(#clip780)\" d=\"M 0 0 M1993.67 228.908 L1993.67 244.556 L1989.41 244.556 L1989.41 229.047 Q1989.41 225.366 1987.97 223.537 Q1986.54 221.709 1983.67 221.709 Q1980.22 221.709 1978.23 223.908 Q1976.24 226.107 1976.24 229.903 L1976.24 244.556 L1971.96 244.556 L1971.96 218.63 L1976.24 218.63 L1976.24 222.658 Q1977.77 220.32 1979.83 219.162 Q1981.91 218.005 1984.62 218.005 Q1989.08 218.005 1991.38 220.783 Q1993.67 223.537 1993.67 228.908 Z\" fill=\"#000000\" fill-rule=\"evenodd\" fill-opacity=\"1\" /><path clip-path=\"url(#clip780)\" d=\"M 0 0 M2002.35 211.269 L2002.35 218.63 L2011.12 218.63 L2011.12 221.94 L2002.35 221.94 L2002.35 236.014 Q2002.35 239.185 2003.2 240.088 Q2004.08 240.991 2006.75 240.991 L2011.12 240.991 L2011.12 244.556 L2006.75 244.556 Q2001.82 244.556 1999.94 242.727 Q1998.07 240.875 1998.07 236.014 L1998.07 221.94 L1994.94 221.94 L1994.94 218.63 L1998.07 218.63 L1998.07 211.269 L2002.35 211.269 Z\" fill=\"#000000\" fill-rule=\"evenodd\" fill-opacity=\"1\" /><path clip-path=\"url(#clip780)\" d=\"M 0 0 M2030.61 222.611 Q2029.89 222.195 2029.04 222.01 Q2028.2 221.801 2027.19 221.801 Q2023.58 221.801 2021.63 224.162 Q2019.71 226.5 2019.71 230.898 L2019.71 244.556 L2015.43 244.556 L2015.43 218.63 L2019.71 218.63 L2019.71 222.658 Q2021.05 220.297 2023.2 219.162 Q2025.36 218.005 2028.44 218.005 Q2028.88 218.005 2029.41 218.074 Q2029.94 218.121 2030.59 218.236 L2030.61 222.611 Z\" fill=\"#000000\" fill-rule=\"evenodd\" fill-opacity=\"1\" /><path clip-path=\"url(#clip780)\" d=\"M 0 0 M2044.08 221.616 Q2040.66 221.616 2038.67 224.301 Q2036.68 226.963 2036.68 231.616 Q2036.68 236.269 2038.64 238.954 Q2040.64 241.616 2044.08 241.616 Q2047.49 241.616 2049.48 238.931 Q2051.47 236.246 2051.47 231.616 Q2051.47 227.01 2049.48 224.324 Q2047.49 221.616 2044.08 221.616 M2044.08 218.005 Q2049.64 218.005 2052.81 221.616 Q2055.98 225.227 2055.98 231.616 Q2055.98 237.982 2052.81 241.616 Q2049.64 245.227 2044.08 245.227 Q2038.51 245.227 2035.33 241.616 Q2032.19 237.982 2032.19 231.616 Q2032.19 225.227 2035.33 221.616 Q2038.51 218.005 2044.08 218.005 Z\" fill=\"#000000\" fill-rule=\"evenodd\" fill-opacity=\"1\" /><path clip-path=\"url(#clip780)\" d=\"M 0 0 M2064.57 240.667 L2064.57 254.417 L2060.29 254.417 L2060.29 218.63 L2064.57 218.63 L2064.57 222.565 Q2065.91 220.25 2067.95 219.139 Q2070.01 218.005 2072.86 218.005 Q2077.58 218.005 2080.52 221.755 Q2083.48 225.505 2083.48 231.616 Q2083.48 237.727 2080.52 241.477 Q2077.58 245.227 2072.86 245.227 Q2070.01 245.227 2067.95 244.116 Q2065.91 242.982 2064.57 240.667 M2079.06 231.616 Q2079.06 226.917 2077.12 224.255 Q2075.2 221.57 2071.82 221.57 Q2068.44 221.57 2066.49 224.255 Q2064.57 226.917 2064.57 231.616 Q2064.57 236.315 2066.49 239 Q2068.44 241.662 2071.82 241.662 Q2075.2 241.662 2077.12 239 Q2079.06 236.315 2079.06 231.616 Z\" fill=\"#000000\" fill-rule=\"evenodd\" fill-opacity=\"1\" /><path clip-path=\"url(#clip780)\" d=\"M 0 0 M2087.95 218.63 L2092.21 218.63 L2092.21 244.556 L2087.95 244.556 L2087.95 218.63 M2087.95 208.537 L2092.21 208.537 L2092.21 213.931 L2087.95 213.931 L2087.95 208.537 Z\" fill=\"#000000\" fill-rule=\"evenodd\" fill-opacity=\"1\" /><path clip-path=\"url(#clip780)\" d=\"M 0 0 M2108.46 231.523 Q2103.3 231.523 2101.31 232.704 Q2099.32 233.884 2099.32 236.732 Q2099.32 239 2100.8 240.343 Q2102.3 241.662 2104.87 241.662 Q2108.41 241.662 2110.54 239.162 Q2112.7 236.639 2112.7 232.472 L2112.7 231.523 L2108.46 231.523 M2116.95 229.764 L2116.95 244.556 L2112.7 244.556 L2112.7 240.621 Q2111.24 242.982 2109.06 244.116 Q2106.88 245.227 2103.74 245.227 Q2099.76 245.227 2097.39 243.005 Q2095.06 240.759 2095.06 237.009 Q2095.06 232.634 2097.97 230.412 Q2100.91 228.19 2106.72 228.19 L2112.7 228.19 L2112.7 227.773 Q2112.7 224.834 2110.75 223.236 Q2108.83 221.616 2105.33 221.616 Q2103.11 221.616 2101.01 222.148 Q2098.9 222.681 2096.95 223.746 L2096.95 219.81 Q2099.29 218.908 2101.49 218.468 Q2103.69 218.005 2105.77 218.005 Q2111.4 218.005 2114.18 220.922 Q2116.95 223.838 2116.95 229.764 Z\" fill=\"#000000\" fill-rule=\"evenodd\" fill-opacity=\"1\" /><path clip-path=\"url(#clip780)\" d=\"M 0 0 M2158.67 230.528 L2158.67 232.611 L2139.08 232.611 Q2139.36 237.009 2141.72 239.324 Q2144.11 241.616 2148.34 241.616 Q2150.8 241.616 2153.09 241.014 Q2155.4 240.412 2157.67 239.209 L2157.67 243.236 Q2155.38 244.208 2152.97 244.718 Q2150.57 245.227 2148.09 245.227 Q2141.88 245.227 2138.25 241.616 Q2134.64 238.005 2134.64 231.847 Q2134.64 225.482 2138.07 221.755 Q2141.51 218.005 2147.35 218.005 Q2152.58 218.005 2155.61 221.385 Q2158.67 224.741 2158.67 230.528 M2154.41 229.278 Q2154.36 225.783 2152.44 223.699 Q2150.54 221.616 2147.39 221.616 Q2143.83 221.616 2141.68 223.63 Q2139.55 225.644 2139.22 229.301 L2154.41 229.278 Z\" fill=\"#000000\" fill-rule=\"evenodd\" fill-opacity=\"1\" /><path clip-path=\"url(#clip780)\" d=\"M 0 0 M2184.69 228.908 L2184.69 244.556 L2180.43 244.556 L2180.43 229.047 Q2180.43 225.366 2178.99 223.537 Q2177.56 221.709 2174.69 221.709 Q2171.24 221.709 2169.25 223.908 Q2167.25 226.107 2167.25 229.903 L2167.25 244.556 L2162.97 244.556 L2162.97 218.63 L2167.25 218.63 L2167.25 222.658 Q2168.78 220.32 2170.84 219.162 Q2172.93 218.005 2175.63 218.005 Q2180.1 218.005 2182.39 220.783 Q2184.69 223.537 2184.69 228.908 Z\" fill=\"#000000\" fill-rule=\"evenodd\" fill-opacity=\"1\" /><path clip-path=\"url(#clip780)\" d=\"M 0 0 M2215.96 214.602 L2209.62 231.801 L2222.32 231.801 L2215.96 214.602 M2213.32 209.996 L2218.62 209.996 L2231.79 244.556 L2226.93 244.556 L2223.78 235.69 L2208.2 235.69 L2205.06 244.556 L2200.13 244.556 L2213.32 209.996 Z\" fill=\"#000000\" fill-rule=\"evenodd\" fill-opacity=\"1\" /><polyline clip-path=\"url(#clip780)\" style=\"stroke:#dc5410; stroke-width:4; stroke-opacity:1; fill:none\" points=\"\n",
       "  1779.98,287.756 1921.75,287.756 \n",
       "  \"/>\n",
       "<path clip-path=\"url(#clip780)\" d=\"M 0 0 M1945.38 270.476 L1967.23 270.476 L1967.23 274.411 L1950.06 274.411 L1950.06 284.642 L1966.52 284.642 L1966.52 288.577 L1950.06 288.577 L1950.06 301.101 L1967.65 301.101 L1967.65 305.036 L1945.38 305.036 L1945.38 270.476 Z\" fill=\"#000000\" fill-rule=\"evenodd\" fill-opacity=\"1\" /><path clip-path=\"url(#clip780)\" d=\"M 0 0 M1993.67 289.388 L1993.67 305.036 L1989.41 305.036 L1989.41 289.527 Q1989.41 285.846 1987.97 284.017 Q1986.54 282.189 1983.67 282.189 Q1980.22 282.189 1978.23 284.388 Q1976.24 286.587 1976.24 290.383 L1976.24 305.036 L1971.96 305.036 L1971.96 279.11 L1976.24 279.11 L1976.24 283.138 Q1977.77 280.8 1979.83 279.642 Q1981.91 278.485 1984.62 278.485 Q1989.08 278.485 1991.38 281.263 Q1993.67 284.017 1993.67 289.388 Z\" fill=\"#000000\" fill-rule=\"evenodd\" fill-opacity=\"1\" /><path clip-path=\"url(#clip780)\" d=\"M 0 0 M2002.35 271.749 L2002.35 279.11 L2011.12 279.11 L2011.12 282.42 L2002.35 282.42 L2002.35 296.494 Q2002.35 299.665 2003.2 300.568 Q2004.08 301.471 2006.75 301.471 L2011.12 301.471 L2011.12 305.036 L2006.75 305.036 Q2001.82 305.036 1999.94 303.207 Q1998.07 301.355 1998.07 296.494 L1998.07 282.42 L1994.94 282.42 L1994.94 279.11 L1998.07 279.11 L1998.07 271.749 L2002.35 271.749 Z\" fill=\"#000000\" fill-rule=\"evenodd\" fill-opacity=\"1\" /><path clip-path=\"url(#clip780)\" d=\"M 0 0 M2030.61 283.091 Q2029.89 282.675 2029.04 282.49 Q2028.2 282.281 2027.19 282.281 Q2023.58 282.281 2021.63 284.642 Q2019.71 286.98 2019.71 291.378 L2019.71 305.036 L2015.43 305.036 L2015.43 279.11 L2019.71 279.11 L2019.71 283.138 Q2021.05 280.777 2023.2 279.642 Q2025.36 278.485 2028.44 278.485 Q2028.88 278.485 2029.41 278.554 Q2029.94 278.601 2030.59 278.716 L2030.61 283.091 Z\" fill=\"#000000\" fill-rule=\"evenodd\" fill-opacity=\"1\" /><path clip-path=\"url(#clip780)\" d=\"M 0 0 M2044.08 282.096 Q2040.66 282.096 2038.67 284.781 Q2036.68 287.443 2036.68 292.096 Q2036.68 296.749 2038.64 299.434 Q2040.64 302.096 2044.08 302.096 Q2047.49 302.096 2049.48 299.411 Q2051.47 296.726 2051.47 292.096 Q2051.47 287.49 2049.48 284.804 Q2047.49 282.096 2044.08 282.096 M2044.08 278.485 Q2049.64 278.485 2052.81 282.096 Q2055.98 285.707 2055.98 292.096 Q2055.98 298.462 2052.81 302.096 Q2049.64 305.707 2044.08 305.707 Q2038.51 305.707 2035.33 302.096 Q2032.19 298.462 2032.19 292.096 Q2032.19 285.707 2035.33 282.096 Q2038.51 278.485 2044.08 278.485 Z\" fill=\"#000000\" fill-rule=\"evenodd\" fill-opacity=\"1\" /><path clip-path=\"url(#clip780)\" d=\"M 0 0 M2064.57 301.147 L2064.57 314.897 L2060.29 314.897 L2060.29 279.11 L2064.57 279.11 L2064.57 283.045 Q2065.91 280.73 2067.95 279.619 Q2070.01 278.485 2072.86 278.485 Q2077.58 278.485 2080.52 282.235 Q2083.48 285.985 2083.48 292.096 Q2083.48 298.207 2080.52 301.957 Q2077.58 305.707 2072.86 305.707 Q2070.01 305.707 2067.95 304.596 Q2065.91 303.462 2064.57 301.147 M2079.06 292.096 Q2079.06 287.397 2077.12 284.735 Q2075.2 282.05 2071.82 282.05 Q2068.44 282.05 2066.49 284.735 Q2064.57 287.397 2064.57 292.096 Q2064.57 296.795 2066.49 299.48 Q2068.44 302.142 2071.82 302.142 Q2075.2 302.142 2077.12 299.48 Q2079.06 296.795 2079.06 292.096 Z\" fill=\"#000000\" fill-rule=\"evenodd\" fill-opacity=\"1\" /><path clip-path=\"url(#clip780)\" d=\"M 0 0 M2093.3 267.119 L2097.9 267.119 L2090.36 275.823 L2086.82 275.823 L2093.3 267.119 M2087.95 279.11 L2092.21 279.11 L2092.21 305.036 L2087.95 305.036 L2087.95 279.11 M2090.08 278.485 L2090.08 278.485 Z\" fill=\"#000000\" fill-rule=\"evenodd\" fill-opacity=\"1\" /><path clip-path=\"url(#clip780)\" d=\"M 0 0 M2114.15 292.003 Q2108.99 292.003 2107 293.184 Q2105.01 294.364 2105.01 297.212 Q2105.01 299.48 2106.49 300.823 Q2108 302.142 2110.57 302.142 Q2114.11 302.142 2116.24 299.642 Q2118.39 297.119 2118.39 292.952 L2118.39 292.003 L2114.15 292.003 M2122.65 290.244 L2122.65 305.036 L2118.39 305.036 L2118.39 301.101 Q2116.93 303.462 2114.76 304.596 Q2112.58 305.707 2109.43 305.707 Q2105.45 305.707 2103.09 303.485 Q2100.75 301.239 2100.75 297.489 Q2100.75 293.114 2103.67 290.892 Q2106.61 288.67 2112.42 288.67 L2118.39 288.67 L2118.39 288.253 Q2118.39 285.314 2116.45 283.716 Q2114.52 282.096 2111.03 282.096 Q2108.81 282.096 2106.7 282.628 Q2104.59 283.161 2102.65 284.226 L2102.65 280.29 Q2104.99 279.388 2107.19 278.948 Q2109.38 278.485 2111.47 278.485 Q2117.09 278.485 2119.87 281.402 Q2122.65 284.318 2122.65 290.244 Z\" fill=\"#000000\" fill-rule=\"evenodd\" fill-opacity=\"1\" /><path clip-path=\"url(#clip780)\" d=\"M 0 0 M2164.36 291.008 L2164.36 293.091 L2144.78 293.091 Q2145.06 297.489 2147.42 299.804 Q2149.8 302.096 2154.04 302.096 Q2156.49 302.096 2158.78 301.494 Q2161.1 300.892 2163.37 299.689 L2163.37 303.716 Q2161.07 304.688 2158.67 305.198 Q2156.26 305.707 2153.78 305.707 Q2147.58 305.707 2143.94 302.096 Q2140.33 298.485 2140.33 292.327 Q2140.33 285.962 2143.76 282.235 Q2147.21 278.485 2153.04 278.485 Q2158.27 278.485 2161.31 281.865 Q2164.36 285.221 2164.36 291.008 M2160.1 289.758 Q2160.06 286.263 2158.13 284.179 Q2156.24 282.096 2153.09 282.096 Q2149.52 282.096 2147.37 284.11 Q2145.24 286.124 2144.92 289.781 L2160.1 289.758 Z\" fill=\"#000000\" fill-rule=\"evenodd\" fill-opacity=\"1\" /><path clip-path=\"url(#clip780)\" d=\"M 0 0 M2190.38 289.388 L2190.38 305.036 L2186.12 305.036 L2186.12 289.527 Q2186.12 285.846 2184.69 284.017 Q2183.25 282.189 2180.38 282.189 Q2176.93 282.189 2174.94 284.388 Q2172.95 286.587 2172.95 290.383 L2172.95 305.036 L2168.67 305.036 L2168.67 279.11 L2172.95 279.11 L2172.95 283.138 Q2174.48 280.8 2176.54 279.642 Q2178.62 278.485 2181.33 278.485 Q2185.8 278.485 2188.09 281.263 Q2190.38 284.017 2190.38 289.388 Z\" fill=\"#000000\" fill-rule=\"evenodd\" fill-opacity=\"1\" /><path clip-path=\"url(#clip780)\" d=\"M 0 0 M2214.78 288.531 L2214.78 301.193 L2222.28 301.193 Q2226.05 301.193 2227.86 299.642 Q2229.69 298.068 2229.69 294.851 Q2229.69 291.61 2227.86 290.082 Q2226.05 288.531 2222.28 288.531 L2214.78 288.531 M2214.78 274.318 L2214.78 284.735 L2221.7 284.735 Q2225.12 284.735 2226.79 283.462 Q2228.48 282.165 2228.48 279.527 Q2228.48 276.911 2226.79 275.615 Q2225.12 274.318 2221.7 274.318 L2214.78 274.318 M2210.1 270.476 L2222.05 270.476 Q2227.39 270.476 2230.29 272.698 Q2233.18 274.92 2233.18 279.017 Q2233.18 282.189 2231.7 284.064 Q2230.22 285.939 2227.35 286.402 Q2230.8 287.142 2232.69 289.503 Q2234.62 291.841 2234.62 295.36 Q2234.62 299.989 2231.47 302.513 Q2228.32 305.036 2222.51 305.036 L2210.1 305.036 L2210.1 270.476 Z\" fill=\"#000000\" fill-rule=\"evenodd\" fill-opacity=\"1\" /><polyline clip-path=\"url(#clip780)\" style=\"stroke:#129f50; stroke-width:4; stroke-opacity:1; fill:none\" points=\"\n",
       "  1779.98,348.236 1921.75,348.236 \n",
       "  \"/>\n",
       "<path clip-path=\"url(#clip780)\" d=\"M 0 0 M1945.38 330.956 L1967.23 330.956 L1967.23 334.891 L1950.06 334.891 L1950.06 345.122 L1966.52 345.122 L1966.52 349.057 L1950.06 349.057 L1950.06 361.581 L1967.65 361.581 L1967.65 365.516 L1945.38 365.516 L1945.38 330.956 Z\" fill=\"#000000\" fill-rule=\"evenodd\" fill-opacity=\"1\" /><path clip-path=\"url(#clip780)\" d=\"M 0 0 M1993.67 349.868 L1993.67 365.516 L1989.41 365.516 L1989.41 350.007 Q1989.41 346.326 1987.97 344.497 Q1986.54 342.669 1983.67 342.669 Q1980.22 342.669 1978.23 344.868 Q1976.24 347.067 1976.24 350.863 L1976.24 365.516 L1971.96 365.516 L1971.96 339.59 L1976.24 339.59 L1976.24 343.618 Q1977.77 341.28 1979.83 340.122 Q1981.91 338.965 1984.62 338.965 Q1989.08 338.965 1991.38 341.743 Q1993.67 344.497 1993.67 349.868 Z\" fill=\"#000000\" fill-rule=\"evenodd\" fill-opacity=\"1\" /><path clip-path=\"url(#clip780)\" d=\"M 0 0 M2002.35 332.229 L2002.35 339.59 L2011.12 339.59 L2011.12 342.9 L2002.35 342.9 L2002.35 356.974 Q2002.35 360.145 2003.2 361.048 Q2004.08 361.951 2006.75 361.951 L2011.12 361.951 L2011.12 365.516 L2006.75 365.516 Q2001.82 365.516 1999.94 363.687 Q1998.07 361.835 1998.07 356.974 L1998.07 342.9 L1994.94 342.9 L1994.94 339.59 L1998.07 339.59 L1998.07 332.229 L2002.35 332.229 Z\" fill=\"#000000\" fill-rule=\"evenodd\" fill-opacity=\"1\" /><path clip-path=\"url(#clip780)\" d=\"M 0 0 M2030.61 343.571 Q2029.89 343.155 2029.04 342.97 Q2028.2 342.761 2027.19 342.761 Q2023.58 342.761 2021.63 345.122 Q2019.71 347.46 2019.71 351.858 L2019.71 365.516 L2015.43 365.516 L2015.43 339.59 L2019.71 339.59 L2019.71 343.618 Q2021.05 341.257 2023.2 340.122 Q2025.36 338.965 2028.44 338.965 Q2028.88 338.965 2029.41 339.034 Q2029.94 339.081 2030.59 339.196 L2030.61 343.571 Z\" fill=\"#000000\" fill-rule=\"evenodd\" fill-opacity=\"1\" /><path clip-path=\"url(#clip780)\" d=\"M 0 0 M2044.08 342.576 Q2040.66 342.576 2038.67 345.261 Q2036.68 347.923 2036.68 352.576 Q2036.68 357.229 2038.64 359.914 Q2040.64 362.576 2044.08 362.576 Q2047.49 362.576 2049.48 359.891 Q2051.47 357.206 2051.47 352.576 Q2051.47 347.97 2049.48 345.284 Q2047.49 342.576 2044.08 342.576 M2044.08 338.965 Q2049.64 338.965 2052.81 342.576 Q2055.98 346.187 2055.98 352.576 Q2055.98 358.942 2052.81 362.576 Q2049.64 366.187 2044.08 366.187 Q2038.51 366.187 2035.33 362.576 Q2032.19 358.942 2032.19 352.576 Q2032.19 346.187 2035.33 342.576 Q2038.51 338.965 2044.08 338.965 Z\" fill=\"#000000\" fill-rule=\"evenodd\" fill-opacity=\"1\" /><path clip-path=\"url(#clip780)\" d=\"M 0 0 M2064.57 361.627 L2064.57 375.377 L2060.29 375.377 L2060.29 339.59 L2064.57 339.59 L2064.57 343.525 Q2065.91 341.21 2067.95 340.099 Q2070.01 338.965 2072.86 338.965 Q2077.58 338.965 2080.52 342.715 Q2083.48 346.465 2083.48 352.576 Q2083.48 358.687 2080.52 362.437 Q2077.58 366.187 2072.86 366.187 Q2070.01 366.187 2067.95 365.076 Q2065.91 363.942 2064.57 361.627 M2079.06 352.576 Q2079.06 347.877 2077.12 345.215 Q2075.2 342.53 2071.82 342.53 Q2068.44 342.53 2066.49 345.215 Q2064.57 347.877 2064.57 352.576 Q2064.57 357.275 2066.49 359.96 Q2068.44 362.622 2071.82 362.622 Q2075.2 362.622 2077.12 359.96 Q2079.06 357.275 2079.06 352.576 Z\" fill=\"#000000\" fill-rule=\"evenodd\" fill-opacity=\"1\" /><path clip-path=\"url(#clip780)\" d=\"M 0 0 M2093.3 327.599 L2097.9 327.599 L2090.36 336.303 L2086.82 336.303 L2093.3 327.599 M2087.95 339.59 L2092.21 339.59 L2092.21 365.516 L2087.95 365.516 L2087.95 339.59 M2090.08 338.965 L2090.08 338.965 Z\" fill=\"#000000\" fill-rule=\"evenodd\" fill-opacity=\"1\" /><path clip-path=\"url(#clip780)\" d=\"M 0 0 M2114.15 352.483 Q2108.99 352.483 2107 353.664 Q2105.01 354.844 2105.01 357.692 Q2105.01 359.96 2106.49 361.303 Q2108 362.622 2110.57 362.622 Q2114.11 362.622 2116.24 360.122 Q2118.39 357.599 2118.39 353.432 L2118.39 352.483 L2114.15 352.483 M2122.65 350.724 L2122.65 365.516 L2118.39 365.516 L2118.39 361.581 Q2116.93 363.942 2114.76 365.076 Q2112.58 366.187 2109.43 366.187 Q2105.45 366.187 2103.09 363.965 Q2100.75 361.719 2100.75 357.969 Q2100.75 353.594 2103.67 351.372 Q2106.61 349.15 2112.42 349.15 L2118.39 349.15 L2118.39 348.733 Q2118.39 345.794 2116.45 344.196 Q2114.52 342.576 2111.03 342.576 Q2108.81 342.576 2106.7 343.108 Q2104.59 343.641 2102.65 344.706 L2102.65 340.77 Q2104.99 339.868 2107.19 339.428 Q2109.38 338.965 2111.47 338.965 Q2117.09 338.965 2119.87 341.882 Q2122.65 344.798 2122.65 350.724 Z\" fill=\"#000000\" fill-rule=\"evenodd\" fill-opacity=\"1\" /><path clip-path=\"url(#clip780)\" d=\"M 0 0 M2146.4 332.229 L2146.4 339.59 L2155.17 339.59 L2155.17 342.9 L2146.4 342.9 L2146.4 356.974 Q2146.4 360.145 2147.26 361.048 Q2148.13 361.951 2150.8 361.951 L2155.17 361.951 L2155.17 365.516 L2150.8 365.516 Q2145.87 365.516 2143.99 363.687 Q2142.12 361.835 2142.12 356.974 L2142.12 342.9 L2138.99 342.9 L2138.99 339.59 L2142.12 339.59 L2142.12 332.229 L2146.4 332.229 Z\" fill=\"#000000\" fill-rule=\"evenodd\" fill-opacity=\"1\" /><path clip-path=\"url(#clip780)\" d=\"M 0 0 M2169.69 342.576 Q2166.26 342.576 2164.27 345.261 Q2162.28 347.923 2162.28 352.576 Q2162.28 357.229 2164.25 359.914 Q2166.24 362.576 2169.69 362.576 Q2173.09 362.576 2175.08 359.891 Q2177.07 357.206 2177.07 352.576 Q2177.07 347.97 2175.08 345.284 Q2173.09 342.576 2169.69 342.576 M2169.69 338.965 Q2175.24 338.965 2178.41 342.576 Q2181.58 346.187 2181.58 352.576 Q2181.58 358.942 2178.41 362.576 Q2175.24 366.187 2169.69 366.187 Q2164.11 366.187 2160.94 362.576 Q2157.79 358.942 2157.79 352.576 Q2157.79 346.187 2160.94 342.576 Q2164.11 338.965 2169.69 338.965 Z\" fill=\"#000000\" fill-rule=\"evenodd\" fill-opacity=\"1\" /><path clip-path=\"url(#clip780)\" d=\"M 0 0 M2190.26 332.229 L2190.26 339.59 L2199.04 339.59 L2199.04 342.9 L2190.26 342.9 L2190.26 356.974 Q2190.26 360.145 2191.12 361.048 Q2192 361.951 2194.66 361.951 L2199.04 361.951 L2199.04 365.516 L2194.66 365.516 Q2189.73 365.516 2187.86 363.687 Q2185.98 361.835 2185.98 356.974 L2185.98 342.9 L2182.86 342.9 L2182.86 339.59 L2185.98 339.59 L2185.98 332.229 L2190.26 332.229 Z\" fill=\"#000000\" fill-rule=\"evenodd\" fill-opacity=\"1\" /><path clip-path=\"url(#clip780)\" d=\"M 0 0 M2215.29 352.483 Q2210.13 352.483 2208.13 353.664 Q2206.14 354.844 2206.14 357.692 Q2206.14 359.96 2207.63 361.303 Q2209.13 362.622 2211.7 362.622 Q2215.24 362.622 2217.37 360.122 Q2219.52 357.599 2219.52 353.432 L2219.52 352.483 L2215.29 352.483 M2223.78 350.724 L2223.78 365.516 L2219.52 365.516 L2219.52 361.581 Q2218.06 363.942 2215.89 365.076 Q2213.71 366.187 2210.56 366.187 Q2206.58 366.187 2204.22 363.965 Q2201.88 361.719 2201.88 357.969 Q2201.88 353.594 2204.8 351.372 Q2207.74 349.15 2213.55 349.15 L2219.52 349.15 L2219.52 348.733 Q2219.52 345.794 2217.58 344.196 Q2215.66 342.576 2212.16 342.576 Q2209.94 342.576 2207.83 343.108 Q2205.73 343.641 2203.78 344.706 L2203.78 340.77 Q2206.12 339.868 2208.32 339.428 Q2210.52 338.965 2212.6 338.965 Q2218.23 338.965 2221 341.882 Q2223.78 344.798 2223.78 350.724 Z\" fill=\"#000000\" fill-rule=\"evenodd\" fill-opacity=\"1\" /><path clip-path=\"url(#clip780)\" d=\"M 0 0 M2228.25 329.497 L2232.51 329.497 L2232.51 365.516 L2228.25 365.516 L2228.25 329.497 Z\" fill=\"#000000\" fill-rule=\"evenodd\" fill-opacity=\"1\" /></svg>\n"
      ]
     },
     "execution_count": 40,
     "metadata": {},
     "output_type": "execute_result"
    }
   ],
   "source": [
    "plot!(qA_data,SA_data,label=\"Entropia en A\",color=\"#0A387A\")\n",
    "plot!(qA_data,SB_data, label=\"Entropía en B\",color=\"#DC5410\")\n",
    "plot!(qA_data,S_total_data,label=\"Entropía total\",color=\"#129F50\")\n",
    "plot!(title=\"Entropías\", ylabel=\"Entropía\",xlabel=\"qA\")"
   ]
  }
 ],
 "metadata": {
  "kernelspec": {
   "display_name": "Julia 1.5.1",
   "language": "julia",
   "name": "julia-1.5"
  },
  "language_info": {
   "file_extension": ".jl",
   "mimetype": "application/julia",
   "name": "julia",
   "version": "1.5.1"
  }
 },
 "nbformat": 4,
 "nbformat_minor": 4
}
