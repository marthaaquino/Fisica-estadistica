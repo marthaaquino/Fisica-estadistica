{
 "cells": [
  {
   "cell_type": "code",
   "execution_count": 1,
   "metadata": {},
   "outputs": [],
   "source": [
    "using DelimitedFiles\n",
    "using Plots\n",
    "using LaTeXStrings\n",
    "using DelimitedFiles\n",
    "using ExcelFiles\n",
    "using XLSX\n",
    "using DataFrames\n",
    "using StatsBase\n",
    "#datos = readdlm (\" t_acel . dat \",’ ’, Float64 )"
   ]
  },
  {
   "cell_type": "code",
   "execution_count": 7,
   "metadata": {},
   "outputs": [
    {
     "data": {
      "text/plain": [
       "100000×1 Array{Any,2}:\n",
       "  0.207432930553688\n",
       "  0.315298763789501\n",
       " -0.842928962604338\n",
       " -0.502777581055923\n",
       " -0.836203055984516\n",
       "  0.105893845042498\n",
       " -0.242807078470717\n",
       "  0.647275266230146\n",
       " -0.117225649799912\n",
       "  0.936813842762585\n",
       "  0.790587074671381\n",
       " -0.732390552600596\n",
       "  0.265140726806573\n",
       "  ⋮\n",
       "  0.213984526056582\n",
       "  0.340501449742633\n",
       " -0.0483647056925915\n",
       "  0.990705705297857\n",
       " -0.58226132889533\n",
       " -0.361579817441925\n",
       " -0.185020564742235\n",
       "  0.576910042835277\n",
       " -0.262311209930055\n",
       " -0.692029499249647\n",
       "  0.486338559125017\n",
       " -0.223263647385465"
      ]
     },
     "execution_count": 7,
     "metadata": {},
     "output_type": "execute_result"
    }
   ],
   "source": [
    "#distribucion_3 =open(\"Distribucion3.txt\",\"w\") #readdlm (\" Distribucion1.txt \",´´, Float64 )\n",
    "distribucion_1=XLSX.readdata(\"Distribucion1.xlsx\", \"Hoja1!A1:A100000\")\n",
    "#XLSX.readdata(\"myfile.xlsx\", \"mysheet!A1:B3\")"
   ]
  },
  {
   "cell_type": "code",
   "execution_count": 8,
   "metadata": {},
   "outputs": [],
   "source": [
    "data=[]\n",
    "for i in 1:100000\n",
    "   push!(data,distribucion_1[i]) \n",
    "end"
   ]
  },
  {
   "cell_type": "code",
   "execution_count": 13,
   "metadata": {},
   "outputs": [
    {
     "data": {
      "text/plain": [
       "-0.999988063224304"
      ]
     },
     "execution_count": 13,
     "metadata": {},
     "output_type": "execute_result"
    }
   ],
   "source": [
    "minimum(data)"
   ]
  },
  {
   "cell_type": "code",
   "execution_count": 18,
   "metadata": {},
   "outputs": [
    {
     "name": "stderr",
     "output_type": "stream",
     "text": [
      "┌ Warning: No strict ticks found\n",
      "└ @ PlotUtils C:\\Users\\marth\\.julia\\packages\\PlotUtils\\es5pb\\src\\ticks.jl:283\n"
     ]
    },
    {
     "data": {
      "image/svg+xml": [
       "<?xml version=\"1.0\" encoding=\"utf-8\"?>\n",
       "<svg xmlns=\"http://www.w3.org/2000/svg\" xmlns:xlink=\"http://www.w3.org/1999/xlink\" width=\"600\" height=\"400\" viewBox=\"0 0 2400 1600\">\n",
       "<defs>\n",
       "  <clipPath id=\"clip950\">\n",
       "    <rect x=\"0\" y=\"0\" width=\"2400\" height=\"1600\"/>\n",
       "  </clipPath>\n",
       "</defs>\n",
       "<path clip-path=\"url(#clip950)\" d=\"\n",
       "M0 1600 L2400 1600 L2400 0 L0 0  Z\n",
       "  \" fill=\"#ffffff\" fill-rule=\"evenodd\" fill-opacity=\"1\"/>\n",
       "<defs>\n",
       "  <clipPath id=\"clip951\">\n",
       "    <rect x=\"480\" y=\"0\" width=\"1681\" height=\"1600\"/>\n",
       "  </clipPath>\n",
       "</defs>\n",
       "<path clip-path=\"url(#clip950)\" d=\"\n",
       "M189.978 1521.01 L2352.76 1521.01 L2352.76 47.2441 L189.978 47.2441  Z\n",
       "  \" fill=\"#ffffff\" fill-rule=\"evenodd\" fill-opacity=\"1\"/>\n",
       "<defs>\n",
       "  <clipPath id=\"clip952\">\n",
       "    <rect x=\"189\" y=\"47\" width=\"2164\" height=\"1475\"/>\n",
       "  </clipPath>\n",
       "</defs>\n",
       "<path clip-path=\"url(#clip950)\" d=\"M 0 0 M-1.#IND -1.#IND Q-1.#IND -1.#IND -1.#IND -1.#IND Q-1.#IND -1.#IND -1.#IND -1.#IND Q-1.#IND -1.#IND -1.#IND -1.#IND Q-1.#IND -1.#IND -1.#IND -1.#IND Q-1.#IND -1.#IND -1.#IND -1.#IND Q-1.#IND -1.#IND -1.#IND -1.#IND Q-1.#IND -1.#IND -1.#IND -1.#IND Q-1.#IND -1.#IND -1.#IND -1.#IND M-1.#IND -1.#IND Q-1.#IND -1.#IND -1.#IND -1.#IND Q-1.#IND -1.#IND -1.#IND -1.#IND Q-1.#IND -1.#IND -1.#IND -1.#IND Q-1.#IND -1.#IND -1.#IND -1.#IND Q-1.#IND -1.#IND -1.#IND -1.#IND Q-1.#IND -1.#IND -1.#IND -1.#IND Q-1.#IND -1.#IND -1.#IND -1.#IND Q-1.#IND -1.#IND -1.#IND -1.#IND Z\" fill=\"#000000\" fill-rule=\"evenodd\" fill-opacity=\"1\" /><path clip-path=\"url(#clip950)\" d=\"M 0 0 M-1.#IND -1.#IND L-1.#IND -1.#IND L-1.#IND -1.#IND L-1.#IND -1.#IND L-1.#IND -1.#IND Q-1.#IND -1.#IND -1.#IND -1.#IND Q-1.#IND -1.#IND -1.#IND -1.#IND Q-1.#IND -1.#IND -1.#IND -1.#IND Q-1.#IND -1.#IND -1.#IND -1.#IND Q-1.#IND -1.#IND -1.#IND -1.#IND Q-1.#IND -1.#IND -1.#IND -1.#IND Q-1.#IND -1.#IND -1.#IND -1.#IND Q-1.#IND -1.#IND -1.#IND -1.#IND L-1.#IND -1.#IND Q-1.#IND -1.#IND -1.#IND -1.#IND Q-1.#IND -1.#IND -1.#IND -1.#IND Q-1.#IND -1.#IND -1.#IND -1.#IND Q-1.#IND -1.#IND -1.#IND -1.#IND Q-1.#IND -1.#IND -1.#IND -1.#IND Q-1.#IND -1.#IND -1.#IND -1.#IND Q-1.#IND -1.#IND -1.#IND -1.#IND Q-1.#IND -1.#IND -1.#IND -1.#IND L-1.#IND -1.#IND Z\" fill=\"#000000\" fill-rule=\"evenodd\" fill-opacity=\"1\" /><path clip-path=\"url(#clip950)\" d=\"M 0 0 M-1.#IND -1.#IND Q-1.#IND -1.#IND -1.#IND -1.#IND Q-1.#IND -1.#IND -1.#IND -1.#IND Q-1.#IND -1.#IND -1.#IND -1.#IND Q-1.#IND -1.#IND -1.#IND -1.#IND Q-1.#IND -1.#IND -1.#IND -1.#IND Q-1.#IND -1.#IND -1.#IND -1.#IND Q-1.#IND -1.#IND -1.#IND -1.#IND Q-1.#IND -1.#IND -1.#IND -1.#IND M-1.#IND -1.#IND Q-1.#IND -1.#IND -1.#IND -1.#IND Q-1.#IND -1.#IND -1.#IND -1.#IND Q-1.#IND -1.#IND -1.#IND -1.#IND Q-1.#IND -1.#IND -1.#IND -1.#IND Q-1.#IND -1.#IND -1.#IND -1.#IND Q-1.#IND -1.#IND -1.#IND -1.#IND Q-1.#IND -1.#IND -1.#IND -1.#IND Q-1.#IND -1.#IND -1.#IND -1.#IND Z\" fill=\"#000000\" fill-rule=\"evenodd\" fill-opacity=\"1\" /><path clip-path=\"url(#clip950)\" d=\"M 0 0 M-1.#IND -1.#IND Q-1.#IND -1.#IND -1.#IND -1.#IND Q-1.#IND -1.#IND -1.#IND -1.#IND Q-1.#IND -1.#IND -1.#IND -1.#IND Q-1.#IND -1.#IND -1.#IND -1.#IND Q-1.#IND -1.#IND -1.#IND -1.#IND Q-1.#IND -1.#IND -1.#IND -1.#IND Q-1.#IND -1.#IND -1.#IND -1.#IND Q-1.#IND -1.#IND -1.#IND -1.#IND M-1.#IND -1.#IND Q-1.#IND -1.#IND -1.#IND -1.#IND Q-1.#IND -1.#IND -1.#IND -1.#IND Q-1.#IND -1.#IND -1.#IND -1.#IND Q-1.#IND -1.#IND -1.#IND -1.#IND Q-1.#IND -1.#IND -1.#IND -1.#IND Q-1.#IND -1.#IND -1.#IND -1.#IND Q-1.#IND -1.#IND -1.#IND -1.#IND Q-1.#IND -1.#IND -1.#IND -1.#IND Z\" fill=\"#000000\" fill-rule=\"evenodd\" fill-opacity=\"1\" /><path clip-path=\"url(#clip950)\" d=\"M 0 0 M-1.#IND -1.#IND L-1.#IND -1.#IND L-1.#IND -1.#IND L-1.#IND -1.#IND L-1.#IND -1.#IND L-1.#IND -1.#IND L-1.#IND -1.#IND L-1.#IND -1.#IND L-1.#IND -1.#IND L-1.#IND -1.#IND L-1.#IND -1.#IND L-1.#IND -1.#IND Z\" fill=\"#000000\" fill-rule=\"evenodd\" fill-opacity=\"1\" /><path clip-path=\"url(#clip950)\" d=\"M 0 0 M-1.#IND -1.#IND Q-1.#IND -1.#IND -1.#IND -1.#IND Q-1.#IND -1.#IND -1.#IND -1.#IND Q-1.#IND -1.#IND -1.#IND -1.#IND Q-1.#IND -1.#IND -1.#IND -1.#IND Q-1.#IND -1.#IND -1.#IND -1.#IND Q-1.#IND -1.#IND -1.#IND -1.#IND Q-1.#IND -1.#IND -1.#IND -1.#IND Q-1.#IND -1.#IND -1.#IND -1.#IND M-1.#IND -1.#IND Q-1.#IND -1.#IND -1.#IND -1.#IND Q-1.#IND -1.#IND -1.#IND -1.#IND Q-1.#IND -1.#IND -1.#IND -1.#IND Q-1.#IND -1.#IND -1.#IND -1.#IND Q-1.#IND -1.#IND -1.#IND -1.#IND Q-1.#IND -1.#IND -1.#IND -1.#IND Q-1.#IND -1.#IND -1.#IND -1.#IND Q-1.#IND -1.#IND -1.#IND -1.#IND Z\" fill=\"#000000\" fill-rule=\"evenodd\" fill-opacity=\"1\" /><path clip-path=\"url(#clip950)\" d=\"M 0 0 M-1.#IND -1.#IND Q-1.#IND -1.#IND -1.#IND -1.#IND Q-1.#IND -1.#IND -1.#IND -1.#IND Q-1.#IND -1.#IND -1.#IND -1.#IND Q-1.#IND -1.#IND -1.#IND -1.#IND Q-1.#IND -1.#IND -1.#IND -1.#IND Q-1.#IND -1.#IND -1.#IND -1.#IND Q-1.#IND -1.#IND -1.#IND -1.#IND Q-1.#IND -1.#IND -1.#IND -1.#IND M-1.#IND -1.#IND Q-1.#IND -1.#IND -1.#IND -1.#IND Q-1.#IND -1.#IND -1.#IND -1.#IND Q-1.#IND -1.#IND -1.#IND -1.#IND Q-1.#IND -1.#IND -1.#IND -1.#IND Q-1.#IND -1.#IND -1.#IND -1.#IND Q-1.#IND -1.#IND -1.#IND -1.#IND Q-1.#IND -1.#IND -1.#IND -1.#IND Q-1.#IND -1.#IND -1.#IND -1.#IND Z\" fill=\"#000000\" fill-rule=\"evenodd\" fill-opacity=\"1\" /><path clip-path=\"url(#clip950)\" d=\"M 0 0 M-1.#IND -1.#IND Q-1.#IND -1.#IND -1.#IND -1.#IND Q-1.#IND -1.#IND -1.#IND -1.#IND Q-1.#IND -1.#IND -1.#IND -1.#IND Q-1.#IND -1.#IND -1.#IND -1.#IND Q-1.#IND -1.#IND -1.#IND -1.#IND Q-1.#IND -1.#IND -1.#IND -1.#IND Q-1.#IND -1.#IND -1.#IND -1.#IND Q-1.#IND -1.#IND -1.#IND -1.#IND M-1.#IND -1.#IND Q-1.#IND -1.#IND -1.#IND -1.#IND Q-1.#IND -1.#IND -1.#IND -1.#IND Q-1.#IND -1.#IND -1.#IND -1.#IND Q-1.#IND -1.#IND -1.#IND -1.#IND Q-1.#IND -1.#IND -1.#IND -1.#IND Q-1.#IND -1.#IND -1.#IND -1.#IND Q-1.#IND -1.#IND -1.#IND -1.#IND Q-1.#IND -1.#IND -1.#IND -1.#IND Z\" fill=\"#000000\" fill-rule=\"evenodd\" fill-opacity=\"1\" /><path clip-path=\"url(#clip950)\" d=\"M 0 0 M-1.#IND -1.#IND L-1.#IND -1.#IND L-1.#IND -1.#IND L-1.#IND -1.#IND L-1.#IND -1.#IND L-1.#IND -1.#IND L-1.#IND -1.#IND L-1.#IND -1.#IND L-1.#IND -1.#IND L-1.#IND -1.#IND L-1.#IND -1.#IND L-1.#IND -1.#IND Z\" fill=\"#000000\" fill-rule=\"evenodd\" fill-opacity=\"1\" /><path clip-path=\"url(#clip950)\" d=\"M 0 0 M-1.#IND -1.#IND L-1.#IND -1.#IND L-1.#IND -1.#IND L-1.#IND -1.#IND L-1.#IND -1.#IND Q-1.#IND -1.#IND -1.#IND -1.#IND Q-1.#IND -1.#IND -1.#IND -1.#IND Q-1.#IND -1.#IND -1.#IND -1.#IND Q-1.#IND -1.#IND -1.#IND -1.#IND Q-1.#IND -1.#IND -1.#IND -1.#IND Q-1.#IND -1.#IND -1.#IND -1.#IND Q-1.#IND -1.#IND -1.#IND -1.#IND Q-1.#IND -1.#IND -1.#IND -1.#IND L-1.#IND -1.#IND Q-1.#IND -1.#IND -1.#IND -1.#IND Q-1.#IND -1.#IND -1.#IND -1.#IND Q-1.#IND -1.#IND -1.#IND -1.#IND Q-1.#IND -1.#IND -1.#IND -1.#IND Q-1.#IND -1.#IND -1.#IND -1.#IND Q-1.#IND -1.#IND -1.#IND -1.#IND Q-1.#IND -1.#IND -1.#IND -1.#IND Q-1.#IND -1.#IND -1.#IND -1.#IND L-1.#IND -1.#IND Z\" fill=\"#000000\" fill-rule=\"evenodd\" fill-opacity=\"1\" /><path clip-path=\"url(#clip950)\" d=\"M 0 0 M-1.#IND -1.#IND Q-1.#IND -1.#IND -1.#IND -1.#IND Q-1.#IND -1.#IND -1.#IND -1.#IND Q-1.#IND -1.#IND -1.#IND -1.#IND Q-1.#IND -1.#IND -1.#IND -1.#IND Q-1.#IND -1.#IND -1.#IND -1.#IND Q-1.#IND -1.#IND -1.#IND -1.#IND Q-1.#IND -1.#IND -1.#IND -1.#IND Q-1.#IND -1.#IND -1.#IND -1.#IND M-1.#IND -1.#IND Q-1.#IND -1.#IND -1.#IND -1.#IND Q-1.#IND -1.#IND -1.#IND -1.#IND Q-1.#IND -1.#IND -1.#IND -1.#IND Q-1.#IND -1.#IND -1.#IND -1.#IND Q-1.#IND -1.#IND -1.#IND -1.#IND Q-1.#IND -1.#IND -1.#IND -1.#IND Q-1.#IND -1.#IND -1.#IND -1.#IND Q-1.#IND -1.#IND -1.#IND -1.#IND Z\" fill=\"#000000\" fill-rule=\"evenodd\" fill-opacity=\"1\" /><path clip-path=\"url(#clip950)\" d=\"M 0 0 M-1.#IND -1.#IND Q-1.#IND -1.#IND -1.#IND -1.#IND Q-1.#IND -1.#IND -1.#IND -1.#IND Q-1.#IND -1.#IND -1.#IND -1.#IND Q-1.#IND -1.#IND -1.#IND -1.#IND Q-1.#IND -1.#IND -1.#IND -1.#IND Q-1.#IND -1.#IND -1.#IND -1.#IND Q-1.#IND -1.#IND -1.#IND -1.#IND Q-1.#IND -1.#IND -1.#IND -1.#IND M-1.#IND -1.#IND Q-1.#IND -1.#IND -1.#IND -1.#IND Q-1.#IND -1.#IND -1.#IND -1.#IND Q-1.#IND -1.#IND -1.#IND -1.#IND Q-1.#IND -1.#IND -1.#IND -1.#IND Q-1.#IND -1.#IND -1.#IND -1.#IND Q-1.#IND -1.#IND -1.#IND -1.#IND Q-1.#IND -1.#IND -1.#IND -1.#IND Q-1.#IND -1.#IND -1.#IND -1.#IND Z\" fill=\"#000000\" fill-rule=\"evenodd\" fill-opacity=\"1\" /><path clip-path=\"url(#clip950)\" d=\"M 0 0 M-1.#IND -1.#IND L-1.#IND -1.#IND L-1.#IND -1.#IND L-1.#IND -1.#IND L-1.#IND -1.#IND Q-1.#IND -1.#IND -1.#IND -1.#IND Q-1.#IND -1.#IND -1.#IND -1.#IND Q-1.#IND -1.#IND -1.#IND -1.#IND Q-1.#IND -1.#IND -1.#IND -1.#IND Q-1.#IND -1.#IND -1.#IND -1.#IND Q-1.#IND -1.#IND -1.#IND -1.#IND Q-1.#IND -1.#IND -1.#IND -1.#IND Q-1.#IND -1.#IND -1.#IND -1.#IND L-1.#IND -1.#IND Q-1.#IND -1.#IND -1.#IND -1.#IND Q-1.#IND -1.#IND -1.#IND -1.#IND Q-1.#IND -1.#IND -1.#IND -1.#IND Q-1.#IND -1.#IND -1.#IND -1.#IND Q-1.#IND -1.#IND -1.#IND -1.#IND Q-1.#IND -1.#IND -1.#IND -1.#IND Q-1.#IND -1.#IND -1.#IND -1.#IND Q-1.#IND -1.#IND -1.#IND -1.#IND Z\" fill=\"#000000\" fill-rule=\"evenodd\" fill-opacity=\"1\" /><path clip-path=\"url(#clip950)\" d=\"M 0 0 M-1.#IND -1.#IND Q-1.#IND -1.#IND -1.#IND -1.#IND Q-1.#IND -1.#IND -1.#IND -1.#IND Q-1.#IND -1.#IND -1.#IND -1.#IND Q-1.#IND -1.#IND -1.#IND -1.#IND Q-1.#IND -1.#IND -1.#IND -1.#IND Q-1.#IND -1.#IND -1.#IND -1.#IND Q-1.#IND -1.#IND -1.#IND -1.#IND Q-1.#IND -1.#IND -1.#IND -1.#IND M-1.#IND -1.#IND Q-1.#IND -1.#IND -1.#IND -1.#IND Q-1.#IND -1.#IND -1.#IND -1.#IND Q-1.#IND -1.#IND -1.#IND -1.#IND Q-1.#IND -1.#IND -1.#IND -1.#IND Q-1.#IND -1.#IND -1.#IND -1.#IND Q-1.#IND -1.#IND -1.#IND -1.#IND Q-1.#IND -1.#IND -1.#IND -1.#IND Q-1.#IND -1.#IND -1.#IND -1.#IND Z\" fill=\"#000000\" fill-rule=\"evenodd\" fill-opacity=\"1\" /><path clip-path=\"url(#clip950)\" d=\"M 0 0 M-1.#IND -1.#IND Q-1.#IND -1.#IND -1.#IND -1.#IND Q-1.#IND -1.#IND -1.#IND -1.#IND Q-1.#IND -1.#IND -1.#IND -1.#IND Q-1.#IND -1.#IND -1.#IND -1.#IND Q-1.#IND -1.#IND -1.#IND -1.#IND Q-1.#IND -1.#IND -1.#IND -1.#IND Q-1.#IND -1.#IND -1.#IND -1.#IND Q-1.#IND -1.#IND -1.#IND -1.#IND M-1.#IND -1.#IND Q-1.#IND -1.#IND -1.#IND -1.#IND Q-1.#IND -1.#IND -1.#IND -1.#IND Q-1.#IND -1.#IND -1.#IND -1.#IND Q-1.#IND -1.#IND -1.#IND -1.#IND Q-1.#IND -1.#IND -1.#IND -1.#IND Q-1.#IND -1.#IND -1.#IND -1.#IND Q-1.#IND -1.#IND -1.#IND -1.#IND Q-1.#IND -1.#IND -1.#IND -1.#IND Z\" fill=\"#000000\" fill-rule=\"evenodd\" fill-opacity=\"1\" /><path clip-path=\"url(#clip950)\" d=\"M 0 0 M-1.#IND -1.#IND Q-1.#IND -1.#IND -1.#IND -1.#IND Q-1.#IND -1.#IND -1.#IND -1.#IND Q-1.#IND -1.#IND -1.#IND -1.#IND Q-1.#IND -1.#IND -1.#IND -1.#IND Q-1.#IND -1.#IND -1.#IND -1.#IND Q-1.#IND -1.#IND -1.#IND -1.#IND Q-1.#IND -1.#IND -1.#IND -1.#IND Q-1.#IND -1.#IND -1.#IND -1.#IND M-1.#IND -1.#IND Q-1.#IND -1.#IND -1.#IND -1.#IND Q-1.#IND -1.#IND -1.#IND -1.#IND Q-1.#IND -1.#IND -1.#IND -1.#IND Q-1.#IND -1.#IND -1.#IND -1.#IND Q-1.#IND -1.#IND -1.#IND -1.#IND Q-1.#IND -1.#IND -1.#IND -1.#IND Q-1.#IND -1.#IND -1.#IND -1.#IND Q-1.#IND -1.#IND -1.#IND -1.#IND Z\" fill=\"#000000\" fill-rule=\"evenodd\" fill-opacity=\"1\" /><path clip-path=\"url(#clip950)\" d=\"M 0 0 M-1.#IND -1.#IND L-1.#IND -1.#IND L-1.#IND -1.#IND L-1.#IND -1.#IND L-1.#IND -1.#IND Q-1.#IND -1.#IND -1.#IND -1.#IND Q-1.#IND -1.#IND -1.#IND -1.#IND Q-1.#IND -1.#IND -1.#IND -1.#IND Q-1.#IND -1.#IND -1.#IND -1.#IND Q-1.#IND -1.#IND -1.#IND -1.#IND Q-1.#IND -1.#IND -1.#IND -1.#IND Q-1.#IND -1.#IND -1.#IND -1.#IND Q-1.#IND -1.#IND -1.#IND -1.#IND L-1.#IND -1.#IND Q-1.#IND -1.#IND -1.#IND -1.#IND Q-1.#IND -1.#IND -1.#IND -1.#IND Q-1.#IND -1.#IND -1.#IND -1.#IND Q-1.#IND -1.#IND -1.#IND -1.#IND Q-1.#IND -1.#IND -1.#IND -1.#IND Q-1.#IND -1.#IND -1.#IND -1.#IND Q-1.#IND -1.#IND -1.#IND -1.#IND Q-1.#IND -1.#IND -1.#IND -1.#IND Z\" fill=\"#000000\" fill-rule=\"evenodd\" fill-opacity=\"1\" /><path clip-path=\"url(#clip950)\" d=\"M 0 0 M-1.#IND -1.#IND L-1.#IND -1.#IND L-1.#IND -1.#IND L-1.#IND -1.#IND L-1.#IND -1.#IND Q-1.#IND -1.#IND -1.#IND -1.#IND Q-1.#IND -1.#IND -1.#IND -1.#IND Q-1.#IND -1.#IND -1.#IND -1.#IND Q-1.#IND -1.#IND -1.#IND -1.#IND Q-1.#IND -1.#IND -1.#IND -1.#IND Q-1.#IND -1.#IND -1.#IND -1.#IND Q-1.#IND -1.#IND -1.#IND -1.#IND Q-1.#IND -1.#IND -1.#IND -1.#IND L-1.#IND -1.#IND Q-1.#IND -1.#IND -1.#IND -1.#IND Q-1.#IND -1.#IND -1.#IND -1.#IND Q-1.#IND -1.#IND -1.#IND -1.#IND Q-1.#IND -1.#IND -1.#IND -1.#IND Q-1.#IND -1.#IND -1.#IND -1.#IND Q-1.#IND -1.#IND -1.#IND -1.#IND Q-1.#IND -1.#IND -1.#IND -1.#IND Q-1.#IND -1.#IND -1.#IND -1.#IND L-1.#IND -1.#IND Z\" fill=\"#000000\" fill-rule=\"evenodd\" fill-opacity=\"1\" /><path clip-path=\"url(#clip950)\" d=\"M 0 0 M-1.#IND -1.#IND Q-1.#IND -1.#IND -1.#IND -1.#IND Q-1.#IND -1.#IND -1.#IND -1.#IND Q-1.#IND -1.#IND -1.#IND -1.#IND Q-1.#IND -1.#IND -1.#IND -1.#IND Q-1.#IND -1.#IND -1.#IND -1.#IND Q-1.#IND -1.#IND -1.#IND -1.#IND Q-1.#IND -1.#IND -1.#IND -1.#IND Q-1.#IND -1.#IND -1.#IND -1.#IND M-1.#IND -1.#IND Q-1.#IND -1.#IND -1.#IND -1.#IND Q-1.#IND -1.#IND -1.#IND -1.#IND Q-1.#IND -1.#IND -1.#IND -1.#IND Q-1.#IND -1.#IND -1.#IND -1.#IND Q-1.#IND -1.#IND -1.#IND -1.#IND Q-1.#IND -1.#IND -1.#IND -1.#IND Q-1.#IND -1.#IND -1.#IND -1.#IND Q-1.#IND -1.#IND -1.#IND -1.#IND Z\" fill=\"#000000\" fill-rule=\"evenodd\" fill-opacity=\"1\" /><path clip-path=\"url(#clip950)\" d=\"M 0 0 M-1.#IND -1.#IND Q-1.#IND -1.#IND -1.#IND -1.#IND Q-1.#IND -1.#IND -1.#IND -1.#IND Q-1.#IND -1.#IND -1.#IND -1.#IND Q-1.#IND -1.#IND -1.#IND -1.#IND Q-1.#IND -1.#IND -1.#IND -1.#IND Q-1.#IND -1.#IND -1.#IND -1.#IND Q-1.#IND -1.#IND -1.#IND -1.#IND Q-1.#IND -1.#IND -1.#IND -1.#IND M-1.#IND -1.#IND Q-1.#IND -1.#IND -1.#IND -1.#IND Q-1.#IND -1.#IND -1.#IND -1.#IND Q-1.#IND -1.#IND -1.#IND -1.#IND Q-1.#IND -1.#IND -1.#IND -1.#IND Q-1.#IND -1.#IND -1.#IND -1.#IND Q-1.#IND -1.#IND -1.#IND -1.#IND Q-1.#IND -1.#IND -1.#IND -1.#IND Q-1.#IND -1.#IND -1.#IND -1.#IND Z\" fill=\"#000000\" fill-rule=\"evenodd\" fill-opacity=\"1\" /><path clip-path=\"url(#clip952)\" d=\"\n",
       "M-1972.8 -3.64015e+006 L-1972.8 1521.01 L-1864.66 1521.01 L-1864.66 -3.64015e+006 L-1972.8 -3.64015e+006 L-1972.8 -3.64015e+006  Z\n",
       "  \" fill=\"#009af9\" fill-rule=\"evenodd\" fill-opacity=\"1\"/>\n",
       "<polyline clip-path=\"url(#clip952)\" style=\"stroke:#000000; stroke-width:4; stroke-opacity:1; fill:none\" points=\"\n",
       "  -1972.8,-3.64015e+006 -1972.8,1521.01 -1864.66,1521.01 -1864.66,-3.64015e+006 -1972.8,-3.64015e+006 \n",
       "  \"/>\n",
       "<path clip-path=\"url(#clip952)\" d=\"\n",
       "M-1864.66 -3.74479e+006 L-1864.66 1521.01 L-1756.52 1521.01 L-1756.52 -3.74479e+006 L-1864.66 -3.74479e+006 L-1864.66 -3.74479e+006  Z\n",
       "  \" fill=\"#009af9\" fill-rule=\"evenodd\" fill-opacity=\"1\"/>\n",
       "<polyline clip-path=\"url(#clip952)\" style=\"stroke:#000000; stroke-width:4; stroke-opacity:1; fill:none\" points=\"\n",
       "  -1864.66,-3.74479e+006 -1864.66,1521.01 -1756.52,1521.01 -1756.52,-3.74479e+006 -1864.66,-3.74479e+006 \n",
       "  \"/>\n",
       "<path clip-path=\"url(#clip952)\" d=\"\n",
       "M-1756.52 -3.80079e+006 L-1756.52 1521.01 L-1648.38 1521.01 L-1648.38 -3.80079e+006 L-1756.52 -3.80079e+006 L-1756.52 -3.80079e+006  Z\n",
       "  \" fill=\"#009af9\" fill-rule=\"evenodd\" fill-opacity=\"1\"/>\n",
       "<polyline clip-path=\"url(#clip952)\" style=\"stroke:#000000; stroke-width:4; stroke-opacity:1; fill:none\" points=\"\n",
       "  -1756.52,-3.80079e+006 -1756.52,1521.01 -1648.38,1521.01 -1648.38,-3.80079e+006 -1756.52,-3.80079e+006 \n",
       "  \"/>\n",
       "<path clip-path=\"url(#clip952)\" d=\"\n",
       "M-1648.38 -3.61804e+006 L-1648.38 1521.01 L-1540.24 1521.01 L-1540.24 -3.61804e+006 L-1648.38 -3.61804e+006 L-1648.38 -3.61804e+006  Z\n",
       "  \" fill=\"#009af9\" fill-rule=\"evenodd\" fill-opacity=\"1\"/>\n",
       "<polyline clip-path=\"url(#clip952)\" style=\"stroke:#000000; stroke-width:4; stroke-opacity:1; fill:none\" points=\"\n",
       "  -1648.38,-3.61804e+006 -1648.38,1521.01 -1540.24,1521.01 -1540.24,-3.61804e+006 -1648.38,-3.61804e+006 \n",
       "  \"/>\n",
       "<path clip-path=\"url(#clip952)\" d=\"\n",
       "M-1540.24 -3.65341e+006 L-1540.24 1521.01 L-1432.11 1521.01 L-1432.11 -3.65341e+006 L-1540.24 -3.65341e+006 L-1540.24 -3.65341e+006  Z\n",
       "  \" fill=\"#009af9\" fill-rule=\"evenodd\" fill-opacity=\"1\"/>\n",
       "<polyline clip-path=\"url(#clip952)\" style=\"stroke:#000000; stroke-width:4; stroke-opacity:1; fill:none\" points=\"\n",
       "  -1540.24,-3.65341e+006 -1540.24,1521.01 -1432.11,1521.01 -1432.11,-3.65341e+006 -1540.24,-3.65341e+006 \n",
       "  \"/>\n",
       "<path clip-path=\"url(#clip952)\" d=\"\n",
       "M-1432.11 -3.64752e+006 L-1432.11 1521.01 L-1323.97 1521.01 L-1323.97 -3.64752e+006 L-1432.11 -3.64752e+006 L-1432.11 -3.64752e+006  Z\n",
       "  \" fill=\"#009af9\" fill-rule=\"evenodd\" fill-opacity=\"1\"/>\n",
       "<polyline clip-path=\"url(#clip952)\" style=\"stroke:#000000; stroke-width:4; stroke-opacity:1; fill:none\" points=\"\n",
       "  -1432.11,-3.64752e+006 -1432.11,1521.01 -1323.97,1521.01 -1323.97,-3.64752e+006 -1432.11,-3.64752e+006 \n",
       "  \"/>\n",
       "<path clip-path=\"url(#clip952)\" d=\"\n",
       "M-1323.97 -3.63278e+006 L-1323.97 1521.01 L-1215.83 1521.01 L-1215.83 -3.63278e+006 L-1323.97 -3.63278e+006 L-1323.97 -3.63278e+006  Z\n",
       "  \" fill=\"#009af9\" fill-rule=\"evenodd\" fill-opacity=\"1\"/>\n",
       "<polyline clip-path=\"url(#clip952)\" style=\"stroke:#000000; stroke-width:4; stroke-opacity:1; fill:none\" points=\"\n",
       "  -1323.97,-3.63278e+006 -1323.97,1521.01 -1215.83,1521.01 -1215.83,-3.63278e+006 -1323.97,-3.63278e+006 \n",
       "  \"/>\n",
       "<path clip-path=\"url(#clip952)\" d=\"\n",
       "M-1215.83 -3.69615e+006 L-1215.83 1521.01 L-1107.69 1521.01 L-1107.69 -3.69615e+006 L-1215.83 -3.69615e+006 L-1215.83 -3.69615e+006  Z\n",
       "  \" fill=\"#009af9\" fill-rule=\"evenodd\" fill-opacity=\"1\"/>\n",
       "<polyline clip-path=\"url(#clip952)\" style=\"stroke:#000000; stroke-width:4; stroke-opacity:1; fill:none\" points=\"\n",
       "  -1215.83,-3.69615e+006 -1215.83,1521.01 -1107.69,1521.01 -1107.69,-3.69615e+006 -1215.83,-3.69615e+006 \n",
       "  \"/>\n",
       "<path clip-path=\"url(#clip952)\" d=\"\n",
       "M-1107.69 -3.68436e+006 L-1107.69 1521.01 L-999.55 1521.01 L-999.55 -3.68436e+006 L-1107.69 -3.68436e+006 L-1107.69 -3.68436e+006  Z\n",
       "  \" fill=\"#009af9\" fill-rule=\"evenodd\" fill-opacity=\"1\"/>\n",
       "<polyline clip-path=\"url(#clip952)\" style=\"stroke:#000000; stroke-width:4; stroke-opacity:1; fill:none\" points=\"\n",
       "  -1107.69,-3.68436e+006 -1107.69,1521.01 -999.55,1521.01 -999.55,-3.68436e+006 -1107.69,-3.68436e+006 \n",
       "  \"/>\n",
       "<path clip-path=\"url(#clip952)\" d=\"\n",
       "M-999.55 -3.72858e+006 L-999.55 1521.01 L-891.411 1521.01 L-891.411 -3.72858e+006 L-999.55 -3.72858e+006 L-999.55 -3.72858e+006  Z\n",
       "  \" fill=\"#009af9\" fill-rule=\"evenodd\" fill-opacity=\"1\"/>\n",
       "<polyline clip-path=\"url(#clip952)\" style=\"stroke:#000000; stroke-width:4; stroke-opacity:1; fill:none\" points=\"\n",
       "  -999.55,-3.72858e+006 -999.55,1521.01 -891.411,1521.01 -891.411,-3.72858e+006 -999.55,-3.72858e+006 \n",
       "  \"/>\n",
       "<path clip-path=\"url(#clip952)\" d=\"\n",
       "M-891.411 -3.92311e+006 L-891.411 1521.01 L-783.273 1521.01 L-783.273 -3.92311e+006 L-891.411 -3.92311e+006 L-891.411 -3.92311e+006  Z\n",
       "  \" fill=\"#009af9\" fill-rule=\"evenodd\" fill-opacity=\"1\"/>\n",
       "<polyline clip-path=\"url(#clip952)\" style=\"stroke:#000000; stroke-width:4; stroke-opacity:1; fill:none\" points=\"\n",
       "  -891.411,-3.92311e+006 -891.411,1521.01 -783.273,1521.01 -783.273,-3.92311e+006 -891.411,-3.92311e+006 \n",
       "  \"/>\n",
       "<path clip-path=\"url(#clip952)\" d=\"\n",
       "M-783.273 -3.64752e+006 L-783.273 1521.01 L-675.134 1521.01 L-675.134 -3.64752e+006 L-783.273 -3.64752e+006 L-783.273 -3.64752e+006  Z\n",
       "  \" fill=\"#009af9\" fill-rule=\"evenodd\" fill-opacity=\"1\"/>\n",
       "<polyline clip-path=\"url(#clip952)\" style=\"stroke:#000000; stroke-width:4; stroke-opacity:1; fill:none\" points=\"\n",
       "  -783.273,-3.64752e+006 -783.273,1521.01 -675.134,1521.01 -675.134,-3.64752e+006 -783.273,-3.64752e+006 \n",
       "  \"/>\n",
       "<path clip-path=\"url(#clip952)\" d=\"\n",
       "M-675.134 -3.60625e+006 L-675.134 1521.01 L-566.995 1521.01 L-566.995 -3.60625e+006 L-675.134 -3.60625e+006 L-675.134 -3.60625e+006  Z\n",
       "  \" fill=\"#009af9\" fill-rule=\"evenodd\" fill-opacity=\"1\"/>\n",
       "<polyline clip-path=\"url(#clip952)\" style=\"stroke:#000000; stroke-width:4; stroke-opacity:1; fill:none\" points=\"\n",
       "  -675.134,-3.60625e+006 -675.134,1521.01 -566.995,1521.01 -566.995,-3.60625e+006 -675.134,-3.60625e+006 \n",
       "  \"/>\n",
       "<path clip-path=\"url(#clip952)\" d=\"\n",
       "M-566.995 -3.66815e+006 L-566.995 1521.01 L-458.856 1521.01 L-458.856 -3.66815e+006 L-566.995 -3.66815e+006 L-566.995 -3.66815e+006  Z\n",
       "  \" fill=\"#009af9\" fill-rule=\"evenodd\" fill-opacity=\"1\"/>\n",
       "<polyline clip-path=\"url(#clip952)\" style=\"stroke:#000000; stroke-width:4; stroke-opacity:1; fill:none\" points=\"\n",
       "  -566.995,-3.66815e+006 -566.995,1521.01 -458.856,1521.01 -458.856,-3.66815e+006 -566.995,-3.66815e+006 \n",
       "  \"/>\n",
       "<path clip-path=\"url(#clip952)\" d=\"\n",
       "M-458.856 -3.66815e+006 L-458.856 1521.01 L-350.717 1521.01 L-350.717 -3.66815e+006 L-458.856 -3.66815e+006 L-458.856 -3.66815e+006  Z\n",
       "  \" fill=\"#009af9\" fill-rule=\"evenodd\" fill-opacity=\"1\"/>\n",
       "<polyline clip-path=\"url(#clip952)\" style=\"stroke:#000000; stroke-width:4; stroke-opacity:1; fill:none\" points=\"\n",
       "  -458.856,-3.66815e+006 -458.856,1521.01 -350.717,1521.01 -350.717,-3.66815e+006 -458.856,-3.66815e+006 \n",
       "  \"/>\n",
       "<path clip-path=\"url(#clip952)\" d=\"\n",
       "M-350.717 -3.62836e+006 L-350.717 1521.01 L-242.578 1521.01 L-242.578 -3.62836e+006 L-350.717 -3.62836e+006 L-350.717 -3.62836e+006  Z\n",
       "  \" fill=\"#009af9\" fill-rule=\"evenodd\" fill-opacity=\"1\"/>\n",
       "<polyline clip-path=\"url(#clip952)\" style=\"stroke:#000000; stroke-width:4; stroke-opacity:1; fill:none\" points=\"\n",
       "  -350.717,-3.62836e+006 -350.717,1521.01 -242.578,1521.01 -242.578,-3.62836e+006 -350.717,-3.62836e+006 \n",
       "  \"/>\n",
       "<path clip-path=\"url(#clip952)\" d=\"\n",
       "M-242.578 -3.66226e+006 L-242.578 1521.01 L-134.439 1521.01 L-134.439 -3.66226e+006 L-242.578 -3.66226e+006 L-242.578 -3.66226e+006  Z\n",
       "  \" fill=\"#009af9\" fill-rule=\"evenodd\" fill-opacity=\"1\"/>\n",
       "<polyline clip-path=\"url(#clip952)\" style=\"stroke:#000000; stroke-width:4; stroke-opacity:1; fill:none\" points=\"\n",
       "  -242.578,-3.66226e+006 -242.578,1521.01 -134.439,1521.01 -134.439,-3.66226e+006 -242.578,-3.66226e+006 \n",
       "  \"/>\n",
       "<path clip-path=\"url(#clip952)\" d=\"\n",
       "M-134.439 -3.761e+006 L-134.439 1521.01 L-26.3001 1521.01 L-26.3001 -3.761e+006 L-134.439 -3.761e+006 L-134.439 -3.761e+006  Z\n",
       "  \" fill=\"#009af9\" fill-rule=\"evenodd\" fill-opacity=\"1\"/>\n",
       "<polyline clip-path=\"url(#clip952)\" style=\"stroke:#000000; stroke-width:4; stroke-opacity:1; fill:none\" points=\"\n",
       "  -134.439,-3.761e+006 -134.439,1521.01 -26.3001,1521.01 -26.3001,-3.761e+006 -134.439,-3.761e+006 \n",
       "  \"/>\n",
       "<path clip-path=\"url(#clip952)\" d=\"\n",
       "M-26.3001 -3.60331e+006 L-26.3001 1521.01 L81.8388 1521.01 L81.8388 -3.60331e+006 L-26.3001 -3.60331e+006 L-26.3001 -3.60331e+006  Z\n",
       "  \" fill=\"#009af9\" fill-rule=\"evenodd\" fill-opacity=\"1\"/>\n",
       "<polyline clip-path=\"url(#clip952)\" style=\"stroke:#000000; stroke-width:4; stroke-opacity:1; fill:none\" points=\"\n",
       "  -26.3001,-3.60331e+006 -26.3001,1521.01 81.8388,1521.01 81.8388,-3.60331e+006 -26.3001,-3.60331e+006 \n",
       "  \"/>\n",
       "<path clip-path=\"url(#clip952)\" d=\"\n",
       "M81.8388 -3.69763e+006 L81.8388 1521.01 L189.978 1521.01 L189.978 -3.69763e+006 L81.8388 -3.69763e+006 L81.8388 -3.69763e+006  Z\n",
       "  \" fill=\"#009af9\" fill-rule=\"evenodd\" fill-opacity=\"1\"/>\n",
       "<polyline clip-path=\"url(#clip952)\" style=\"stroke:#000000; stroke-width:4; stroke-opacity:1; fill:none\" points=\"\n",
       "  81.8388,-3.69763e+006 81.8388,1521.01 189.978,1521.01 189.978,-3.69763e+006 81.8388,-3.69763e+006 \n",
       "  \"/>\n",
       "<path clip-path=\"url(#clip952)\" d=\"\n",
       "M189.978 -3.80079e+006 L189.978 1521.01 L298.117 1521.01 L298.117 -3.80079e+006 L189.978 -3.80079e+006 L189.978 -3.80079e+006  Z\n",
       "  \" fill=\"#009af9\" fill-rule=\"evenodd\" fill-opacity=\"1\"/>\n",
       "<polyline clip-path=\"url(#clip952)\" style=\"stroke:#000000; stroke-width:4; stroke-opacity:1; fill:none\" points=\"\n",
       "  189.978,-3.80079e+006 189.978,1521.01 298.117,1521.01 298.117,-3.80079e+006 189.978,-3.80079e+006 \n",
       "  \"/>\n",
       "<path clip-path=\"url(#clip952)\" d=\"\n",
       "M298.117 -3.70057e+006 L298.117 1521.01 L406.256 1521.01 L406.256 -3.70057e+006 L298.117 -3.70057e+006 L298.117 -3.70057e+006  Z\n",
       "  \" fill=\"#009af9\" fill-rule=\"evenodd\" fill-opacity=\"1\"/>\n",
       "<polyline clip-path=\"url(#clip952)\" style=\"stroke:#000000; stroke-width:4; stroke-opacity:1; fill:none\" points=\"\n",
       "  298.117,-3.70057e+006 298.117,1521.01 406.256,1521.01 406.256,-3.70057e+006 298.117,-3.70057e+006 \n",
       "  \"/>\n",
       "<path clip-path=\"url(#clip952)\" d=\"\n",
       "M406.256 -3.62099e+006 L406.256 1521.01 L514.394 1521.01 L514.394 -3.62099e+006 L406.256 -3.62099e+006 L406.256 -3.62099e+006  Z\n",
       "  \" fill=\"#009af9\" fill-rule=\"evenodd\" fill-opacity=\"1\"/>\n",
       "<polyline clip-path=\"url(#clip952)\" style=\"stroke:#000000; stroke-width:4; stroke-opacity:1; fill:none\" points=\"\n",
       "  406.256,-3.62099e+006 406.256,1521.01 514.394,1521.01 514.394,-3.62099e+006 406.256,-3.62099e+006 \n",
       "  \"/>\n",
       "<path clip-path=\"url(#clip952)\" d=\"\n",
       "M514.394 -3.73005e+006 L514.394 1521.01 L622.533 1521.01 L622.533 -3.73005e+006 L514.394 -3.73005e+006 L514.394 -3.73005e+006  Z\n",
       "  \" fill=\"#009af9\" fill-rule=\"evenodd\" fill-opacity=\"1\"/>\n",
       "<polyline clip-path=\"url(#clip952)\" style=\"stroke:#000000; stroke-width:4; stroke-opacity:1; fill:none\" points=\"\n",
       "  514.394,-3.73005e+006 514.394,1521.01 622.533,1521.01 622.533,-3.73005e+006 514.394,-3.73005e+006 \n",
       "  \"/>\n",
       "<path clip-path=\"url(#clip952)\" d=\"\n",
       "M622.533 -3.73005e+006 L622.533 1521.01 L730.672 1521.01 L730.672 -3.73005e+006 L622.533 -3.73005e+006 L622.533 -3.73005e+006  Z\n",
       "  \" fill=\"#009af9\" fill-rule=\"evenodd\" fill-opacity=\"1\"/>\n",
       "<polyline clip-path=\"url(#clip952)\" style=\"stroke:#000000; stroke-width:4; stroke-opacity:1; fill:none\" points=\"\n",
       "  622.533,-3.73005e+006 622.533,1521.01 730.672,1521.01 730.672,-3.73005e+006 622.533,-3.73005e+006 \n",
       "  \"/>\n",
       "<path clip-path=\"url(#clip952)\" d=\"\n",
       "M730.672 -3.70794e+006 L730.672 1521.01 L838.811 1521.01 L838.811 -3.70794e+006 L730.672 -3.70794e+006 L730.672 -3.70794e+006  Z\n",
       "  \" fill=\"#009af9\" fill-rule=\"evenodd\" fill-opacity=\"1\"/>\n",
       "<polyline clip-path=\"url(#clip952)\" style=\"stroke:#000000; stroke-width:4; stroke-opacity:1; fill:none\" points=\"\n",
       "  730.672,-3.70794e+006 730.672,1521.01 838.811,1521.01 838.811,-3.70794e+006 730.672,-3.70794e+006 \n",
       "  \"/>\n",
       "<path clip-path=\"url(#clip952)\" d=\"\n",
       "M838.811 -3.71236e+006 L838.811 1521.01 L946.95 1521.01 L946.95 -3.71236e+006 L838.811 -3.71236e+006 L838.811 -3.71236e+006  Z\n",
       "  \" fill=\"#009af9\" fill-rule=\"evenodd\" fill-opacity=\"1\"/>\n",
       "<polyline clip-path=\"url(#clip952)\" style=\"stroke:#000000; stroke-width:4; stroke-opacity:1; fill:none\" points=\"\n",
       "  838.811,-3.71236e+006 838.811,1521.01 946.95,1521.01 946.95,-3.71236e+006 838.811,-3.71236e+006 \n",
       "  \"/>\n",
       "<path clip-path=\"url(#clip952)\" d=\"\n",
       "M946.95 -3.68584e+006 L946.95 1521.01 L1055.09 1521.01 L1055.09 -3.68584e+006 L946.95 -3.68584e+006 L946.95 -3.68584e+006  Z\n",
       "  \" fill=\"#009af9\" fill-rule=\"evenodd\" fill-opacity=\"1\"/>\n",
       "<polyline clip-path=\"url(#clip952)\" style=\"stroke:#000000; stroke-width:4; stroke-opacity:1; fill:none\" points=\"\n",
       "  946.95,-3.68584e+006 946.95,1521.01 1055.09,1521.01 1055.09,-3.68584e+006 946.95,-3.68584e+006 \n",
       "  \"/>\n",
       "<path clip-path=\"url(#clip952)\" d=\"\n",
       "M1055.09 -3.64752e+006 L1055.09 1521.01 L1163.23 1521.01 L1163.23 -3.64752e+006 L1055.09 -3.64752e+006 L1055.09 -3.64752e+006  Z\n",
       "  \" fill=\"#009af9\" fill-rule=\"evenodd\" fill-opacity=\"1\"/>\n",
       "<polyline clip-path=\"url(#clip952)\" style=\"stroke:#000000; stroke-width:4; stroke-opacity:1; fill:none\" points=\"\n",
       "  1055.09,-3.64752e+006 1055.09,1521.01 1163.23,1521.01 1163.23,-3.64752e+006 1055.09,-3.64752e+006 \n",
       "  \"/>\n",
       "<path clip-path=\"url(#clip952)\" d=\"\n",
       "M1163.23 -3.5812e+006 L1163.23 1521.01 L1271.37 1521.01 L1271.37 -3.5812e+006 L1163.23 -3.5812e+006 L1163.23 -3.5812e+006  Z\n",
       "  \" fill=\"#009af9\" fill-rule=\"evenodd\" fill-opacity=\"1\"/>\n",
       "<polyline clip-path=\"url(#clip952)\" style=\"stroke:#000000; stroke-width:4; stroke-opacity:1; fill:none\" points=\"\n",
       "  1163.23,-3.5812e+006 1163.23,1521.01 1271.37,1521.01 1271.37,-3.5812e+006 1163.23,-3.5812e+006 \n",
       "  \"/>\n",
       "<path clip-path=\"url(#clip952)\" d=\"\n",
       "M1271.37 -3.75952e+006 L1271.37 1521.01 L1379.51 1521.01 L1379.51 -3.75952e+006 L1271.37 -3.75952e+006 L1271.37 -3.75952e+006  Z\n",
       "  \" fill=\"#009af9\" fill-rule=\"evenodd\" fill-opacity=\"1\"/>\n",
       "<polyline clip-path=\"url(#clip952)\" style=\"stroke:#000000; stroke-width:4; stroke-opacity:1; fill:none\" points=\"\n",
       "  1271.37,-3.75952e+006 1271.37,1521.01 1379.51,1521.01 1379.51,-3.75952e+006 1271.37,-3.75952e+006 \n",
       "  \"/>\n",
       "<path clip-path=\"url(#clip952)\" d=\"\n",
       "M1379.51 -3.65489e+006 L1379.51 1521.01 L1487.64 1521.01 L1487.64 -3.65489e+006 L1379.51 -3.65489e+006 L1379.51 -3.65489e+006  Z\n",
       "  \" fill=\"#009af9\" fill-rule=\"evenodd\" fill-opacity=\"1\"/>\n",
       "<polyline clip-path=\"url(#clip952)\" style=\"stroke:#000000; stroke-width:4; stroke-opacity:1; fill:none\" points=\"\n",
       "  1379.51,-3.65489e+006 1379.51,1521.01 1487.64,1521.01 1487.64,-3.65489e+006 1379.51,-3.65489e+006 \n",
       "  \"/>\n",
       "<path clip-path=\"url(#clip952)\" d=\"\n",
       "M1487.64 -3.73889e+006 L1487.64 1521.01 L1595.78 1521.01 L1595.78 -3.73889e+006 L1487.64 -3.73889e+006 L1487.64 -3.73889e+006  Z\n",
       "  \" fill=\"#009af9\" fill-rule=\"evenodd\" fill-opacity=\"1\"/>\n",
       "<polyline clip-path=\"url(#clip952)\" style=\"stroke:#000000; stroke-width:4; stroke-opacity:1; fill:none\" points=\"\n",
       "  1487.64,-3.73889e+006 1487.64,1521.01 1595.78,1521.01 1595.78,-3.73889e+006 1487.64,-3.73889e+006 \n",
       "  \"/>\n",
       "<path clip-path=\"url(#clip952)\" d=\"\n",
       "M1595.78 -3.63278e+006 L1595.78 1521.01 L1703.92 1521.01 L1703.92 -3.63278e+006 L1595.78 -3.63278e+006 L1595.78 -3.63278e+006  Z\n",
       "  \" fill=\"#009af9\" fill-rule=\"evenodd\" fill-opacity=\"1\"/>\n",
       "<polyline clip-path=\"url(#clip952)\" style=\"stroke:#000000; stroke-width:4; stroke-opacity:1; fill:none\" points=\"\n",
       "  1595.78,-3.63278e+006 1595.78,1521.01 1703.92,1521.01 1703.92,-3.63278e+006 1595.78,-3.63278e+006 \n",
       "  \"/>\n",
       "<path clip-path=\"url(#clip952)\" d=\"\n",
       "M1703.92 -3.57825e+006 L1703.92 1521.01 L1812.06 1521.01 L1812.06 -3.57825e+006 L1703.92 -3.57825e+006 L1703.92 -3.57825e+006  Z\n",
       "  \" fill=\"#009af9\" fill-rule=\"evenodd\" fill-opacity=\"1\"/>\n",
       "<polyline clip-path=\"url(#clip952)\" style=\"stroke:#000000; stroke-width:4; stroke-opacity:1; fill:none\" points=\"\n",
       "  1703.92,-3.57825e+006 1703.92,1521.01 1812.06,1521.01 1812.06,-3.57825e+006 1703.92,-3.57825e+006 \n",
       "  \"/>\n",
       "<path clip-path=\"url(#clip952)\" d=\"\n",
       "M1812.06 -3.55614e+006 L1812.06 1521.01 L1920.2 1521.01 L1920.2 -3.55614e+006 L1812.06 -3.55614e+006 L1812.06 -3.55614e+006  Z\n",
       "  \" fill=\"#009af9\" fill-rule=\"evenodd\" fill-opacity=\"1\"/>\n",
       "<polyline clip-path=\"url(#clip952)\" style=\"stroke:#000000; stroke-width:4; stroke-opacity:1; fill:none\" points=\"\n",
       "  1812.06,-3.55614e+006 1812.06,1521.01 1920.2,1521.01 1920.2,-3.55614e+006 1812.06,-3.55614e+006 \n",
       "  \"/>\n",
       "<path clip-path=\"url(#clip952)\" d=\"\n",
       "M1920.2 -3.66226e+006 L1920.2 1521.01 L2028.34 1521.01 L2028.34 -3.66226e+006 L1920.2 -3.66226e+006 L1920.2 -3.66226e+006  Z\n",
       "  \" fill=\"#009af9\" fill-rule=\"evenodd\" fill-opacity=\"1\"/>\n",
       "<polyline clip-path=\"url(#clip952)\" style=\"stroke:#000000; stroke-width:4; stroke-opacity:1; fill:none\" points=\"\n",
       "  1920.2,-3.66226e+006 1920.2,1521.01 2028.34,1521.01 2028.34,-3.66226e+006 1920.2,-3.66226e+006 \n",
       "  \"/>\n",
       "<path clip-path=\"url(#clip952)\" d=\"\n",
       "M2028.34 -3.62836e+006 L2028.34 1521.01 L2136.48 1521.01 L2136.48 -3.62836e+006 L2028.34 -3.62836e+006 L2028.34 -3.62836e+006  Z\n",
       "  \" fill=\"#009af9\" fill-rule=\"evenodd\" fill-opacity=\"1\"/>\n",
       "<polyline clip-path=\"url(#clip952)\" style=\"stroke:#000000; stroke-width:4; stroke-opacity:1; fill:none\" points=\"\n",
       "  2028.34,-3.62836e+006 2028.34,1521.01 2136.48,1521.01 2136.48,-3.62836e+006 2028.34,-3.62836e+006 \n",
       "  \"/>\n",
       "<path clip-path=\"url(#clip952)\" d=\"\n",
       "M2136.48 -3.79489e+006 L2136.48 1521.01 L2244.62 1521.01 L2244.62 -3.79489e+006 L2136.48 -3.79489e+006 L2136.48 -3.79489e+006  Z\n",
       "  \" fill=\"#009af9\" fill-rule=\"evenodd\" fill-opacity=\"1\"/>\n",
       "<polyline clip-path=\"url(#clip952)\" style=\"stroke:#000000; stroke-width:4; stroke-opacity:1; fill:none\" points=\"\n",
       "  2136.48,-3.79489e+006 2136.48,1521.01 2244.62,1521.01 2244.62,-3.79489e+006 2136.48,-3.79489e+006 \n",
       "  \"/>\n",
       "<path clip-path=\"url(#clip952)\" d=\"\n",
       "M2244.62 -3.67994e+006 L2244.62 1521.01 L2352.76 1521.01 L2352.76 -3.67994e+006 L2244.62 -3.67994e+006 L2244.62 -3.67994e+006  Z\n",
       "  \" fill=\"#009af9\" fill-rule=\"evenodd\" fill-opacity=\"1\"/>\n",
       "<polyline clip-path=\"url(#clip952)\" style=\"stroke:#000000; stroke-width:4; stroke-opacity:1; fill:none\" points=\"\n",
       "  2244.62,-3.67994e+006 2244.62,1521.01 2352.76,1521.01 2352.76,-3.67994e+006 2244.62,-3.67994e+006 \n",
       "  \"/>\n",
       "<path clip-path=\"url(#clip950)\" d=\"\n",
       "M1989.34 217.33 L2280.66 217.33 L2280.66 96.3696 L1989.34 96.3696  Z\n",
       "  \" fill=\"#ffffff\" fill-rule=\"evenodd\" fill-opacity=\"1\"/>\n",
       "<polyline clip-path=\"url(#clip950)\" style=\"stroke:#000000; stroke-width:4; stroke-opacity:1; fill:none\" points=\"\n",
       "  1989.34,217.33 2280.66,217.33 2280.66,96.3696 1989.34,96.3696 1989.34,217.33 \n",
       "  \"/>\n",
       "<path clip-path=\"url(#clip950)\" d=\"\n",
       "M2013.37 181.042 L2157.55 181.042 L2157.55 132.658 L2013.37 132.658 L2013.37 181.042  Z\n",
       "  \" fill=\"#009af9\" fill-rule=\"evenodd\" fill-opacity=\"1\"/>\n",
       "<polyline clip-path=\"url(#clip950)\" style=\"stroke:#000000; stroke-width:4; stroke-opacity:1; fill:none\" points=\"\n",
       "  2013.37,181.042 2157.55,181.042 2157.55,132.658 2013.37,132.658 2013.37,181.042 \n",
       "  \"/>\n",
       "<path clip-path=\"url(#clip950)\" d=\"M 0 0 M-1.#IND -1.#IND Q-1.#IND -1.#IND -1.#IND -1.#IND Q-1.#IND -1.#IND -1.#IND -1.#IND L-1.#IND -1.#IND L-1.#IND -1.#IND L-1.#IND -1.#IND Q-1.#IND -1.#IND -1.#IND -1.#IND Q-1.#IND -1.#IND -1.#IND -1.#IND L-1.#IND -1.#IND L-1.#IND -1.#IND L-1.#IND -1.#IND L-1.#IND -1.#IND L-1.#IND -1.#IND L-1.#IND -1.#IND L-1.#IND -1.#IND Z\" fill=\"#000000\" fill-rule=\"evenodd\" fill-opacity=\"1\" /><path clip-path=\"url(#clip950)\" d=\"M 0 0 M-1.#IND -1.#IND L-1.#IND -1.#IND L-1.#IND -1.#IND L-1.#IND -1.#IND L-1.#IND -1.#IND L-1.#IND -1.#IND L-1.#IND -1.#IND L-1.#IND -1.#IND L-1.#IND -1.#IND L-1.#IND -1.#IND L-1.#IND -1.#IND L-1.#IND -1.#IND Z\" fill=\"#000000\" fill-rule=\"evenodd\" fill-opacity=\"1\" /></svg>\n"
      ]
     },
     "execution_count": 18,
     "metadata": {},
     "output_type": "execute_result"
    },
    {
     "name": "stderr",
     "output_type": "stream",
     "text": [
      "┌ Warning: No strict ticks found\n",
      "└ @ PlotUtils C:\\Users\\marth\\.julia\\packages\\PlotUtils\\es5pb\\src\\ticks.jl:283\n"
     ]
    }
   ],
   "source": [
    "histogram((data),yscale=:log10)#,bins=range(-500,length=5))"
   ]
  },
  {
   "cell_type": "code",
   "execution_count": 35,
   "metadata": {},
   "outputs": [
    {
     "data": {
      "text/plain": [
       "100000-element Array{Any,1}:\n",
       " -34140.8590516303\n",
       "  -8550.94222747559\n",
       "  -8271.76065689659\n",
       "  -5671.4202026848\n",
       "  -5377.91524151778\n",
       "  -5341.37757851113\n",
       "  -5276.27569687633\n",
       "  -5081.01372721341\n",
       "  -4726.1744242089\n",
       "  -3296.31591320599\n",
       "  -2695.68265942964\n",
       "  -2653.52636814397\n",
       "  -2467.09903173071\n",
       "      ⋮\n",
       "   2389.93162028681\n",
       "   2636.39867198009\n",
       "   3243.27857155921\n",
       "   4515.12984605735\n",
       "   6742.57600163529\n",
       "   7358.99445758054\n",
       "   7881.44251998354\n",
       "   8029.2202814163\n",
       "   8755.77600601352\n",
       "  11586.0718758871\n",
       "  12822.1689112673\n",
       "  85701.0567530908"
      ]
     },
     "execution_count": 35,
     "metadata": {},
     "output_type": "execute_result"
    }
   ],
   "source": [
    "#Ordenamos los datos de menor a mayor\n",
    "distribucion3=sort(data)"
   ]
  },
  {
   "cell_type": "code",
   "execution_count": 128,
   "metadata": {},
   "outputs": [
    {
     "data": {
      "text/plain": [
       "23968"
      ]
     },
     "execution_count": 128,
     "metadata": {},
     "output_type": "execute_result"
    }
   ],
   "source": [
    "#(distribucion3[end]-distribucion3[1])/5\n",
    "convert(Int64, round(((distribucion3[end]-distribucion3[1])/5), digits=0))"
   ]
  },
  {
   "cell_type": "code",
   "execution_count": 137,
   "metadata": {},
   "outputs": [
    {
     "data": {
      "text/plain": [
       "valores (generic function with 1 method)"
      ]
     },
     "execution_count": 137,
     "metadata": {},
     "output_type": "execute_result"
    }
   ],
   "source": [
    "function valores(datos,bin)\n",
    "    longitud=datos[end]-datos[1]\n",
    "    particion=23968#convert(Int64, round((longitud/bin), digits=0))\n",
    "    conjuntos=zeros(particion)\n",
    "    repeticiones=zeros(particion)\n",
    "    \n",
    "    #for i in 1:\n",
    "    for i in 1:particion\n",
    "        conjuntos[i]=[]\n",
    "        for j in 1:length(datos)\n",
    "            if datos[j]<=datos[1]+(bin*i) \n",
    "                push!(conjuntos[i],datos[j])\n",
    "            else\n",
    "                false\n",
    "            end\n",
    "        end\n",
    "    end\n",
    "    \n",
    "    for i in 1:particion\n",
    "        repeticiones[i]=length(conjuntos[i])\n",
    "    end\n",
    "    return repeticiones\n",
    "    \n",
    "end\n"
   ]
  },
  {
   "cell_type": "code",
   "execution_count": 141,
   "metadata": {},
   "outputs": [
    {
     "ename": "LoadError",
     "evalue": "MethodError: Cannot `convert` an object of type Array{Any,1} to an object of type Float64\nClosest candidates are:\n  convert(::Type{T}, !Matched::T) where T<:Number at number.jl:6\n  convert(::Type{T}, !Matched::Number) where T<:Number at number.jl:7\n  convert(::Type{T}, !Matched::Base.TwicePrecision) where T<:Number at twiceprecision.jl:250\n  ...",
     "output_type": "error",
     "traceback": [
      "MethodError: Cannot `convert` an object of type Array{Any,1} to an object of type Float64\nClosest candidates are:\n  convert(::Type{T}, !Matched::T) where T<:Number at number.jl:6\n  convert(::Type{T}, !Matched::Number) where T<:Number at number.jl:7\n  convert(::Type{T}, !Matched::Base.TwicePrecision) where T<:Number at twiceprecision.jl:250\n  ...",
      "",
      "Stacktrace:",
      " [1] setindex!(::Array{Float64,1}, ::Array{Any,1}, ::Int64) at .\\array.jl:847",
      " [2] valores(::Array{Any,1}, ::Int64) at .\\In[137]:9",
      " [3] top-level scope at In[141]:1",
      " [4] include_string(::Function, ::Module, ::String, ::String) at .\\loading.jl:1091"
     ]
    }
   ],
   "source": [
    "valores(distribucion3,5)"
   ]
  },
  {
   "cell_type": "code",
   "execution_count": 131,
   "metadata": {},
   "outputs": [
    {
     "ename": "LoadError",
     "evalue": "DomainError with -34140.8590516303:\nlog will only return a complex result if called with a complex argument. Try log(Complex(x)).",
     "output_type": "error",
     "traceback": [
      "DomainError with -34140.8590516303:\nlog will only return a complex result if called with a complex argument. Try log(Complex(x)).",
      "",
      "Stacktrace:",
      " [1] throw_complex_domainerror(::Symbol, ::Float64) at .\\math.jl:33",
      " [2] log(::Float64) at .\\special\\log.jl:285",
      " [3] log at .\\math.jl:265 [inlined]",
      " [4] log(::Int64, ::Float64) at .\\math.jl:308",
      " [5] top-level scope at .\\In[131]:3",
      " [6] include_string(::Function, ::Module, ::String, ::String) at .\\loading.jl:1091"
     ]
    }
   ],
   "source": [
    "dis=zeros(length(distribucion3))\n",
    "for i in 1:length(distribucion3)\n",
    "    dis[i]=log(10,distribucion3[i])\n",
    "end"
   ]
  },
  {
   "cell_type": "code",
   "execution_count": 98,
   "metadata": {},
   "outputs": [
    {
     "name": "stdout",
     "output_type": "stream",
     "text": [
      "search: \u001b[0m\u001b[1mI\u001b[22m\u001b[0m\u001b[1mn\u001b[22m\u001b[0m\u001b[1mt\u001b[22m \u001b[0m\u001b[1mI\u001b[22m\u001b[0m\u001b[1mn\u001b[22m\u001b[0m\u001b[1mt\u001b[22m8 \u001b[0m\u001b[1mI\u001b[22m\u001b[0m\u001b[1mn\u001b[22m\u001b[0m\u001b[1mt\u001b[22m64 \u001b[0m\u001b[1mI\u001b[22m\u001b[0m\u001b[1mn\u001b[22m\u001b[0m\u001b[1mt\u001b[22m32 \u001b[0m\u001b[1mI\u001b[22m\u001b[0m\u001b[1mn\u001b[22m\u001b[0m\u001b[1mt\u001b[22m16 \u001b[0m\u001b[1mI\u001b[22m\u001b[0m\u001b[1mn\u001b[22m\u001b[0m\u001b[1mt\u001b[22m128 \u001b[0m\u001b[1mI\u001b[22m\u001b[0m\u001b[1mn\u001b[22m\u001b[0m\u001b[1mt\u001b[22meger \u001b[0m\u001b[1mi\u001b[22m\u001b[0m\u001b[1mn\u001b[22m\u001b[0m\u001b[1mt\u001b[22mersect \u001b[0m\u001b[1mi\u001b[22m\u001b[0m\u001b[1mn\u001b[22m\u001b[0m\u001b[1mt\u001b[22mersect!\n",
      "\n"
     ]
    },
    {
     "data": {
      "text/latex": [
       "\\begin{verbatim}\n",
       "Int64 <: Signed\n",
       "\\end{verbatim}\n",
       "64-bit signed integer type.\n",
       "\n"
      ],
      "text/markdown": [
       "```\n",
       "Int64 <: Signed\n",
       "```\n",
       "\n",
       "64-bit signed integer type.\n"
      ],
      "text/plain": [
       "\u001b[36m  Int64 <: Signed\u001b[39m\n",
       "\n",
       "  64-bit signed integer type."
      ]
     },
     "execution_count": 98,
     "metadata": {},
     "output_type": "execute_result"
    }
   ],
   "source": [
    "?Int"
   ]
  }
 ],
 "metadata": {
  "kernelspec": {
   "display_name": "Julia 1.5.1",
   "language": "julia",
   "name": "julia-1.5"
  },
  "language_info": {
   "file_extension": ".jl",
   "mimetype": "application/julia",
   "name": "julia",
   "version": "1.5.1"
  }
 },
 "nbformat": 4,
 "nbformat_minor": 4
}
