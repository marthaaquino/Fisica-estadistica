{
 "cells": [
  {
   "cell_type": "code",
   "execution_count": 1,
   "metadata": {},
   "outputs": [],
   "source": [
    "using DelimitedFiles\n",
    "using Plots\n",
    "using LaTeXStrings\n",
    "using DelimitedFiles\n",
    "using ExcelFiles\n",
    "using XLSX\n",
    "using DataFrames\n",
    "using StatsBase\n",
    "#datos = readdlm (\" t_acel . dat \",’ ’, Float64 )"
   ]
  },
  {
   "cell_type": "code",
   "execution_count": 2,
   "metadata": {},
   "outputs": [
    {
     "data": {
      "text/html": [
       "<table class=\"data-frame\"><thead><tr><th></th><th>2.98684246651102</th></tr><tr><th></th><th>Any</th></tr></thead><tbody><p>99,999 rows × 1 columns</p><tr><th>1</th><td>-19.5893</td></tr><tr><th>2</th><td>-0.268869</td></tr><tr><th>3</th><td>13.2258</td></tr><tr><th>4</th><td>-0.597496</td></tr><tr><th>5</th><td>-1.11912</td></tr><tr><th>6</th><td>-2.2087</td></tr><tr><th>7</th><td>0.760121</td></tr><tr><th>8</th><td>3.71205</td></tr><tr><th>9</th><td>-0.991255</td></tr><tr><th>10</th><td>-0.752966</td></tr><tr><th>11</th><td>1.69146</td></tr><tr><th>12</th><td>7.09431</td></tr><tr><th>13</th><td>-1.37356</td></tr><tr><th>14</th><td>1.77833</td></tr><tr><th>15</th><td>0.393106</td></tr><tr><th>16</th><td>-0.432772</td></tr><tr><th>17</th><td>-28.0516</td></tr><tr><th>18</th><td>-0.418224</td></tr><tr><th>19</th><td>0.45737</td></tr><tr><th>20</th><td>-10.0861</td></tr><tr><th>21</th><td>1.25713</td></tr><tr><th>22</th><td>0.960021</td></tr><tr><th>23</th><td>-0.645508</td></tr><tr><th>24</th><td>-0.434755</td></tr><tr><th>25</th><td>-0.585303</td></tr><tr><th>26</th><td>1.70246</td></tr><tr><th>27</th><td>-0.335852</td></tr><tr><th>28</th><td>2.00834</td></tr><tr><th>29</th><td>2.16901</td></tr><tr><th>30</th><td>0.132336</td></tr><tr><th>&vellip;</th><td>&vellip;</td></tr></tbody></table>"
      ],
      "text/latex": [
       "\\begin{tabular}{r|c}\n",
       "\t& 2.98684246651102\\\\\n",
       "\t\\hline\n",
       "\t& Any\\\\\n",
       "\t\\hline\n",
       "\t1 & -19.5893 \\\\\n",
       "\t2 & -0.268869 \\\\\n",
       "\t3 & 13.2258 \\\\\n",
       "\t4 & -0.597496 \\\\\n",
       "\t5 & -1.11912 \\\\\n",
       "\t6 & -2.2087 \\\\\n",
       "\t7 & 0.760121 \\\\\n",
       "\t8 & 3.71205 \\\\\n",
       "\t9 & -0.991255 \\\\\n",
       "\t10 & -0.752966 \\\\\n",
       "\t11 & 1.69146 \\\\\n",
       "\t12 & 7.09431 \\\\\n",
       "\t13 & -1.37356 \\\\\n",
       "\t14 & 1.77833 \\\\\n",
       "\t15 & 0.393106 \\\\\n",
       "\t16 & -0.432772 \\\\\n",
       "\t17 & -28.0516 \\\\\n",
       "\t18 & -0.418224 \\\\\n",
       "\t19 & 0.45737 \\\\\n",
       "\t20 & -10.0861 \\\\\n",
       "\t21 & 1.25713 \\\\\n",
       "\t22 & 0.960021 \\\\\n",
       "\t23 & -0.645508 \\\\\n",
       "\t24 & -0.434755 \\\\\n",
       "\t25 & -0.585303 \\\\\n",
       "\t26 & 1.70246 \\\\\n",
       "\t27 & -0.335852 \\\\\n",
       "\t28 & 2.00834 \\\\\n",
       "\t29 & 2.16901 \\\\\n",
       "\t30 & 0.132336 \\\\\n",
       "\t$\\dots$ & $\\dots$ \\\\\n",
       "\\end{tabular}\n"
      ],
      "text/plain": [
       "99999×1 DataFrame\n",
       "│ Row   │ 2.98684246651102 │\n",
       "│       │ \u001b[90mAny\u001b[39m              │\n",
       "├───────┼──────────────────┤\n",
       "│ 1     │ -19.5893         │\n",
       "│ 2     │ -0.268869        │\n",
       "│ 3     │ 13.2258          │\n",
       "│ 4     │ -0.597496        │\n",
       "│ 5     │ -1.11912         │\n",
       "│ 6     │ -2.2087          │\n",
       "│ 7     │ 0.760121         │\n",
       "│ 8     │ 3.71205          │\n",
       "│ 9     │ -0.991255        │\n",
       "│ 10    │ -0.752966        │\n",
       "⋮\n",
       "│ 99989 │ 0.222982         │\n",
       "│ 99990 │ 1.17513          │\n",
       "│ 99991 │ -0.285164        │\n",
       "│ 99992 │ -17.8424         │\n",
       "│ 99993 │ -0.958832        │\n",
       "│ 99994 │ -0.805336        │\n",
       "│ 99995 │ 1.73666          │\n",
       "│ 99996 │ 7.78611          │\n",
       "│ 99997 │ -0.836852        │\n",
       "│ 99998 │ 2.3791           │\n",
       "│ 99999 │ 0.0938323        │"
      ]
     },
     "execution_count": 2,
     "metadata": {},
     "output_type": "execute_result"
    }
   ],
   "source": [
    "#distribucion_3 =open(\"Distribucion3.txt\",\"w\") #readdlm (\" Distribucion1.txt \",´´, Float64 )\n",
    "data2=DataFrame(XLSX.readtable(\"Distribucion3.xlsx\", \"Hoja1\")...)"
   ]
  },
  {
   "cell_type": "code",
   "execution_count": 3,
   "metadata": {},
   "outputs": [
    {
     "ename": "LoadError",
     "evalue": "Cannot convert DataFrame to series data for plotting",
     "output_type": "error",
     "traceback": [
      "Cannot convert DataFrame to series data for plotting",
      "",
      "Stacktrace:",
      " [1] error(::String) at .\\error.jl:33",
      " [2] _prepare_series_data(::DataFrame) at C:\\Users\\marth\\.julia\\packages\\RecipesPipeline\\tkFmN\\src\\series.jl:8",
      " [3] _series_data_vector(::DataFrame, ::Dict{Symbol,Any}) at C:\\Users\\marth\\.julia\\packages\\RecipesPipeline\\tkFmN\\src\\series.jl:27",
      " [4] macro expansion at C:\\Users\\marth\\.julia\\packages\\RecipesPipeline\\tkFmN\\src\\series.jl:139 [inlined]",
      " [5] apply_recipe(::AbstractDict{Symbol,Any}, ::Type{RecipesPipeline.SliceIt}, ::Any, ::Any, ::Any) at C:\\Users\\marth\\.julia\\packages\\RecipesBase\\92zOw\\src\\RecipesBase.jl:282",
      " [6] _process_userrecipes!(::Plots.Plot{Plots.GRBackend}, ::Dict{Symbol,Any}, ::Tuple{DataFrame}) at C:\\Users\\marth\\.julia\\packages\\RecipesPipeline\\tkFmN\\src\\user_recipe.jl:35",
      " [7] recipe_pipeline!(::Plots.Plot{Plots.GRBackend}, ::Dict{Symbol,Any}, ::Tuple{DataFrame}) at C:\\Users\\marth\\.julia\\packages\\RecipesPipeline\\tkFmN\\src\\RecipesPipeline.jl:69",
      " [8] _plot!(::Plots.Plot{Plots.GRBackend}, ::Dict{Symbol,Any}, ::Tuple{DataFrame}) at C:\\Users\\marth\\.julia\\packages\\Plots\\hooUV\\src\\plot.jl:167",
      " [9] plot(::DataFrame; kw::Base.Iterators.Pairs{Symbol,Any,Tuple{Symbol,Symbol,Symbol},NamedTuple{(:bins, :weights, :seriestype),Tuple{Int64,Array{Int64,1},Symbol}}}) at C:\\Users\\marth\\.julia\\packages\\Plots\\hooUV\\src\\plot.jl:57",
      " [10] #histogram#355 at C:\\Users\\marth\\.julia\\packages\\RecipesBase\\92zOw\\src\\RecipesBase.jl:403 [inlined]",
      " [11] top-level scope at In[3]:1",
      " [12] include_string(::Function, ::Module, ::String, ::String) at .\\loading.jl:1091"
     ]
    }
   ],
   "source": [
    "histogram(data2, bins =5, weights = repeat(1:5, outer = 200))"
   ]
  }
 ],
 "metadata": {
  "kernelspec": {
   "display_name": "Julia 1.5.1",
   "language": "julia",
   "name": "julia-1.5"
  },
  "language_info": {
   "file_extension": ".jl",
   "mimetype": "application/julia",
   "name": "julia",
   "version": "1.5.1"
  }
 },
 "nbformat": 4,
 "nbformat_minor": 4
}
