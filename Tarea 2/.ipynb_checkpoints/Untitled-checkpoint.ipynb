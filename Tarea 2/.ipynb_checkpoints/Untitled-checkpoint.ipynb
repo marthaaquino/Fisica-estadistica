{
 "cells": [
  {
   "cell_type": "code",
   "execution_count": 15,
   "metadata": {},
   "outputs": [],
   "source": [
    "using DelimitedFiles\n",
    "using Plots\n",
    "using LaTeXStrings\n",
    "using DelimitedFiles\n",
    "using ExcelFiles\n",
    "using XLSX\n",
    "using DataFrames\n",
    "using StatsBase\n",
    "#datos = readdlm (\" t_acel . dat \",’ ’, Float64 )"
   ]
  },
  {
   "cell_type": "code",
   "execution_count": 29,
   "metadata": {},
   "outputs": [
    {
     "data": {
      "text/plain": [
       "100000×1 Array{Any,2}:\n",
       "   2.98684246651102\n",
       " -19.5892515589905\n",
       "  -0.268869344082539\n",
       "  13.2258303458617\n",
       "  -0.597495975080682\n",
       "  -1.11911620363744\n",
       "  -2.20869691452513\n",
       "   0.760121143632319\n",
       "   3.71205478613273\n",
       "  -0.991255284956851\n",
       "  -0.752965735821724\n",
       "   1.69146255772746\n",
       "   7.09430585751257\n",
       "   ⋮\n",
       "   0.925329645993709\n",
       "   0.222981519130853\n",
       "   1.17513468483942\n",
       "  -0.285164329581439\n",
       " -17.842364031938\n",
       "  -0.958832398937174\n",
       "  -0.80533644447578\n",
       "   1.73666042414532\n",
       "   7.78611134167339\n",
       "  -0.83685219343973\n",
       "   2.37909799276922\n",
       "   0.0938322985320633"
      ]
     },
     "execution_count": 29,
     "metadata": {},
     "output_type": "execute_result"
    }
   ],
   "source": [
    "#distribucion_3 =open(\"Distribucion3.txt\",\"w\") #readdlm (\" Distribucion1.txt \",´´, Float64 )\n",
    "distribucion_3=XLSX.readdata(\"Distribucion3.xlsx\", \"Hoja1!A1:A100000\")\n",
    "#XLSX.readdata(\"myfile.xlsx\", \"mysheet!A1:B3\")"
   ]
  },
  {
   "cell_type": "code",
   "execution_count": 34,
   "metadata": {},
   "outputs": [],
   "source": [
    "data=[]\n",
    "for i in 1:100000\n",
    "   push!(data,distribucion_3[i]) \n",
    "end"
   ]
  },
  {
   "cell_type": "code",
   "execution_count": 35,
   "metadata": {},
   "outputs": [
    {
     "data": {
      "text/plain": [
       "100000-element Array{Any,1}:\n",
       " -34140.8590516303\n",
       "  -8550.94222747559\n",
       "  -8271.76065689659\n",
       "  -5671.4202026848\n",
       "  -5377.91524151778\n",
       "  -5341.37757851113\n",
       "  -5276.27569687633\n",
       "  -5081.01372721341\n",
       "  -4726.1744242089\n",
       "  -3296.31591320599\n",
       "  -2695.68265942964\n",
       "  -2653.52636814397\n",
       "  -2467.09903173071\n",
       "      ⋮\n",
       "   2389.93162028681\n",
       "   2636.39867198009\n",
       "   3243.27857155921\n",
       "   4515.12984605735\n",
       "   6742.57600163529\n",
       "   7358.99445758054\n",
       "   7881.44251998354\n",
       "   8029.2202814163\n",
       "   8755.77600601352\n",
       "  11586.0718758871\n",
       "  12822.1689112673\n",
       "  85701.0567530908"
      ]
     },
     "execution_count": 35,
     "metadata": {},
     "output_type": "execute_result"
    }
   ],
   "source": [
    "#Ordenamos los datos de menor a mayor\n",
    "distribucion3=sort(data)"
   ]
  },
  {
   "cell_type": "code",
   "execution_count": 128,
   "metadata": {},
   "outputs": [
    {
     "data": {
      "text/plain": [
       "23968"
      ]
     },
     "execution_count": 128,
     "metadata": {},
     "output_type": "execute_result"
    }
   ],
   "source": [
    "#(distribucion3[end]-distribucion3[1])/5\n",
    "convert(Int64, round(((distribucion3[end]-distribucion3[1])/5), digits=0))"
   ]
  },
  {
   "cell_type": "code",
   "execution_count": 137,
   "metadata": {},
   "outputs": [
    {
     "data": {
      "text/plain": [
       "valores (generic function with 1 method)"
      ]
     },
     "execution_count": 137,
     "metadata": {},
     "output_type": "execute_result"
    }
   ],
   "source": [
    "function valores(datos,bin)\n",
    "    longitud=datos[end]-datos[1]\n",
    "    particion=23968#convert(Int64, round((longitud/bin), digits=0))\n",
    "    conjuntos=zeros(particion)\n",
    "    repeticiones=zeros(particion)\n",
    "    \n",
    "    #for i in 1:\n",
    "    for i in 1:particion\n",
    "        conjuntos[i]=[]\n",
    "        for j in 1:length(datos)\n",
    "            if datos[j]<=datos[1]+(bin*i) \n",
    "                push!(conjuntos[i],datos[j])\n",
    "            else\n",
    "                false\n",
    "            end\n",
    "        end\n",
    "    end\n",
    "    \n",
    "    for i in 1:particion\n",
    "        repeticiones[i]=length(conjuntos[i])\n",
    "    end\n",
    "    return repeticiones\n",
    "    \n",
    "end\n"
   ]
  },
  {
   "cell_type": "code",
   "execution_count": 141,
   "metadata": {},
   "outputs": [
    {
     "ename": "LoadError",
     "evalue": "MethodError: Cannot `convert` an object of type Array{Any,1} to an object of type Float64\nClosest candidates are:\n  convert(::Type{T}, !Matched::T) where T<:Number at number.jl:6\n  convert(::Type{T}, !Matched::Number) where T<:Number at number.jl:7\n  convert(::Type{T}, !Matched::Base.TwicePrecision) where T<:Number at twiceprecision.jl:250\n  ...",
     "output_type": "error",
     "traceback": [
      "MethodError: Cannot `convert` an object of type Array{Any,1} to an object of type Float64\nClosest candidates are:\n  convert(::Type{T}, !Matched::T) where T<:Number at number.jl:6\n  convert(::Type{T}, !Matched::Number) where T<:Number at number.jl:7\n  convert(::Type{T}, !Matched::Base.TwicePrecision) where T<:Number at twiceprecision.jl:250\n  ...",
      "",
      "Stacktrace:",
      " [1] setindex!(::Array{Float64,1}, ::Array{Any,1}, ::Int64) at .\\array.jl:847",
      " [2] valores(::Array{Any,1}, ::Int64) at .\\In[137]:9",
      " [3] top-level scope at In[141]:1",
      " [4] include_string(::Function, ::Module, ::String, ::String) at .\\loading.jl:1091"
     ]
    }
   ],
   "source": [
    "valores(distribucion3,5)"
   ]
  },
  {
   "cell_type": "code",
   "execution_count": 131,
   "metadata": {},
   "outputs": [
    {
     "ename": "LoadError",
     "evalue": "DomainError with -34140.8590516303:\nlog will only return a complex result if called with a complex argument. Try log(Complex(x)).",
     "output_type": "error",
     "traceback": [
      "DomainError with -34140.8590516303:\nlog will only return a complex result if called with a complex argument. Try log(Complex(x)).",
      "",
      "Stacktrace:",
      " [1] throw_complex_domainerror(::Symbol, ::Float64) at .\\math.jl:33",
      " [2] log(::Float64) at .\\special\\log.jl:285",
      " [3] log at .\\math.jl:265 [inlined]",
      " [4] log(::Int64, ::Float64) at .\\math.jl:308",
      " [5] top-level scope at .\\In[131]:3",
      " [6] include_string(::Function, ::Module, ::String, ::String) at .\\loading.jl:1091"
     ]
    }
   ],
   "source": [
    "dis=zeros(length(distribucion3))\n",
    "for i in 1:length(distribucion3)\n",
    "    dis[i]=log(10,distribucion3[i])\n",
    "end"
   ]
  },
  {
   "cell_type": "code",
   "execution_count": 130,
   "metadata": {},
   "outputs": [
    {
     "ename": "LoadError",
     "evalue": "MethodError: no method matching log(::Int64, ::Array{Any,1})\nClosest candidates are:\n  log(::Real) at special/log.jl:395\n  log(::T, !Matched::T) where T<:Number at math.jl:265\n  log(::Number, !Matched::Number) at math.jl:308",
     "output_type": "error",
     "traceback": [
      "MethodError: no method matching log(::Int64, ::Array{Any,1})\nClosest candidates are:\n  log(::Real) at special/log.jl:395\n  log(::T, !Matched::T) where T<:Number at math.jl:265\n  log(::Number, !Matched::Number) at math.jl:308",
      "",
      "Stacktrace:",
      " [1] top-level scope at In[130]:1",
      " [2] include_string(::Function, ::Module, ::String, ::String) at .\\loading.jl:1091"
     ]
    }
   ],
   "source": [
    "histogram(log(10,distribucion3),bins=range(-500,length=5))"
   ]
  },
  {
   "cell_type": "code",
   "execution_count": 98,
   "metadata": {},
   "outputs": [
    {
     "name": "stdout",
     "output_type": "stream",
     "text": [
      "search: \u001b[0m\u001b[1mI\u001b[22m\u001b[0m\u001b[1mn\u001b[22m\u001b[0m\u001b[1mt\u001b[22m \u001b[0m\u001b[1mI\u001b[22m\u001b[0m\u001b[1mn\u001b[22m\u001b[0m\u001b[1mt\u001b[22m8 \u001b[0m\u001b[1mI\u001b[22m\u001b[0m\u001b[1mn\u001b[22m\u001b[0m\u001b[1mt\u001b[22m64 \u001b[0m\u001b[1mI\u001b[22m\u001b[0m\u001b[1mn\u001b[22m\u001b[0m\u001b[1mt\u001b[22m32 \u001b[0m\u001b[1mI\u001b[22m\u001b[0m\u001b[1mn\u001b[22m\u001b[0m\u001b[1mt\u001b[22m16 \u001b[0m\u001b[1mI\u001b[22m\u001b[0m\u001b[1mn\u001b[22m\u001b[0m\u001b[1mt\u001b[22m128 \u001b[0m\u001b[1mI\u001b[22m\u001b[0m\u001b[1mn\u001b[22m\u001b[0m\u001b[1mt\u001b[22meger \u001b[0m\u001b[1mi\u001b[22m\u001b[0m\u001b[1mn\u001b[22m\u001b[0m\u001b[1mt\u001b[22mersect \u001b[0m\u001b[1mi\u001b[22m\u001b[0m\u001b[1mn\u001b[22m\u001b[0m\u001b[1mt\u001b[22mersect!\n",
      "\n"
     ]
    },
    {
     "data": {
      "text/latex": [
       "\\begin{verbatim}\n",
       "Int64 <: Signed\n",
       "\\end{verbatim}\n",
       "64-bit signed integer type.\n",
       "\n"
      ],
      "text/markdown": [
       "```\n",
       "Int64 <: Signed\n",
       "```\n",
       "\n",
       "64-bit signed integer type.\n"
      ],
      "text/plain": [
       "\u001b[36m  Int64 <: Signed\u001b[39m\n",
       "\n",
       "  64-bit signed integer type."
      ]
     },
     "execution_count": 98,
     "metadata": {},
     "output_type": "execute_result"
    }
   ],
   "source": [
    "?Int"
   ]
  }
 ],
 "metadata": {
  "kernelspec": {
   "display_name": "Julia 1.5.1",
   "language": "julia",
   "name": "julia-1.5"
  },
  "language_info": {
   "file_extension": ".jl",
   "mimetype": "application/julia",
   "name": "julia",
   "version": "1.5.1"
  }
 },
 "nbformat": 4,
 "nbformat_minor": 4
}
